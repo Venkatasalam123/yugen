{
 "cells": [
  {
   "cell_type": "markdown",
   "id": "172e625a",
   "metadata": {},
   "source": [
    "## Import Libraries"
   ]
  },
  {
   "cell_type": "code",
   "execution_count": 382,
   "id": "ed7bda32",
   "metadata": {},
   "outputs": [],
   "source": [
    "import numpy as np\n",
    "import pandas as pd\n",
    "from datetime import datetime\n",
    "import matplotlib.pyplot as plt\n",
    "import seaborn as sns\n",
    "import scipy\n",
    "from sklearn.preprocessing import LabelEncoder\n",
    "from sklearn.tree import DecisionTreeClassifier\n",
    "from sklearn.ensemble import RandomForestClassifier\n",
    "from sklearn.linear_model import LogisticRegression\n",
    "from sklearn.model_selection import train_test_split\n",
    "from sklearn.metrics import confusion_matrix\n",
    "from sklearn.preprocessing import StandardScaler\n",
    "from tensorflow.keras.models import Sequential\n",
    "from tensorflow.keras.layers import Dense\n",
    "from statsmodels.tsa.arima.model import ARIMA\n",
    "from sklearn.model_selection import GridSearchCV\n",
    "from sklearn.metrics import accuracy_score\n",
    "from tensorflow.keras.utils import to_categorical\n",
    "from tensorflow.keras import regularizers, optimizers\n",
    "from tensorflow.keras.layers import Dense, Dropout, BatchNormalization, Activation\n",
    "from sklearn.metrics import precision_recall_fscore_support as score\n",
    "import warnings\n",
    "warnings.filterwarnings(\"ignore\")"
   ]
  },
  {
   "cell_type": "markdown",
   "id": "26ccf08c",
   "metadata": {},
   "source": [
    "## Read Data"
   ]
  },
  {
   "cell_type": "code",
   "execution_count": 231,
   "id": "ca2490c0",
   "metadata": {},
   "outputs": [],
   "source": [
    "historical_data = pd.read_csv('historical_data.csv')\n",
    "current_inventory_data = pd.read_csv('current_inventory_data.csv')\n",
    "commission_table = pd.read_csv('commission_table.csv')"
   ]
  },
  {
   "cell_type": "code",
   "execution_count": 232,
   "id": "bca75647",
   "metadata": {},
   "outputs": [],
   "source": [
    "# combined_data_copy = pd.concat([historical_data, current_inventory_data])"
   ]
  },
  {
   "cell_type": "code",
   "execution_count": 233,
   "id": "a6a40c66",
   "metadata": {},
   "outputs": [],
   "source": [
    "combined_data = pd.concat([historical_data, current_inventory_data])"
   ]
  },
  {
   "cell_type": "markdown",
   "id": "8a24190f",
   "metadata": {},
   "source": [
    "## Display the shape of the data"
   ]
  },
  {
   "cell_type": "code",
   "execution_count": 234,
   "id": "97744679",
   "metadata": {},
   "outputs": [
    {
     "name": "stdout",
     "output_type": "stream",
     "text": [
      "Rows and columns in historical_data are 685582 , 24\n",
      "Rows and columns in current_inventory_data are 25000 , 24\n",
      "Rows and columns in commission_table are 138 , 3\n",
      "Rows and columns in combined_data are 710582 , 24\n"
     ]
    }
   ],
   "source": [
    "print('Rows and columns in historical_data are',historical_data.shape[0], ',',historical_data.shape[1])\n",
    "print('Rows and columns in current_inventory_data are',current_inventory_data.shape[0], ',',current_inventory_data.shape[1])\n",
    "print('Rows and columns in commission_table are',commission_table.shape[0], ',',commission_table.shape[1])\n",
    "print('Rows and columns in combined_data are',combined_data.shape[0], ',',combined_data.shape[1])"
   ]
  },
  {
   "cell_type": "markdown",
   "id": "8f65fdc3",
   "metadata": {},
   "source": [
    "## Display few records"
   ]
  },
  {
   "cell_type": "code",
   "execution_count": 235,
   "id": "5571105a",
   "metadata": {},
   "outputs": [
    {
     "data": {
      "text/html": [
       "<div>\n",
       "<style scoped>\n",
       "    .dataframe tbody tr th:only-of-type {\n",
       "        vertical-align: middle;\n",
       "    }\n",
       "\n",
       "    .dataframe tbody tr th {\n",
       "        vertical-align: top;\n",
       "    }\n",
       "\n",
       "    .dataframe thead th {\n",
       "        text-align: right;\n",
       "    }\n",
       "</style>\n",
       "<table border=\"1\" class=\"dataframe\">\n",
       "  <thead>\n",
       "    <tr style=\"text-align: right;\">\n",
       "      <th></th>\n",
       "      <th>Unnamed: 0</th>\n",
       "      <th>maker</th>\n",
       "      <th>model</th>\n",
       "      <th>mileage</th>\n",
       "      <th>manufacture_year</th>\n",
       "      <th>engine_displacement</th>\n",
       "      <th>engine_power</th>\n",
       "      <th>body_type</th>\n",
       "      <th>color_slug</th>\n",
       "      <th>stk_year</th>\n",
       "      <th>...</th>\n",
       "      <th>date_created</th>\n",
       "      <th>date_last_seen</th>\n",
       "      <th>price_eur</th>\n",
       "      <th>sold_flag</th>\n",
       "      <th>height_of_picture</th>\n",
       "      <th>width_of_picture</th>\n",
       "      <th>aspect_ratio</th>\n",
       "      <th>no_of_pictures</th>\n",
       "      <th>test1</th>\n",
       "      <th>test2</th>\n",
       "    </tr>\n",
       "  </thead>\n",
       "  <tbody>\n",
       "    <tr>\n",
       "      <th>0</th>\n",
       "      <td>362271</td>\n",
       "      <td>ford</td>\n",
       "      <td>focus</td>\n",
       "      <td>92000.0</td>\n",
       "      <td>2006.0</td>\n",
       "      <td>1596.0</td>\n",
       "      <td>85.0</td>\n",
       "      <td>coupe</td>\n",
       "      <td>blue</td>\n",
       "      <td>NaN</td>\n",
       "      <td>...</td>\n",
       "      <td>2017-02-14 17:34:38.809116+00</td>\n",
       "      <td>2017-02-14 17:34:38.809116+00</td>\n",
       "      <td>1295.34</td>\n",
       "      <td>1</td>\n",
       "      <td>?</td>\n",
       "      <td>?</td>\n",
       "      <td>?</td>\n",
       "      <td>3</td>\n",
       "      <td>2017-02-14 17:34:38.809116+00</td>\n",
       "      <td>2017-02-14 17:34:38.809116+00</td>\n",
       "    </tr>\n",
       "    <tr>\n",
       "      <th>1</th>\n",
       "      <td>458002</td>\n",
       "      <td>NaN</td>\n",
       "      <td>NaN</td>\n",
       "      <td>22000.0</td>\n",
       "      <td>2013.0</td>\n",
       "      <td>1560.0</td>\n",
       "      <td>85.0</td>\n",
       "      <td>NaN</td>\n",
       "      <td>NaN</td>\n",
       "      <td>None</td>\n",
       "      <td>...</td>\n",
       "      <td>2015-12-02 09:31:25.571302+00</td>\n",
       "      <td>2015-12-14 05:16:59.23886+00</td>\n",
       "      <td>14991.67</td>\n",
       "      <td>0</td>\n",
       "      <td>62</td>\n",
       "      <td>88</td>\n",
       "      <td>1.4193</td>\n",
       "      <td>6</td>\n",
       "      <td>2015-12-02 09:31:25.571302+00</td>\n",
       "      <td>2015-12-14 05:16:59.23886+00</td>\n",
       "    </tr>\n",
       "    <tr>\n",
       "      <th>2</th>\n",
       "      <td>609404</td>\n",
       "      <td>volkswagen</td>\n",
       "      <td>polo</td>\n",
       "      <td>29680.0</td>\n",
       "      <td>2013.0</td>\n",
       "      <td>1197.0</td>\n",
       "      <td>66.0</td>\n",
       "      <td>other</td>\n",
       "      <td>NaN</td>\n",
       "      <td>NaN</td>\n",
       "      <td>...</td>\n",
       "      <td>2016-02-26 10:59:10.921811+00</td>\n",
       "      <td>2016-07-03 19:25:35.777411+00</td>\n",
       "      <td>12460.00</td>\n",
       "      <td>0</td>\n",
       "      <td>?</td>\n",
       "      <td>?</td>\n",
       "      <td>?</td>\n",
       "      <td>4</td>\n",
       "      <td>2016-02-26 10:59:10.921811+00</td>\n",
       "      <td>2016-07-03 19:25:35.777411+00</td>\n",
       "    </tr>\n",
       "    <tr>\n",
       "      <th>3</th>\n",
       "      <td>330169</td>\n",
       "      <td>skoda</td>\n",
       "      <td>NaN</td>\n",
       "      <td>22100.0</td>\n",
       "      <td>2015.0</td>\n",
       "      <td>1598.0</td>\n",
       "      <td>66.0</td>\n",
       "      <td>other</td>\n",
       "      <td>NaN</td>\n",
       "      <td>2018</td>\n",
       "      <td>...</td>\n",
       "      <td>2016-03-05 11:12:58.5208+00</td>\n",
       "      <td>2011-07-03 17:38:05.783742+00</td>\n",
       "      <td>14590.00</td>\n",
       "      <td>1</td>\n",
       "      <td>30</td>\n",
       "      <td>100</td>\n",
       "      <td>3.3333</td>\n",
       "      <td>5</td>\n",
       "      <td>2016-03-05 11:12:58.5208+00</td>\n",
       "      <td>2016-07-03 17:38:05.783742+00</td>\n",
       "    </tr>\n",
       "    <tr>\n",
       "      <th>4</th>\n",
       "      <td>111047</td>\n",
       "      <td>ford</td>\n",
       "      <td>transit</td>\n",
       "      <td>57690.0</td>\n",
       "      <td>2010.0</td>\n",
       "      <td>2198.0</td>\n",
       "      <td>63.0</td>\n",
       "      <td>NaN</td>\n",
       "      <td>NaN</td>\n",
       "      <td>None</td>\n",
       "      <td>...</td>\n",
       "      <td>2015-12-18 14:46:32.397086+00</td>\n",
       "      <td>2016-02-16 15:00:04.57898+00</td>\n",
       "      <td>10046.08</td>\n",
       "      <td>0</td>\n",
       "      <td>23</td>\n",
       "      <td>26</td>\n",
       "      <td>1.1304</td>\n",
       "      <td>7</td>\n",
       "      <td>2015-12-18 14:46:32.397086+00</td>\n",
       "      <td>2016-02-16 15:00:04.57898+00</td>\n",
       "    </tr>\n",
       "  </tbody>\n",
       "</table>\n",
       "<p>5 rows × 24 columns</p>\n",
       "</div>"
      ],
      "text/plain": [
       "   Unnamed: 0       maker    model  mileage  manufacture_year  \\\n",
       "0      362271        ford    focus  92000.0            2006.0   \n",
       "1      458002         NaN      NaN  22000.0            2013.0   \n",
       "2      609404  volkswagen     polo  29680.0            2013.0   \n",
       "3      330169       skoda      NaN  22100.0            2015.0   \n",
       "4      111047        ford  transit  57690.0            2010.0   \n",
       "\n",
       "   engine_displacement  engine_power body_type color_slug stk_year  ...  \\\n",
       "0               1596.0          85.0     coupe       blue      NaN  ...   \n",
       "1               1560.0          85.0       NaN        NaN     None  ...   \n",
       "2               1197.0          66.0     other        NaN      NaN  ...   \n",
       "3               1598.0          66.0     other        NaN     2018  ...   \n",
       "4               2198.0          63.0       NaN        NaN     None  ...   \n",
       "\n",
       "                    date_created                 date_last_seen price_eur  \\\n",
       "0  2017-02-14 17:34:38.809116+00  2017-02-14 17:34:38.809116+00   1295.34   \n",
       "1  2015-12-02 09:31:25.571302+00   2015-12-14 05:16:59.23886+00  14991.67   \n",
       "2  2016-02-26 10:59:10.921811+00  2016-07-03 19:25:35.777411+00  12460.00   \n",
       "3    2016-03-05 11:12:58.5208+00  2011-07-03 17:38:05.783742+00  14590.00   \n",
       "4  2015-12-18 14:46:32.397086+00   2016-02-16 15:00:04.57898+00  10046.08   \n",
       "\n",
       "  sold_flag height_of_picture width_of_picture  aspect_ratio  no_of_pictures  \\\n",
       "0         1                 ?                ?             ?               3   \n",
       "1         0                62               88        1.4193               6   \n",
       "2         0                 ?                ?             ?               4   \n",
       "3         1                30              100        3.3333               5   \n",
       "4         0                23               26        1.1304               7   \n",
       "\n",
       "                           test1                          test2  \n",
       "0  2017-02-14 17:34:38.809116+00  2017-02-14 17:34:38.809116+00  \n",
       "1  2015-12-02 09:31:25.571302+00   2015-12-14 05:16:59.23886+00  \n",
       "2  2016-02-26 10:59:10.921811+00  2016-07-03 19:25:35.777411+00  \n",
       "3    2016-03-05 11:12:58.5208+00  2016-07-03 17:38:05.783742+00  \n",
       "4  2015-12-18 14:46:32.397086+00   2016-02-16 15:00:04.57898+00  \n",
       "\n",
       "[5 rows x 24 columns]"
      ]
     },
     "execution_count": 235,
     "metadata": {},
     "output_type": "execute_result"
    }
   ],
   "source": [
    "historical_data.head()"
   ]
  },
  {
   "cell_type": "code",
   "execution_count": 236,
   "id": "531e0044",
   "metadata": {},
   "outputs": [
    {
     "data": {
      "text/html": [
       "<div>\n",
       "<style scoped>\n",
       "    .dataframe tbody tr th:only-of-type {\n",
       "        vertical-align: middle;\n",
       "    }\n",
       "\n",
       "    .dataframe tbody tr th {\n",
       "        vertical-align: top;\n",
       "    }\n",
       "\n",
       "    .dataframe thead th {\n",
       "        text-align: right;\n",
       "    }\n",
       "</style>\n",
       "<table border=\"1\" class=\"dataframe\">\n",
       "  <thead>\n",
       "    <tr style=\"text-align: right;\">\n",
       "      <th></th>\n",
       "      <th>Unnamed: 0</th>\n",
       "      <th>maker</th>\n",
       "      <th>model</th>\n",
       "      <th>mileage</th>\n",
       "      <th>manufacture_year</th>\n",
       "      <th>engine_displacement</th>\n",
       "      <th>engine_power</th>\n",
       "      <th>body_type</th>\n",
       "      <th>color_slug</th>\n",
       "      <th>stk_year</th>\n",
       "      <th>...</th>\n",
       "      <th>date_created</th>\n",
       "      <th>date_last_seen</th>\n",
       "      <th>price_eur</th>\n",
       "      <th>sold_flag</th>\n",
       "      <th>height_of_picture</th>\n",
       "      <th>width_of_picture</th>\n",
       "      <th>aspect_ratio</th>\n",
       "      <th>no_of_pictures</th>\n",
       "      <th>test1</th>\n",
       "      <th>test2</th>\n",
       "    </tr>\n",
       "  </thead>\n",
       "  <tbody>\n",
       "    <tr>\n",
       "      <th>0</th>\n",
       "      <td>9040</td>\n",
       "      <td>volkswagen</td>\n",
       "      <td>sharan</td>\n",
       "      <td>194000.0</td>\n",
       "      <td>1900.0</td>\n",
       "      <td>1896.0</td>\n",
       "      <td>85.0</td>\n",
       "      <td>van</td>\n",
       "      <td>blue</td>\n",
       "      <td>NaN</td>\n",
       "      <td>...</td>\n",
       "      <td>2016-12-29 16:02:25.656542+00</td>\n",
       "      <td>2017-02-09 02:10:59.686135+00</td>\n",
       "      <td>1295.34</td>\n",
       "      <td>0</td>\n",
       "      <td>24</td>\n",
       "      <td>120</td>\n",
       "      <td>5</td>\n",
       "      <td>5</td>\n",
       "      <td>2016-12-29 16:02:25.656542+00</td>\n",
       "      <td>2017-02-09 02:10:59.686135+00</td>\n",
       "    </tr>\n",
       "    <tr>\n",
       "      <th>1</th>\n",
       "      <td>339499</td>\n",
       "      <td>audi</td>\n",
       "      <td>200</td>\n",
       "      <td>NaN</td>\n",
       "      <td>2007.0</td>\n",
       "      <td>8400.0</td>\n",
       "      <td>NaN</td>\n",
       "      <td>other</td>\n",
       "      <td>NaN</td>\n",
       "      <td>NaN</td>\n",
       "      <td>...</td>\n",
       "      <td>2016-02-12 10:45:29.950636+00</td>\n",
       "      <td>2016-07-03 18:19:20.659466+00</td>\n",
       "      <td>12176.17</td>\n",
       "      <td>0</td>\n",
       "      <td>?</td>\n",
       "      <td>?</td>\n",
       "      <td>?</td>\n",
       "      <td>2</td>\n",
       "      <td>2016-02-12 10:45:29.950636+00</td>\n",
       "      <td>2016-07-03 18:19:20.659466+00</td>\n",
       "    </tr>\n",
       "    <tr>\n",
       "      <th>2</th>\n",
       "      <td>408516</td>\n",
       "      <td>skoda</td>\n",
       "      <td>octavia</td>\n",
       "      <td>0.0</td>\n",
       "      <td>2005.0</td>\n",
       "      <td>NaN</td>\n",
       "      <td>55.0</td>\n",
       "      <td>other</td>\n",
       "      <td>NaN</td>\n",
       "      <td>NaN</td>\n",
       "      <td>...</td>\n",
       "      <td>2016-12-05 17:41:06.32795+00</td>\n",
       "      <td>2016-12-18 07:55:35.445992+00</td>\n",
       "      <td>1295.34</td>\n",
       "      <td>1</td>\n",
       "      <td>38</td>\n",
       "      <td>198</td>\n",
       "      <td>5.2105</td>\n",
       "      <td>4</td>\n",
       "      <td>2016-12-05 17:41:06.32795+00</td>\n",
       "      <td>2016-12-18 07:55:35.445992+00</td>\n",
       "    </tr>\n",
       "    <tr>\n",
       "      <th>3</th>\n",
       "      <td>193240</td>\n",
       "      <td>mercedes-benz</td>\n",
       "      <td>NaN</td>\n",
       "      <td>6990.0</td>\n",
       "      <td>2014.0</td>\n",
       "      <td>1595.0</td>\n",
       "      <td>90.0</td>\n",
       "      <td>nan</td>\n",
       "      <td>NaN</td>\n",
       "      <td>2017</td>\n",
       "      <td>...</td>\n",
       "      <td>2016-01-26 01:58:34.274634+00</td>\n",
       "      <td>2016-02-11 07:51:10.138757+00</td>\n",
       "      <td>26880.00</td>\n",
       "      <td>0</td>\n",
       "      <td>?</td>\n",
       "      <td>?</td>\n",
       "      <td>?</td>\n",
       "      <td>3</td>\n",
       "      <td>2016-01-26 01:58:34.274634+00</td>\n",
       "      <td>2016-02-11 07:51:10.138757+00</td>\n",
       "    </tr>\n",
       "    <tr>\n",
       "      <th>4</th>\n",
       "      <td>409936</td>\n",
       "      <td>volkswagen</td>\n",
       "      <td>golf-sportsvan</td>\n",
       "      <td>0.0</td>\n",
       "      <td>2015.0</td>\n",
       "      <td>1395.0</td>\n",
       "      <td>92.0</td>\n",
       "      <td>other</td>\n",
       "      <td>NaN</td>\n",
       "      <td>NaN</td>\n",
       "      <td>...</td>\n",
       "      <td>2016-03-04 11:30:51.295258+00</td>\n",
       "      <td>2016-07-03 17:33:07.548746+00</td>\n",
       "      <td>26532.27</td>\n",
       "      <td>0</td>\n",
       "      <td>60</td>\n",
       "      <td>468</td>\n",
       "      <td>7.8</td>\n",
       "      <td>3</td>\n",
       "      <td>2016-03-04 11:30:51.295258+00</td>\n",
       "      <td>2016-07-03 17:33:07.548746+00</td>\n",
       "    </tr>\n",
       "  </tbody>\n",
       "</table>\n",
       "<p>5 rows × 24 columns</p>\n",
       "</div>"
      ],
      "text/plain": [
       "   Unnamed: 0          maker           model   mileage  manufacture_year  \\\n",
       "0        9040     volkswagen          sharan  194000.0            1900.0   \n",
       "1      339499           audi             200       NaN            2007.0   \n",
       "2      408516          skoda         octavia       0.0            2005.0   \n",
       "3      193240  mercedes-benz             NaN    6990.0            2014.0   \n",
       "4      409936     volkswagen  golf-sportsvan       0.0            2015.0   \n",
       "\n",
       "   engine_displacement  engine_power body_type color_slug stk_year  ...  \\\n",
       "0               1896.0          85.0       van       blue      NaN  ...   \n",
       "1               8400.0           NaN     other        NaN      NaN  ...   \n",
       "2                  NaN          55.0     other        NaN      NaN  ...   \n",
       "3               1595.0          90.0       nan        NaN     2017  ...   \n",
       "4               1395.0          92.0     other        NaN      NaN  ...   \n",
       "\n",
       "                    date_created                 date_last_seen price_eur  \\\n",
       "0  2016-12-29 16:02:25.656542+00  2017-02-09 02:10:59.686135+00   1295.34   \n",
       "1  2016-02-12 10:45:29.950636+00  2016-07-03 18:19:20.659466+00  12176.17   \n",
       "2   2016-12-05 17:41:06.32795+00  2016-12-18 07:55:35.445992+00   1295.34   \n",
       "3  2016-01-26 01:58:34.274634+00  2016-02-11 07:51:10.138757+00  26880.00   \n",
       "4  2016-03-04 11:30:51.295258+00  2016-07-03 17:33:07.548746+00  26532.27   \n",
       "\n",
       "  sold_flag height_of_picture width_of_picture  aspect_ratio  no_of_pictures  \\\n",
       "0         0                24              120             5               5   \n",
       "1         0                 ?                ?             ?               2   \n",
       "2         1                38              198        5.2105               4   \n",
       "3         0                 ?                ?             ?               3   \n",
       "4         0                60              468           7.8               3   \n",
       "\n",
       "                           test1                          test2  \n",
       "0  2016-12-29 16:02:25.656542+00  2017-02-09 02:10:59.686135+00  \n",
       "1  2016-02-12 10:45:29.950636+00  2016-07-03 18:19:20.659466+00  \n",
       "2   2016-12-05 17:41:06.32795+00  2016-12-18 07:55:35.445992+00  \n",
       "3  2016-01-26 01:58:34.274634+00  2016-02-11 07:51:10.138757+00  \n",
       "4  2016-03-04 11:30:51.295258+00  2016-07-03 17:33:07.548746+00  \n",
       "\n",
       "[5 rows x 24 columns]"
      ]
     },
     "execution_count": 236,
     "metadata": {},
     "output_type": "execute_result"
    }
   ],
   "source": [
    "current_inventory_data.head()"
   ]
  },
  {
   "cell_type": "code",
   "execution_count": 237,
   "id": "3fbc448c",
   "metadata": {},
   "outputs": [
    {
     "data": {
      "text/html": [
       "<div>\n",
       "<style scoped>\n",
       "    .dataframe tbody tr th:only-of-type {\n",
       "        vertical-align: middle;\n",
       "    }\n",
       "\n",
       "    .dataframe tbody tr th {\n",
       "        vertical-align: top;\n",
       "    }\n",
       "\n",
       "    .dataframe thead th {\n",
       "        text-align: right;\n",
       "    }\n",
       "</style>\n",
       "<table border=\"1\" class=\"dataframe\">\n",
       "  <thead>\n",
       "    <tr style=\"text-align: right;\">\n",
       "      <th></th>\n",
       "      <th>Maker</th>\n",
       "      <th>Year</th>\n",
       "      <th>Commission</th>\n",
       "    </tr>\n",
       "  </thead>\n",
       "  <tbody>\n",
       "    <tr>\n",
       "      <th>0</th>\n",
       "      <td>ford</td>\n",
       "      <td>2015</td>\n",
       "      <td>0.14</td>\n",
       "    </tr>\n",
       "    <tr>\n",
       "      <th>1</th>\n",
       "      <td>skoda</td>\n",
       "      <td>2015</td>\n",
       "      <td>0.02</td>\n",
       "    </tr>\n",
       "    <tr>\n",
       "      <th>2</th>\n",
       "      <td>bmw</td>\n",
       "      <td>2015</td>\n",
       "      <td>0.14</td>\n",
       "    </tr>\n",
       "    <tr>\n",
       "      <th>3</th>\n",
       "      <td>suzuki</td>\n",
       "      <td>2015</td>\n",
       "      <td>0.02</td>\n",
       "    </tr>\n",
       "    <tr>\n",
       "      <th>4</th>\n",
       "      <td>nissan</td>\n",
       "      <td>2015</td>\n",
       "      <td>0.06</td>\n",
       "    </tr>\n",
       "  </tbody>\n",
       "</table>\n",
       "</div>"
      ],
      "text/plain": [
       "    Maker  Year  Commission\n",
       "0    ford  2015        0.14\n",
       "1   skoda  2015        0.02\n",
       "2     bmw  2015        0.14\n",
       "3  suzuki  2015        0.02\n",
       "4  nissan  2015        0.06"
      ]
     },
     "execution_count": 237,
     "metadata": {},
     "output_type": "execute_result"
    }
   ],
   "source": [
    "commission_table.head()"
   ]
  },
  {
   "cell_type": "markdown",
   "id": "01843e7f",
   "metadata": {},
   "source": [
    "## Describe the data"
   ]
  },
  {
   "cell_type": "code",
   "execution_count": 238,
   "id": "d98ee3ab",
   "metadata": {},
   "outputs": [
    {
     "data": {
      "text/html": [
       "<div>\n",
       "<style scoped>\n",
       "    .dataframe tbody tr th:only-of-type {\n",
       "        vertical-align: middle;\n",
       "    }\n",
       "\n",
       "    .dataframe tbody tr th {\n",
       "        vertical-align: top;\n",
       "    }\n",
       "\n",
       "    .dataframe thead th {\n",
       "        text-align: right;\n",
       "    }\n",
       "</style>\n",
       "<table border=\"1\" class=\"dataframe\">\n",
       "  <thead>\n",
       "    <tr style=\"text-align: right;\">\n",
       "      <th></th>\n",
       "      <th>Unnamed: 0</th>\n",
       "      <th>mileage</th>\n",
       "      <th>manufacture_year</th>\n",
       "      <th>engine_displacement</th>\n",
       "      <th>engine_power</th>\n",
       "      <th>price_eur</th>\n",
       "      <th>sold_flag</th>\n",
       "      <th>no_of_pictures</th>\n",
       "    </tr>\n",
       "  </thead>\n",
       "  <tbody>\n",
       "    <tr>\n",
       "      <th>count</th>\n",
       "      <td>685582.000000</td>\n",
       "      <td>6.156380e+05</td>\n",
       "      <td>618004.000000</td>\n",
       "      <td>542123.000000</td>\n",
       "      <td>578455.000000</td>\n",
       "      <td>6.855820e+05</td>\n",
       "      <td>685582.000000</td>\n",
       "      <td>685582.000000</td>\n",
       "    </tr>\n",
       "    <tr>\n",
       "      <th>mean</th>\n",
       "      <td>355351.399666</td>\n",
       "      <td>1.157356e+05</td>\n",
       "      <td>1990.613444</td>\n",
       "      <td>2044.020888</td>\n",
       "      <td>98.498028</td>\n",
       "      <td>4.344587e+06</td>\n",
       "      <td>0.198307</td>\n",
       "      <td>4.000106</td>\n",
       "    </tr>\n",
       "    <tr>\n",
       "      <th>std</th>\n",
       "      <td>205158.965137</td>\n",
       "      <td>3.406349e+05</td>\n",
       "      <td>90.254330</td>\n",
       "      <td>1966.525136</td>\n",
       "      <td>48.940934</td>\n",
       "      <td>3.252856e+09</td>\n",
       "      <td>0.398725</td>\n",
       "      <td>1.999587</td>\n",
       "    </tr>\n",
       "    <tr>\n",
       "      <th>min</th>\n",
       "      <td>0.000000</td>\n",
       "      <td>0.000000e+00</td>\n",
       "      <td>0.000000</td>\n",
       "      <td>10.000000</td>\n",
       "      <td>1.000000</td>\n",
       "      <td>4.000000e-02</td>\n",
       "      <td>0.000000</td>\n",
       "      <td>1.000000</td>\n",
       "    </tr>\n",
       "    <tr>\n",
       "      <th>25%</th>\n",
       "      <td>177637.250000</td>\n",
       "      <td>1.875900e+04</td>\n",
       "      <td>2003.000000</td>\n",
       "      <td>1400.000000</td>\n",
       "      <td>68.000000</td>\n",
       "      <td>1.295340e+03</td>\n",
       "      <td>0.000000</td>\n",
       "      <td>2.000000</td>\n",
       "    </tr>\n",
       "    <tr>\n",
       "      <th>50%</th>\n",
       "      <td>355376.500000</td>\n",
       "      <td>8.630850e+04</td>\n",
       "      <td>2009.000000</td>\n",
       "      <td>1798.000000</td>\n",
       "      <td>86.000000</td>\n",
       "      <td>7.309400e+03</td>\n",
       "      <td>0.000000</td>\n",
       "      <td>4.000000</td>\n",
       "    </tr>\n",
       "    <tr>\n",
       "      <th>75%</th>\n",
       "      <td>533055.750000</td>\n",
       "      <td>1.580705e+05</td>\n",
       "      <td>2013.000000</td>\n",
       "      <td>1997.000000</td>\n",
       "      <td>110.000000</td>\n",
       "      <td>1.629482e+04</td>\n",
       "      <td>0.000000</td>\n",
       "      <td>6.000000</td>\n",
       "    </tr>\n",
       "    <tr>\n",
       "      <th>max</th>\n",
       "      <td>710581.000000</td>\n",
       "      <td>9.999999e+06</td>\n",
       "      <td>2017.000000</td>\n",
       "      <td>32000.000000</td>\n",
       "      <td>999.000000</td>\n",
       "      <td>2.679450e+12</td>\n",
       "      <td>1.000000</td>\n",
       "      <td>7.000000</td>\n",
       "    </tr>\n",
       "  </tbody>\n",
       "</table>\n",
       "</div>"
      ],
      "text/plain": [
       "          Unnamed: 0       mileage  manufacture_year  engine_displacement  \\\n",
       "count  685582.000000  6.156380e+05     618004.000000        542123.000000   \n",
       "mean   355351.399666  1.157356e+05       1990.613444          2044.020888   \n",
       "std    205158.965137  3.406349e+05         90.254330          1966.525136   \n",
       "min         0.000000  0.000000e+00          0.000000            10.000000   \n",
       "25%    177637.250000  1.875900e+04       2003.000000          1400.000000   \n",
       "50%    355376.500000  8.630850e+04       2009.000000          1798.000000   \n",
       "75%    533055.750000  1.580705e+05       2013.000000          1997.000000   \n",
       "max    710581.000000  9.999999e+06       2017.000000         32000.000000   \n",
       "\n",
       "        engine_power     price_eur      sold_flag  no_of_pictures  \n",
       "count  578455.000000  6.855820e+05  685582.000000   685582.000000  \n",
       "mean       98.498028  4.344587e+06       0.198307        4.000106  \n",
       "std        48.940934  3.252856e+09       0.398725        1.999587  \n",
       "min         1.000000  4.000000e-02       0.000000        1.000000  \n",
       "25%        68.000000  1.295340e+03       0.000000        2.000000  \n",
       "50%        86.000000  7.309400e+03       0.000000        4.000000  \n",
       "75%       110.000000  1.629482e+04       0.000000        6.000000  \n",
       "max       999.000000  2.679450e+12       1.000000        7.000000  "
      ]
     },
     "execution_count": 238,
     "metadata": {},
     "output_type": "execute_result"
    }
   ],
   "source": [
    "historical_data.describe() ## Lets look into numeric values alone first"
   ]
  },
  {
   "cell_type": "markdown",
   "id": "a80e9837",
   "metadata": {},
   "source": [
    "###### Once thing we notice is that mean and median are not in the same range which means that data might have outliers"
   ]
  },
  {
   "cell_type": "code",
   "execution_count": 239,
   "id": "2cdbc6d3",
   "metadata": {},
   "outputs": [
    {
     "data": {
      "text/html": [
       "<div>\n",
       "<style scoped>\n",
       "    .dataframe tbody tr th:only-of-type {\n",
       "        vertical-align: middle;\n",
       "    }\n",
       "\n",
       "    .dataframe tbody tr th {\n",
       "        vertical-align: top;\n",
       "    }\n",
       "\n",
       "    .dataframe thead th {\n",
       "        text-align: right;\n",
       "    }\n",
       "</style>\n",
       "<table border=\"1\" class=\"dataframe\">\n",
       "  <thead>\n",
       "    <tr style=\"text-align: right;\">\n",
       "      <th></th>\n",
       "      <th>Unnamed: 0</th>\n",
       "      <th>mileage</th>\n",
       "      <th>manufacture_year</th>\n",
       "      <th>engine_displacement</th>\n",
       "      <th>engine_power</th>\n",
       "      <th>price_eur</th>\n",
       "      <th>sold_flag</th>\n",
       "      <th>no_of_pictures</th>\n",
       "    </tr>\n",
       "  </thead>\n",
       "  <tbody>\n",
       "    <tr>\n",
       "      <th>count</th>\n",
       "      <td>25000.000000</td>\n",
       "      <td>2.247300e+04</td>\n",
       "      <td>22508.000000</td>\n",
       "      <td>19695.000000</td>\n",
       "      <td>21022.000000</td>\n",
       "      <td>2.500000e+04</td>\n",
       "      <td>25000.000000</td>\n",
       "      <td>25000.000000</td>\n",
       "    </tr>\n",
       "    <tr>\n",
       "      <th>mean</th>\n",
       "      <td>353620.431400</td>\n",
       "      <td>1.143223e+05</td>\n",
       "      <td>1991.681758</td>\n",
       "      <td>2046.358264</td>\n",
       "      <td>98.821520</td>\n",
       "      <td>1.270660e+04</td>\n",
       "      <td>0.195200</td>\n",
       "      <td>4.011600</td>\n",
       "    </tr>\n",
       "    <tr>\n",
       "      <th>std</th>\n",
       "      <td>204259.710398</td>\n",
       "      <td>3.240323e+05</td>\n",
       "      <td>85.509947</td>\n",
       "      <td>1946.857557</td>\n",
       "      <td>49.515002</td>\n",
       "      <td>1.391690e+05</td>\n",
       "      <td>0.396363</td>\n",
       "      <td>1.998686</td>\n",
       "    </tr>\n",
       "    <tr>\n",
       "      <th>min</th>\n",
       "      <td>8.000000</td>\n",
       "      <td>0.000000e+00</td>\n",
       "      <td>0.000000</td>\n",
       "      <td>12.000000</td>\n",
       "      <td>6.000000</td>\n",
       "      <td>4.000000e-02</td>\n",
       "      <td>0.000000</td>\n",
       "      <td>1.000000</td>\n",
       "    </tr>\n",
       "    <tr>\n",
       "      <th>25%</th>\n",
       "      <td>177852.750000</td>\n",
       "      <td>1.890000e+04</td>\n",
       "      <td>2003.000000</td>\n",
       "      <td>1400.000000</td>\n",
       "      <td>68.000000</td>\n",
       "      <td>1.332350e+03</td>\n",
       "      <td>0.000000</td>\n",
       "      <td>2.000000</td>\n",
       "    </tr>\n",
       "    <tr>\n",
       "      <th>50%</th>\n",
       "      <td>352842.500000</td>\n",
       "      <td>8.800000e+04</td>\n",
       "      <td>2009.000000</td>\n",
       "      <td>1798.000000</td>\n",
       "      <td>87.000000</td>\n",
       "      <td>7.450000e+03</td>\n",
       "      <td>0.000000</td>\n",
       "      <td>4.000000</td>\n",
       "    </tr>\n",
       "    <tr>\n",
       "      <th>75%</th>\n",
       "      <td>530078.750000</td>\n",
       "      <td>1.582250e+05</td>\n",
       "      <td>2013.000000</td>\n",
       "      <td>1997.000000</td>\n",
       "      <td>110.000000</td>\n",
       "      <td>1.646839e+04</td>\n",
       "      <td>0.000000</td>\n",
       "      <td>6.000000</td>\n",
       "    </tr>\n",
       "    <tr>\n",
       "      <th>max</th>\n",
       "      <td>710552.000000</td>\n",
       "      <td>9.999999e+06</td>\n",
       "      <td>2017.000000</td>\n",
       "      <td>32000.000000</td>\n",
       "      <td>923.000000</td>\n",
       "      <td>2.178750e+07</td>\n",
       "      <td>1.000000</td>\n",
       "      <td>7.000000</td>\n",
       "    </tr>\n",
       "  </tbody>\n",
       "</table>\n",
       "</div>"
      ],
      "text/plain": [
       "          Unnamed: 0       mileage  manufacture_year  engine_displacement  \\\n",
       "count   25000.000000  2.247300e+04      22508.000000         19695.000000   \n",
       "mean   353620.431400  1.143223e+05       1991.681758          2046.358264   \n",
       "std    204259.710398  3.240323e+05         85.509947          1946.857557   \n",
       "min         8.000000  0.000000e+00          0.000000            12.000000   \n",
       "25%    177852.750000  1.890000e+04       2003.000000          1400.000000   \n",
       "50%    352842.500000  8.800000e+04       2009.000000          1798.000000   \n",
       "75%    530078.750000  1.582250e+05       2013.000000          1997.000000   \n",
       "max    710552.000000  9.999999e+06       2017.000000         32000.000000   \n",
       "\n",
       "       engine_power     price_eur     sold_flag  no_of_pictures  \n",
       "count  21022.000000  2.500000e+04  25000.000000    25000.000000  \n",
       "mean      98.821520  1.270660e+04      0.195200        4.011600  \n",
       "std       49.515002  1.391690e+05      0.396363        1.998686  \n",
       "min        6.000000  4.000000e-02      0.000000        1.000000  \n",
       "25%       68.000000  1.332350e+03      0.000000        2.000000  \n",
       "50%       87.000000  7.450000e+03      0.000000        4.000000  \n",
       "75%      110.000000  1.646839e+04      0.000000        6.000000  \n",
       "max      923.000000  2.178750e+07      1.000000        7.000000  "
      ]
     },
     "execution_count": 239,
     "metadata": {},
     "output_type": "execute_result"
    }
   ],
   "source": [
    "current_inventory_data.describe()"
   ]
  },
  {
   "cell_type": "markdown",
   "id": "a7e9a79d",
   "metadata": {},
   "source": [
    "###### Both current inventory data and historical data are distributed in the same range"
   ]
  },
  {
   "cell_type": "code",
   "execution_count": 240,
   "id": "c3bf3eda",
   "metadata": {},
   "outputs": [
    {
     "data": {
      "text/html": [
       "<div>\n",
       "<style scoped>\n",
       "    .dataframe tbody tr th:only-of-type {\n",
       "        vertical-align: middle;\n",
       "    }\n",
       "\n",
       "    .dataframe tbody tr th {\n",
       "        vertical-align: top;\n",
       "    }\n",
       "\n",
       "    .dataframe thead th {\n",
       "        text-align: right;\n",
       "    }\n",
       "</style>\n",
       "<table border=\"1\" class=\"dataframe\">\n",
       "  <thead>\n",
       "    <tr style=\"text-align: right;\">\n",
       "      <th></th>\n",
       "      <th>Year</th>\n",
       "      <th>Commission</th>\n",
       "    </tr>\n",
       "  </thead>\n",
       "  <tbody>\n",
       "    <tr>\n",
       "      <th>count</th>\n",
       "      <td>138.000000</td>\n",
       "      <td>138.000000</td>\n",
       "    </tr>\n",
       "    <tr>\n",
       "      <th>mean</th>\n",
       "      <td>2016.000000</td>\n",
       "      <td>0.082101</td>\n",
       "    </tr>\n",
       "    <tr>\n",
       "      <th>std</th>\n",
       "      <td>0.819471</td>\n",
       "      <td>0.039807</td>\n",
       "    </tr>\n",
       "    <tr>\n",
       "      <th>min</th>\n",
       "      <td>2015.000000</td>\n",
       "      <td>0.020000</td>\n",
       "    </tr>\n",
       "    <tr>\n",
       "      <th>25%</th>\n",
       "      <td>2015.000000</td>\n",
       "      <td>0.050000</td>\n",
       "    </tr>\n",
       "    <tr>\n",
       "      <th>50%</th>\n",
       "      <td>2016.000000</td>\n",
       "      <td>0.080000</td>\n",
       "    </tr>\n",
       "    <tr>\n",
       "      <th>75%</th>\n",
       "      <td>2017.000000</td>\n",
       "      <td>0.117500</td>\n",
       "    </tr>\n",
       "    <tr>\n",
       "      <th>max</th>\n",
       "      <td>2017.000000</td>\n",
       "      <td>0.150000</td>\n",
       "    </tr>\n",
       "  </tbody>\n",
       "</table>\n",
       "</div>"
      ],
      "text/plain": [
       "              Year  Commission\n",
       "count   138.000000  138.000000\n",
       "mean   2016.000000    0.082101\n",
       "std       0.819471    0.039807\n",
       "min    2015.000000    0.020000\n",
       "25%    2015.000000    0.050000\n",
       "50%    2016.000000    0.080000\n",
       "75%    2017.000000    0.117500\n",
       "max    2017.000000    0.150000"
      ]
     },
     "execution_count": 240,
     "metadata": {},
     "output_type": "execute_result"
    }
   ],
   "source": [
    "commission_table.describe()"
   ]
  },
  {
   "cell_type": "markdown",
   "id": "5ccbbd86",
   "metadata": {},
   "source": [
    "## Check for nulls"
   ]
  },
  {
   "cell_type": "code",
   "execution_count": 241,
   "id": "29a131de",
   "metadata": {},
   "outputs": [
    {
     "data": {
      "text/plain": [
       "Unnamed: 0                  0\n",
       "maker                   99892\n",
       "model                  218878\n",
       "mileage                 69944\n",
       "manufacture_year        67578\n",
       "engine_displacement    143459\n",
       "engine_power           107127\n",
       "body_type              154511\n",
       "color_slug             645305\n",
       "stk_year               330100\n",
       "transmission           143143\n",
       "door_count             119083\n",
       "seat_count             145103\n",
       "fuel_type              357060\n",
       "date_created                0\n",
       "date_last_seen              0\n",
       "price_eur                   0\n",
       "sold_flag                   0\n",
       "height_of_picture           0\n",
       "width_of_picture            0\n",
       "aspect_ratio                0\n",
       "no_of_pictures              0\n",
       "test1                       0\n",
       "test2                       0\n",
       "dtype: int64"
      ]
     },
     "execution_count": 241,
     "metadata": {},
     "output_type": "execute_result"
    }
   ],
   "source": [
    "historical_data.isnull().sum()"
   ]
  },
  {
   "cell_type": "code",
   "execution_count": 242,
   "id": "a3643923",
   "metadata": {},
   "outputs": [
    {
     "data": {
      "text/plain": [
       "Unnamed: 0                 0\n",
       "maker                   3598\n",
       "model                   8029\n",
       "mileage                 2527\n",
       "manufacture_year        2492\n",
       "engine_displacement     5305\n",
       "engine_power            3978\n",
       "body_type               5763\n",
       "color_slug             23517\n",
       "stk_year               11921\n",
       "transmission            5228\n",
       "door_count              4258\n",
       "seat_count              5272\n",
       "fuel_type              12921\n",
       "date_created               0\n",
       "date_last_seen             0\n",
       "price_eur                  0\n",
       "sold_flag                  0\n",
       "height_of_picture          0\n",
       "width_of_picture           0\n",
       "aspect_ratio               0\n",
       "no_of_pictures             0\n",
       "test1                      0\n",
       "test2                      0\n",
       "dtype: int64"
      ]
     },
     "execution_count": 242,
     "metadata": {},
     "output_type": "execute_result"
    }
   ],
   "source": [
    "current_inventory_data.isnull().sum()"
   ]
  },
  {
   "cell_type": "code",
   "execution_count": 243,
   "id": "0468ec3e",
   "metadata": {},
   "outputs": [
    {
     "data": {
      "text/plain": [
       "Unnamed: 0                  0\n",
       "maker                  103490\n",
       "model                  226907\n",
       "mileage                 72471\n",
       "manufacture_year        70070\n",
       "engine_displacement    148764\n",
       "engine_power           111105\n",
       "body_type              160274\n",
       "color_slug             668822\n",
       "stk_year               342021\n",
       "transmission           148371\n",
       "door_count             123341\n",
       "seat_count             150375\n",
       "fuel_type              369981\n",
       "date_created                0\n",
       "date_last_seen              0\n",
       "price_eur                   0\n",
       "sold_flag                   0\n",
       "height_of_picture           0\n",
       "width_of_picture            0\n",
       "aspect_ratio                0\n",
       "no_of_pictures              0\n",
       "test1                       0\n",
       "test2                       0\n",
       "dtype: int64"
      ]
     },
     "execution_count": 243,
     "metadata": {},
     "output_type": "execute_result"
    }
   ],
   "source": [
    "combined_data.isnull().sum()"
   ]
  },
  {
   "cell_type": "markdown",
   "id": "9f36dbcd",
   "metadata": {},
   "source": [
    "## Missing value treatment"
   ]
  },
  {
   "cell_type": "code",
   "execution_count": 244,
   "id": "a19bc478",
   "metadata": {},
   "outputs": [],
   "source": [
    "def update_missing_values_maker_wise(column, value):\n",
    "    print(column)\n",
    "    if value == 0:\n",
    "        print('number')\n",
    "        for i in combined_data['maker'].unique():\n",
    "            if str(combined_data[combined_data['maker'] == i][column].median()) == 'nan':\n",
    "                combined_data.loc[combined_data['maker'] == i,column] = combined_data[combined_data['maker'] == i][column].fillna(combined_data[column].median())\n",
    "            else:\n",
    "                combined_data.loc[combined_data['maker'] == i,column] = combined_data[combined_data['maker'] == i][column].fillna(combined_data[combined_data['maker'] == i][column].median())\n",
    "    else:\n",
    "        print('string')\n",
    "        for i in combined_data['maker'].unique():\n",
    "            combined_data.loc[combined_data['maker'] == i,column] = combined_data[combined_data['maker'] == i][column].fillna(combined_data[combined_data['maker'] == i][column].value_counts().index[0])\n",
    "    "
   ]
  },
  {
   "cell_type": "code",
   "execution_count": 245,
   "id": "f20a32c6",
   "metadata": {},
   "outputs": [],
   "source": [
    "combined_data = pd.concat([historical_data, current_inventory_data])"
   ]
  },
  {
   "cell_type": "code",
   "execution_count": 246,
   "id": "98c5d622",
   "metadata": {},
   "outputs": [],
   "source": [
    "combined_data['body_type'] = combined_data['body_type'].str.strip()\n",
    "combined_data['height_of_picture'] = combined_data['height_of_picture'].str.strip()\n",
    "combined_data['width_of_picture'] = combined_data['width_of_picture'].str.strip()\n",
    "combined_data['aspect_ratio'] = combined_data['aspect_ratio'].str.strip()\n",
    "combined_data = combined_data.replace({'None': np.nan, '?' : np.nan})\n"
   ]
  },
  {
   "cell_type": "code",
   "execution_count": 247,
   "id": "285074cc",
   "metadata": {},
   "outputs": [
    {
     "name": "stdout",
     "output_type": "stream",
     "text": [
      "mileage\n",
      "number\n",
      "engine_displacement\n",
      "number\n",
      "engine_power\n",
      "number\n",
      "transmission\n",
      "string\n",
      "door_count\n",
      "string\n",
      "seat_count\n",
      "string\n",
      "fuel_type\n",
      "string\n"
     ]
    }
   ],
   "source": [
    "combined_data['maker'].fillna('Unknown maker', inplace = True)\n",
    "combined_data['model'].fillna('Unknown model', inplace = True)\n",
    "combined_data['manufacture_year'].fillna(0, inplace = True) # 0 means unknown year\n",
    "combined_data['body_type'].fillna('other', inplace = True)\n",
    "combined_data['height_of_picture'].fillna(combined_data['height_of_picture'].median(), inplace = True)\n",
    "combined_data['width_of_picture'].fillna(combined_data['width_of_picture'].median(), inplace = True)\n",
    "combined_data['aspect_ratio'].fillna(combined_data['aspect_ratio'].median(), inplace = True)\n",
    "combined_data.drop('color_slug', axis = 1, inplace = True)\n",
    "combined_data.drop('stk_year', axis = 1, inplace = True)\n",
    "combined_data.drop('Unnamed: 0', axis = 1, inplace = True)\n",
    "\n",
    "update_missing_values_maker_wise('mileage',  0)\n",
    "update_missing_values_maker_wise('engine_displacement', 0)\n",
    "update_missing_values_maker_wise('engine_power', 0)\n",
    "update_missing_values_maker_wise('transmission', 1)\n",
    "update_missing_values_maker_wise('door_count', 1)\n",
    "update_missing_values_maker_wise('seat_count', 1)\n",
    "update_missing_values_maker_wise('fuel_type', 1)\n",
    "\n",
    "combined_data['height_of_picture'] = combined_data['height_of_picture'].astype(float)\n",
    "combined_data['width_of_picture'] = combined_data['width_of_picture'].astype(float)\n",
    "combined_data['aspect_ratio'] = combined_data['aspect_ratio'].astype(float)\n",
    "combined_data['door_count'] = combined_data['door_count'].astype(int)\n",
    "combined_data['seat_count'] = combined_data['seat_count'].astype(int)"
   ]
  },
  {
   "cell_type": "code",
   "execution_count": 248,
   "id": "fd6915cf",
   "metadata": {},
   "outputs": [],
   "source": [
    "combined_data_copy = combined_data.copy()"
   ]
  },
  {
   "cell_type": "markdown",
   "id": "6d3d4eac",
   "metadata": {},
   "source": [
    "## Outlier"
   ]
  },
  {
   "cell_type": "code",
   "execution_count": 249,
   "id": "4fe44b40",
   "metadata": {},
   "outputs": [
    {
     "data": {
      "text/plain": [
       "<AxesSubplot:xlabel='aspect_ratio', ylabel='Density'>"
      ]
     },
     "execution_count": 249,
     "metadata": {},
     "output_type": "execute_result"
    },
    {
     "data": {
      "image/png": "[encoded data removed]",
      "text/plain": [
       "<Figure size 1440x1080 with 10 Axes>"
      ]
     },
     "metadata": {
      "needs_background": "light"
     },
     "output_type": "display_data"
    }
   ],
   "source": [
    "fig, a = plt.subplots(5,2,figsize=(20,15))\n",
    "sns.distplot(combined_data['mileage'] , ax=a[0,0])\n",
    "sns.distplot(combined_data['manufacture_year'] , ax=a[0,1])\n",
    "sns.distplot(combined_data['engine_displacement'] , ax=a[1,0])\n",
    "sns.distplot(combined_data['engine_power'] , ax=a[1,1])\n",
    "sns.distplot(combined_data['door_count'] , ax=a[2,0])\n",
    "sns.distplot(combined_data['seat_count'] , ax=a[2,1])\n",
    "sns.distplot(combined_data['price_eur'] , ax=a[3,0])\n",
    "sns.distplot(combined_data['height_of_picture'] , ax=a[3,1])\n",
    "sns.distplot(combined_data['width_of_picture'] , ax=a[4,0])\n",
    "sns.distplot(combined_data['aspect_ratio'] , ax=a[4,1])"
   ]
  },
  {
   "cell_type": "code",
   "execution_count": 250,
   "id": "7eaf57e3",
   "metadata": {},
   "outputs": [
    {
     "name": "stdout",
     "output_type": "stream",
     "text": [
      "mileage\n",
      "number\n",
      "engine_displacement\n",
      "number\n",
      "engine_power\n",
      "number\n",
      "price_eur\n",
      "number\n"
     ]
    }
   ],
   "source": [
    "combined_data['z score'] = scipy.stats.zscore(combined_data['mileage'])\n",
    "combined_data.loc[combined_data['z score'] >= 3, 'mileage'] = np.nan\n",
    "update_missing_values_maker_wise('mileage',  0)\n",
    "combined_data.loc[(combined_data['manufacture_year'] != 0) & (combined_data['manufacture_year'] < 1800), 'manufacture_year'] = np.nan\n",
    "combined_data['manufacture_year'].fillna(0, inplace = True) \n",
    "combined_data['z score'] = scipy.stats.zscore(combined_data['engine_displacement'])\n",
    "combined_data.loc[combined_data['z score'] >= 3, 'engine_displacement'] = np.nan\n",
    "update_missing_values_maker_wise('engine_displacement',  0)\n",
    "combined_data['z score'] = scipy.stats.zscore(combined_data['engine_power'])\n",
    "combined_data.loc[combined_data['z score'] >= 3, 'engine_power'] = np.nan\n",
    "update_missing_values_maker_wise('engine_power',  0)\n",
    "combined_data.loc[combined_data['door_count'].astype(int) > 7, 'door_count'] = 4\n",
    "combined_data.loc[combined_data['seat_count'].astype(int) > 10, 'seat_count'] = 5\n",
    "\n",
    "combined_data['z score'] = scipy.stats.zscore(combined_data['price_eur'])\n",
    "combined_data.loc[combined_data['z score'] >= 3, 'price_eur'] = np.nan\n",
    "update_missing_values_maker_wise('price_eur',  0)\n",
    "\n",
    "combined_data['z score'] = scipy.stats.zscore(combined_data['height_of_picture'].astype(float))\n",
    "combined_data.loc[combined_data['z score'] >= 3, 'height_of_picture'] = np.nan\n",
    "\n",
    "combined_data['z score'] = scipy.stats.zscore(combined_data['aspect_ratio'].astype(float))\n",
    "combined_data.loc[combined_data['z score'] >= 3, 'aspect_ratio'] = np.nan\n",
    "\n",
    "combined_data['z score'] = scipy.stats.zscore(combined_data['width_of_picture'].astype(float))\n",
    "combined_data.loc[combined_data['z score'] >= 3, 'width_of_picture'] = np.nan\n",
    "\n",
    "combined_data['height_of_picture'].fillna(combined_data['height_of_picture'].median(), inplace = True)\n",
    "combined_data['width_of_picture'].fillna(combined_data['width_of_picture'].median(), inplace = True)\n",
    "combined_data['aspect_ratio'].fillna(combined_data['aspect_ratio'].median(), inplace = True)\n",
    "\n"
   ]
  },
  {
   "cell_type": "code",
   "execution_count": 251,
   "id": "f3adee32",
   "metadata": {},
   "outputs": [
    {
     "data": {
      "text/plain": [
       "<AxesSubplot:xlabel='aspect_ratio', ylabel='Density'>"
      ]
     },
     "execution_count": 251,
     "metadata": {},
     "output_type": "execute_result"
    },
    {
     "data": {
      "image/png": "[encoded data removed]",
      "text/plain": [
       "<Figure size 1440x1080 with 10 Axes>"
      ]
     },
     "metadata": {
      "needs_background": "light"
     },
     "output_type": "display_data"
    }
   ],
   "source": [
    "fig, a = plt.subplots(5,2,figsize=(20,15))\n",
    "sns.distplot(combined_data['mileage'] , ax=a[0,0])\n",
    "sns.distplot(combined_data['manufacture_year'] , ax=a[0,1])\n",
    "sns.distplot(combined_data['engine_displacement'] , ax=a[1,0])\n",
    "sns.distplot(combined_data['engine_power'] , ax=a[1,1])\n",
    "sns.distplot(combined_data['door_count'] , ax=a[2,0])\n",
    "sns.distplot(combined_data['seat_count'] , ax=a[2,1])\n",
    "sns.distplot(combined_data['price_eur'] , ax=a[3,0])\n",
    "sns.distplot(combined_data['height_of_picture'] , ax=a[3,1])\n",
    "sns.distplot(combined_data['width_of_picture'] , ax=a[4,0])\n",
    "sns.distplot(combined_data['aspect_ratio'] , ax=a[4,1])"
   ]
  },
  {
   "cell_type": "markdown",
   "id": "fe5c47dc",
   "metadata": {},
   "source": [
    "## EDA"
   ]
  },
  {
   "cell_type": "code",
   "execution_count": 252,
   "id": "fbb42df5",
   "metadata": {},
   "outputs": [],
   "source": [
    "def get_sold_perc(column):\n",
    "    df = combined_data[column].value_counts().to_frame()\n",
    "    df = pd.merge(df, combined_data[combined_data['sold_flag'] == 1][column].value_counts().to_frame(), left_index = True, right_index = True)\n",
    "    df = pd.merge(df, combined_data[combined_data['sold_flag'] == 0][column].value_counts().to_frame(), left_index = True, right_index = True)\n",
    "    df.columns = ['Total', 'Sold', 'Not sold']\n",
    "    df['% Sold'] = df['Sold'] / df['Total']\n",
    "    return df.sort_values(by = '% Sold', ascending = False)"
   ]
  },
  {
   "cell_type": "code",
   "execution_count": 253,
   "id": "0557b592",
   "metadata": {},
   "outputs": [
    {
     "data": {
      "text/html": [
       "<div>\n",
       "<style scoped>\n",
       "    .dataframe tbody tr th:only-of-type {\n",
       "        vertical-align: middle;\n",
       "    }\n",
       "\n",
       "    .dataframe tbody tr th {\n",
       "        vertical-align: top;\n",
       "    }\n",
       "\n",
       "    .dataframe thead th {\n",
       "        text-align: right;\n",
       "    }\n",
       "</style>\n",
       "<table border=\"1\" class=\"dataframe\">\n",
       "  <thead>\n",
       "    <tr style=\"text-align: right;\">\n",
       "      <th></th>\n",
       "      <th>Total</th>\n",
       "      <th>Sold</th>\n",
       "      <th>Not sold</th>\n",
       "      <th>% Sold</th>\n",
       "    </tr>\n",
       "  </thead>\n",
       "  <tbody>\n",
       "    <tr>\n",
       "      <th>tesla</th>\n",
       "      <td>39</td>\n",
       "      <td>10</td>\n",
       "      <td>29</td>\n",
       "      <td>0.256410</td>\n",
       "    </tr>\n",
       "    <tr>\n",
       "      <th>hummer</th>\n",
       "      <td>148</td>\n",
       "      <td>32</td>\n",
       "      <td>116</td>\n",
       "      <td>0.216216</td>\n",
       "    </tr>\n",
       "    <tr>\n",
       "      <th>maserati</th>\n",
       "      <td>385</td>\n",
       "      <td>83</td>\n",
       "      <td>302</td>\n",
       "      <td>0.215584</td>\n",
       "    </tr>\n",
       "    <tr>\n",
       "      <th>bentley</th>\n",
       "      <td>240</td>\n",
       "      <td>50</td>\n",
       "      <td>190</td>\n",
       "      <td>0.208333</td>\n",
       "    </tr>\n",
       "    <tr>\n",
       "      <th>mazda</th>\n",
       "      <td>9105</td>\n",
       "      <td>1873</td>\n",
       "      <td>7232</td>\n",
       "      <td>0.205711</td>\n",
       "    </tr>\n",
       "    <tr>\n",
       "      <th>rover</th>\n",
       "      <td>4126</td>\n",
       "      <td>836</td>\n",
       "      <td>3290</td>\n",
       "      <td>0.202618</td>\n",
       "    </tr>\n",
       "    <tr>\n",
       "      <th>honda</th>\n",
       "      <td>5366</td>\n",
       "      <td>1083</td>\n",
       "      <td>4283</td>\n",
       "      <td>0.201826</td>\n",
       "    </tr>\n",
       "    <tr>\n",
       "      <th>chevrolet</th>\n",
       "      <td>4141</td>\n",
       "      <td>833</td>\n",
       "      <td>3308</td>\n",
       "      <td>0.201159</td>\n",
       "    </tr>\n",
       "    <tr>\n",
       "      <th>mitsubishi</th>\n",
       "      <td>5678</td>\n",
       "      <td>1138</td>\n",
       "      <td>4540</td>\n",
       "      <td>0.200423</td>\n",
       "    </tr>\n",
       "    <tr>\n",
       "      <th>ford</th>\n",
       "      <td>48078</td>\n",
       "      <td>9635</td>\n",
       "      <td>38443</td>\n",
       "      <td>0.200404</td>\n",
       "    </tr>\n",
       "    <tr>\n",
       "      <th>citroen</th>\n",
       "      <td>24343</td>\n",
       "      <td>4876</td>\n",
       "      <td>19467</td>\n",
       "      <td>0.200304</td>\n",
       "    </tr>\n",
       "    <tr>\n",
       "      <th>aston-martin</th>\n",
       "      <td>5</td>\n",
       "      <td>1</td>\n",
       "      <td>4</td>\n",
       "      <td>0.200000</td>\n",
       "    </tr>\n",
       "    <tr>\n",
       "      <th>audi</th>\n",
       "      <td>49686</td>\n",
       "      <td>9918</td>\n",
       "      <td>39768</td>\n",
       "      <td>0.199614</td>\n",
       "    </tr>\n",
       "    <tr>\n",
       "      <th>porsche</th>\n",
       "      <td>4923</td>\n",
       "      <td>982</td>\n",
       "      <td>3941</td>\n",
       "      <td>0.199472</td>\n",
       "    </tr>\n",
       "    <tr>\n",
       "      <th>fiat</th>\n",
       "      <td>26581</td>\n",
       "      <td>5300</td>\n",
       "      <td>21281</td>\n",
       "      <td>0.199391</td>\n",
       "    </tr>\n",
       "    <tr>\n",
       "      <th>opel</th>\n",
       "      <td>43510</td>\n",
       "      <td>8664</td>\n",
       "      <td>34846</td>\n",
       "      <td>0.199127</td>\n",
       "    </tr>\n",
       "    <tr>\n",
       "      <th>skoda</th>\n",
       "      <td>62855</td>\n",
       "      <td>12513</td>\n",
       "      <td>50342</td>\n",
       "      <td>0.199077</td>\n",
       "    </tr>\n",
       "    <tr>\n",
       "      <th>bmw</th>\n",
       "      <td>53386</td>\n",
       "      <td>10600</td>\n",
       "      <td>42786</td>\n",
       "      <td>0.198554</td>\n",
       "    </tr>\n",
       "    <tr>\n",
       "      <th>lancia</th>\n",
       "      <td>2706</td>\n",
       "      <td>537</td>\n",
       "      <td>2169</td>\n",
       "      <td>0.198448</td>\n",
       "    </tr>\n",
       "    <tr>\n",
       "      <th>renault</th>\n",
       "      <td>21701</td>\n",
       "      <td>4305</td>\n",
       "      <td>17396</td>\n",
       "      <td>0.198378</td>\n",
       "    </tr>\n",
       "    <tr>\n",
       "      <th>smart</th>\n",
       "      <td>6438</td>\n",
       "      <td>1277</td>\n",
       "      <td>5161</td>\n",
       "      <td>0.198354</td>\n",
       "    </tr>\n",
       "    <tr>\n",
       "      <th>peugeot</th>\n",
       "      <td>18351</td>\n",
       "      <td>3639</td>\n",
       "      <td>14712</td>\n",
       "      <td>0.198300</td>\n",
       "    </tr>\n",
       "    <tr>\n",
       "      <th>subaru</th>\n",
       "      <td>2074</td>\n",
       "      <td>411</td>\n",
       "      <td>1663</td>\n",
       "      <td>0.198168</td>\n",
       "    </tr>\n",
       "    <tr>\n",
       "      <th>volvo</th>\n",
       "      <td>9734</td>\n",
       "      <td>1925</td>\n",
       "      <td>7809</td>\n",
       "      <td>0.197760</td>\n",
       "    </tr>\n",
       "    <tr>\n",
       "      <th>volkswagen</th>\n",
       "      <td>59692</td>\n",
       "      <td>11804</td>\n",
       "      <td>47888</td>\n",
       "      <td>0.197748</td>\n",
       "    </tr>\n",
       "    <tr>\n",
       "      <th>kia</th>\n",
       "      <td>9567</td>\n",
       "      <td>1889</td>\n",
       "      <td>7678</td>\n",
       "      <td>0.197450</td>\n",
       "    </tr>\n",
       "    <tr>\n",
       "      <th>Unknown maker</th>\n",
       "      <td>103490</td>\n",
       "      <td>20406</td>\n",
       "      <td>83084</td>\n",
       "      <td>0.197178</td>\n",
       "    </tr>\n",
       "    <tr>\n",
       "      <th>mercedes-benz</th>\n",
       "      <td>50439</td>\n",
       "      <td>9935</td>\n",
       "      <td>40504</td>\n",
       "      <td>0.196971</td>\n",
       "    </tr>\n",
       "    <tr>\n",
       "      <th>lexus</th>\n",
       "      <td>803</td>\n",
       "      <td>158</td>\n",
       "      <td>645</td>\n",
       "      <td>0.196762</td>\n",
       "    </tr>\n",
       "    <tr>\n",
       "      <th>suzuki</th>\n",
       "      <td>6253</td>\n",
       "      <td>1229</td>\n",
       "      <td>5024</td>\n",
       "      <td>0.196546</td>\n",
       "    </tr>\n",
       "    <tr>\n",
       "      <th>hyundai</th>\n",
       "      <td>16241</td>\n",
       "      <td>3188</td>\n",
       "      <td>13053</td>\n",
       "      <td>0.196293</td>\n",
       "    </tr>\n",
       "    <tr>\n",
       "      <th>toyota</th>\n",
       "      <td>14550</td>\n",
       "      <td>2845</td>\n",
       "      <td>11705</td>\n",
       "      <td>0.195533</td>\n",
       "    </tr>\n",
       "    <tr>\n",
       "      <th>land-rover</th>\n",
       "      <td>348</td>\n",
       "      <td>68</td>\n",
       "      <td>280</td>\n",
       "      <td>0.195402</td>\n",
       "    </tr>\n",
       "    <tr>\n",
       "      <th>chrysler</th>\n",
       "      <td>1780</td>\n",
       "      <td>347</td>\n",
       "      <td>1433</td>\n",
       "      <td>0.194944</td>\n",
       "    </tr>\n",
       "    <tr>\n",
       "      <th>seat</th>\n",
       "      <td>14861</td>\n",
       "      <td>2895</td>\n",
       "      <td>11966</td>\n",
       "      <td>0.194805</td>\n",
       "    </tr>\n",
       "    <tr>\n",
       "      <th>jeep</th>\n",
       "      <td>3426</td>\n",
       "      <td>667</td>\n",
       "      <td>2759</td>\n",
       "      <td>0.194688</td>\n",
       "    </tr>\n",
       "    <tr>\n",
       "      <th>nissan</th>\n",
       "      <td>13544</td>\n",
       "      <td>2622</td>\n",
       "      <td>10922</td>\n",
       "      <td>0.193591</td>\n",
       "    </tr>\n",
       "    <tr>\n",
       "      <th>dacia</th>\n",
       "      <td>398</td>\n",
       "      <td>77</td>\n",
       "      <td>321</td>\n",
       "      <td>0.193467</td>\n",
       "    </tr>\n",
       "    <tr>\n",
       "      <th>alfa-romeo</th>\n",
       "      <td>953</td>\n",
       "      <td>184</td>\n",
       "      <td>769</td>\n",
       "      <td>0.193075</td>\n",
       "    </tr>\n",
       "    <tr>\n",
       "      <th>infinity</th>\n",
       "      <td>104</td>\n",
       "      <td>20</td>\n",
       "      <td>84</td>\n",
       "      <td>0.192308</td>\n",
       "    </tr>\n",
       "    <tr>\n",
       "      <th>jaguar</th>\n",
       "      <td>1968</td>\n",
       "      <td>376</td>\n",
       "      <td>1592</td>\n",
       "      <td>0.191057</td>\n",
       "    </tr>\n",
       "    <tr>\n",
       "      <th>mini</th>\n",
       "      <td>7082</td>\n",
       "      <td>1350</td>\n",
       "      <td>5732</td>\n",
       "      <td>0.190624</td>\n",
       "    </tr>\n",
       "    <tr>\n",
       "      <th>dodge</th>\n",
       "      <td>1021</td>\n",
       "      <td>179</td>\n",
       "      <td>842</td>\n",
       "      <td>0.175318</td>\n",
       "    </tr>\n",
       "    <tr>\n",
       "      <th>isuzu</th>\n",
       "      <td>264</td>\n",
       "      <td>46</td>\n",
       "      <td>218</td>\n",
       "      <td>0.174242</td>\n",
       "    </tr>\n",
       "    <tr>\n",
       "      <th>lotus</th>\n",
       "      <td>92</td>\n",
       "      <td>15</td>\n",
       "      <td>77</td>\n",
       "      <td>0.163043</td>\n",
       "    </tr>\n",
       "    <tr>\n",
       "      <th>lamborghini</th>\n",
       "      <td>98</td>\n",
       "      <td>14</td>\n",
       "      <td>84</td>\n",
       "      <td>0.142857</td>\n",
       "    </tr>\n",
       "    <tr>\n",
       "      <th>rolls-royce</th>\n",
       "      <td>9</td>\n",
       "      <td>1</td>\n",
       "      <td>8</td>\n",
       "      <td>0.111111</td>\n",
       "    </tr>\n",
       "  </tbody>\n",
       "</table>\n",
       "</div>"
      ],
      "text/plain": [
       "                Total   Sold  Not sold    % Sold\n",
       "tesla              39     10        29  0.256410\n",
       "hummer            148     32       116  0.216216\n",
       "maserati          385     83       302  0.215584\n",
       "bentley           240     50       190  0.208333\n",
       "mazda            9105   1873      7232  0.205711\n",
       "rover            4126    836      3290  0.202618\n",
       "honda            5366   1083      4283  0.201826\n",
       "chevrolet        4141    833      3308  0.201159\n",
       "mitsubishi       5678   1138      4540  0.200423\n",
       "ford            48078   9635     38443  0.200404\n",
       "citroen         24343   4876     19467  0.200304\n",
       "aston-martin        5      1         4  0.200000\n",
       "audi            49686   9918     39768  0.199614\n",
       "porsche          4923    982      3941  0.199472\n",
       "fiat            26581   5300     21281  0.199391\n",
       "opel            43510   8664     34846  0.199127\n",
       "skoda           62855  12513     50342  0.199077\n",
       "bmw             53386  10600     42786  0.198554\n",
       "lancia           2706    537      2169  0.198448\n",
       "renault         21701   4305     17396  0.198378\n",
       "smart            6438   1277      5161  0.198354\n",
       "peugeot         18351   3639     14712  0.198300\n",
       "subaru           2074    411      1663  0.198168\n",
       "volvo            9734   1925      7809  0.197760\n",
       "volkswagen      59692  11804     47888  0.197748\n",
       "kia              9567   1889      7678  0.197450\n",
       "Unknown maker  103490  20406     83084  0.197178\n",
       "mercedes-benz   50439   9935     40504  0.196971\n",
       "lexus             803    158       645  0.196762\n",
       "suzuki           6253   1229      5024  0.196546\n",
       "hyundai         16241   3188     13053  0.196293\n",
       "toyota          14550   2845     11705  0.195533\n",
       "land-rover        348     68       280  0.195402\n",
       "chrysler         1780    347      1433  0.194944\n",
       "seat            14861   2895     11966  0.194805\n",
       "jeep             3426    667      2759  0.194688\n",
       "nissan          13544   2622     10922  0.193591\n",
       "dacia             398     77       321  0.193467\n",
       "alfa-romeo        953    184       769  0.193075\n",
       "infinity          104     20        84  0.192308\n",
       "jaguar           1968    376      1592  0.191057\n",
       "mini             7082   1350      5732  0.190624\n",
       "dodge            1021    179       842  0.175318\n",
       "isuzu             264     46       218  0.174242\n",
       "lotus              92     15        77  0.163043\n",
       "lamborghini        98     14        84  0.142857\n",
       "rolls-royce         9      1         8  0.111111"
      ]
     },
     "execution_count": 253,
     "metadata": {},
     "output_type": "execute_result"
    }
   ],
   "source": [
    "get_sold_perc('maker')"
   ]
  },
  {
   "cell_type": "code",
   "execution_count": 254,
   "id": "e79d9980",
   "metadata": {},
   "outputs": [
    {
     "data": {
      "image/png": "[encoded data removed]",
      "text/plain": [
       "<Figure size 1440x1440 with 16 Axes>"
      ]
     },
     "metadata": {
      "needs_background": "light"
     },
     "output_type": "display_data"
    }
   ],
   "source": [
    "combined_data.hist(figsize=(20,20), xrot=45)\n",
    "plt.show()"
   ]
  },
  {
   "cell_type": "code",
   "execution_count": 255,
   "id": "5001de88",
   "metadata": {},
   "outputs": [
    {
     "data": {
      "text/html": [
       "<div>\n",
       "<style scoped>\n",
       "    .dataframe tbody tr th:only-of-type {\n",
       "        vertical-align: middle;\n",
       "    }\n",
       "\n",
       "    .dataframe tbody tr th {\n",
       "        vertical-align: top;\n",
       "    }\n",
       "\n",
       "    .dataframe thead th {\n",
       "        text-align: right;\n",
       "    }\n",
       "</style>\n",
       "<table border=\"1\" class=\"dataframe\">\n",
       "  <thead>\n",
       "    <tr style=\"text-align: right;\">\n",
       "      <th></th>\n",
       "      <th>maker</th>\n",
       "      <th>model</th>\n",
       "      <th>body_type</th>\n",
       "      <th>transmission</th>\n",
       "      <th>fuel_type</th>\n",
       "      <th>date_created</th>\n",
       "      <th>date_last_seen</th>\n",
       "      <th>test1</th>\n",
       "      <th>test2</th>\n",
       "    </tr>\n",
       "  </thead>\n",
       "  <tbody>\n",
       "    <tr>\n",
       "      <th>count</th>\n",
       "      <td>710582</td>\n",
       "      <td>710582</td>\n",
       "      <td>710582</td>\n",
       "      <td>710582</td>\n",
       "      <td>710582</td>\n",
       "      <td>710582</td>\n",
       "      <td>710582</td>\n",
       "      <td>710582</td>\n",
       "      <td>710582</td>\n",
       "    </tr>\n",
       "    <tr>\n",
       "      <th>unique</th>\n",
       "      <td>47</td>\n",
       "      <td>937</td>\n",
       "      <td>12</td>\n",
       "      <td>2</td>\n",
       "      <td>5</td>\n",
       "      <td>710582</td>\n",
       "      <td>671143</td>\n",
       "      <td>710582</td>\n",
       "      <td>671141</td>\n",
       "    </tr>\n",
       "    <tr>\n",
       "      <th>top</th>\n",
       "      <td>Unknown maker</td>\n",
       "      <td>Unknown model</td>\n",
       "      <td>other</td>\n",
       "      <td>man</td>\n",
       "      <td>gasoline</td>\n",
       "      <td>2016-03-09 17:02:02.295928+00</td>\n",
       "      <td>2016-01-27 20:40:15.46361+00</td>\n",
       "      <td>2016-03-09 17:02:02.295928+00</td>\n",
       "      <td>2016-01-27 20:40:15.46361+00</td>\n",
       "    </tr>\n",
       "    <tr>\n",
       "      <th>freq</th>\n",
       "      <td>103490</td>\n",
       "      <td>226907</td>\n",
       "      <td>553345</td>\n",
       "      <td>535057</td>\n",
       "      <td>379856</td>\n",
       "      <td>1</td>\n",
       "      <td>34190</td>\n",
       "      <td>1</td>\n",
       "      <td>39442</td>\n",
       "    </tr>\n",
       "  </tbody>\n",
       "</table>\n",
       "</div>"
      ],
      "text/plain": [
       "                maker          model body_type transmission fuel_type  \\\n",
       "count          710582         710582    710582       710582    710582   \n",
       "unique             47            937        12            2         5   \n",
       "top     Unknown maker  Unknown model     other          man  gasoline   \n",
       "freq           103490         226907    553345       535057    379856   \n",
       "\n",
       "                         date_created                date_last_seen  \\\n",
       "count                          710582                        710582   \n",
       "unique                         710582                        671143   \n",
       "top     2016-03-09 17:02:02.295928+00  2016-01-27 20:40:15.46361+00   \n",
       "freq                                1                         34190   \n",
       "\n",
       "                                test1                         test2  \n",
       "count                          710582                        710582  \n",
       "unique                         710582                        671141  \n",
       "top     2016-03-09 17:02:02.295928+00  2016-01-27 20:40:15.46361+00  \n",
       "freq                                1                         39442  "
      ]
     },
     "execution_count": 255,
     "metadata": {},
     "output_type": "execute_result"
    }
   ],
   "source": [
    "combined_data.describe(include='object')"
   ]
  },
  {
   "cell_type": "code",
   "execution_count": 256,
   "id": "392f1294",
   "metadata": {},
   "outputs": [],
   "source": [
    "# num_cols = ['price_eur','door_count', 'seat_count', 'engine_power']\n",
    "# for col in num_cols:\n",
    "#     sns.boxplot(y = combined_data['sold_flag'].astype('category'), x = col, data=combined_data)\n",
    "#     plt.show()"
   ]
  },
  {
   "cell_type": "code",
   "execution_count": 257,
   "id": "67c291e0",
   "metadata": {},
   "outputs": [
    {
     "data": {
      "text/html": [
       "<div>\n",
       "<style scoped>\n",
       "    .dataframe tbody tr th:only-of-type {\n",
       "        vertical-align: middle;\n",
       "    }\n",
       "\n",
       "    .dataframe tbody tr th {\n",
       "        vertical-align: top;\n",
       "    }\n",
       "\n",
       "    .dataframe thead th {\n",
       "        text-align: right;\n",
       "    }\n",
       "</style>\n",
       "<table border=\"1\" class=\"dataframe\">\n",
       "  <thead>\n",
       "    <tr style=\"text-align: right;\">\n",
       "      <th>body_type</th>\n",
       "      <th>COMPACT</th>\n",
       "      <th>com_pact</th>\n",
       "      <th>compact</th>\n",
       "      <th>convertible</th>\n",
       "      <th>coupe</th>\n",
       "      <th>nan</th>\n",
       "      <th>offroad</th>\n",
       "      <th>other</th>\n",
       "      <th>sedan</th>\n",
       "      <th>stationwagon</th>\n",
       "      <th>transporter</th>\n",
       "      <th>van</th>\n",
       "    </tr>\n",
       "    <tr>\n",
       "      <th>sold_flag</th>\n",
       "      <th></th>\n",
       "      <th></th>\n",
       "      <th></th>\n",
       "      <th></th>\n",
       "      <th></th>\n",
       "      <th></th>\n",
       "      <th></th>\n",
       "      <th></th>\n",
       "      <th></th>\n",
       "      <th></th>\n",
       "      <th></th>\n",
       "      <th></th>\n",
       "    </tr>\n",
       "  </thead>\n",
       "  <tbody>\n",
       "    <tr>\n",
       "      <th>0</th>\n",
       "      <td>0.002213</td>\n",
       "      <td>0.002227</td>\n",
       "      <td>0.063465</td>\n",
       "      <td>0.001520</td>\n",
       "      <td>0.019956</td>\n",
       "      <td>0.090393</td>\n",
       "      <td>0.006408</td>\n",
       "      <td>0.778396</td>\n",
       "      <td>0.005524</td>\n",
       "      <td>0.019895</td>\n",
       "      <td>0.001262</td>\n",
       "      <td>0.008741</td>\n",
       "    </tr>\n",
       "    <tr>\n",
       "      <th>1</th>\n",
       "      <td>0.002173</td>\n",
       "      <td>0.002443</td>\n",
       "      <td>0.063826</td>\n",
       "      <td>0.001498</td>\n",
       "      <td>0.020123</td>\n",
       "      <td>0.088649</td>\n",
       "      <td>0.006511</td>\n",
       "      <td>0.780035</td>\n",
       "      <td>0.005091</td>\n",
       "      <td>0.019484</td>\n",
       "      <td>0.001328</td>\n",
       "      <td>0.008840</td>\n",
       "    </tr>\n",
       "  </tbody>\n",
       "</table>\n",
       "</div>"
      ],
      "text/plain": [
       "body_type   COMPACT  com_pact   compact  convertible     coupe       nan  \\\n",
       "sold_flag                                                                  \n",
       "0          0.002213  0.002227  0.063465     0.001520  0.019956  0.090393   \n",
       "1          0.002173  0.002443  0.063826     0.001498  0.020123  0.088649   \n",
       "\n",
       "body_type   offroad     other     sedan  stationwagon  transporter       van  \n",
       "sold_flag                                                                     \n",
       "0          0.006408  0.778396  0.005524      0.019895     0.001262  0.008741  \n",
       "1          0.006511  0.780035  0.005091      0.019484     0.001328  0.008840  "
      ]
     },
     "metadata": {},
     "output_type": "display_data"
    },
    {
     "data": {
      "text/html": [
       "<div>\n",
       "<style scoped>\n",
       "    .dataframe tbody tr th:only-of-type {\n",
       "        vertical-align: middle;\n",
       "    }\n",
       "\n",
       "    .dataframe tbody tr th {\n",
       "        vertical-align: top;\n",
       "    }\n",
       "\n",
       "    .dataframe thead th {\n",
       "        text-align: right;\n",
       "    }\n",
       "</style>\n",
       "<table border=\"1\" class=\"dataframe\">\n",
       "  <thead>\n",
       "    <tr style=\"text-align: right;\">\n",
       "      <th>transmission</th>\n",
       "      <th>auto</th>\n",
       "      <th>man</th>\n",
       "    </tr>\n",
       "    <tr>\n",
       "      <th>sold_flag</th>\n",
       "      <th></th>\n",
       "      <th></th>\n",
       "    </tr>\n",
       "  </thead>\n",
       "  <tbody>\n",
       "    <tr>\n",
       "      <th>0</th>\n",
       "      <td>0.246935</td>\n",
       "      <td>0.753065</td>\n",
       "    </tr>\n",
       "    <tr>\n",
       "      <th>1</th>\n",
       "      <td>0.247344</td>\n",
       "      <td>0.752656</td>\n",
       "    </tr>\n",
       "  </tbody>\n",
       "</table>\n",
       "</div>"
      ],
      "text/plain": [
       "transmission      auto       man\n",
       "sold_flag                       \n",
       "0             0.246935  0.753065\n",
       "1             0.247344  0.752656"
      ]
     },
     "metadata": {},
     "output_type": "display_data"
    },
    {
     "data": {
      "text/html": [
       "<div>\n",
       "<style scoped>\n",
       "    .dataframe tbody tr th:only-of-type {\n",
       "        vertical-align: middle;\n",
       "    }\n",
       "\n",
       "    .dataframe tbody tr th {\n",
       "        vertical-align: top;\n",
       "    }\n",
       "\n",
       "    .dataframe thead th {\n",
       "        text-align: right;\n",
       "    }\n",
       "</style>\n",
       "<table border=\"1\" class=\"dataframe\">\n",
       "  <thead>\n",
       "    <tr style=\"text-align: right;\">\n",
       "      <th>fuel_type</th>\n",
       "      <th>cng</th>\n",
       "      <th>diesel</th>\n",
       "      <th>electric</th>\n",
       "      <th>gasoline</th>\n",
       "      <th>lpg</th>\n",
       "    </tr>\n",
       "    <tr>\n",
       "      <th>sold_flag</th>\n",
       "      <th></th>\n",
       "      <th></th>\n",
       "      <th></th>\n",
       "      <th></th>\n",
       "      <th></th>\n",
       "    </tr>\n",
       "  </thead>\n",
       "  <tbody>\n",
       "    <tr>\n",
       "      <th>0</th>\n",
       "      <td>0.000309</td>\n",
       "      <td>0.456019</td>\n",
       "      <td>0.007430</td>\n",
       "      <td>0.534210</td>\n",
       "      <td>0.002032</td>\n",
       "    </tr>\n",
       "    <tr>\n",
       "      <th>1</th>\n",
       "      <td>0.000284</td>\n",
       "      <td>0.453833</td>\n",
       "      <td>0.007626</td>\n",
       "      <td>0.536028</td>\n",
       "      <td>0.002230</td>\n",
       "    </tr>\n",
       "  </tbody>\n",
       "</table>\n",
       "</div>"
      ],
      "text/plain": [
       "fuel_type       cng    diesel  electric  gasoline       lpg\n",
       "sold_flag                                                  \n",
       "0          0.000309  0.456019  0.007430  0.534210  0.002032\n",
       "1          0.000284  0.453833  0.007626  0.536028  0.002230"
      ]
     },
     "metadata": {},
     "output_type": "display_data"
    }
   ],
   "source": [
    "for col in combined_data.select_dtypes(include='object'):\n",
    "    if combined_data[col].nunique() <=30:\n",
    "        display(pd.crosstab(combined_data['sold_flag'], combined_data[col], normalize='index'))\n",
    "        #display(pd.crosstab(data['target'], data[col]))"
   ]
  },
  {
   "cell_type": "code",
   "execution_count": 258,
   "id": "de005706",
   "metadata": {},
   "outputs": [
    {
     "data": {
      "text/html": [
       "<div>\n",
       "<style scoped>\n",
       "    .dataframe tbody tr th:only-of-type {\n",
       "        vertical-align: middle;\n",
       "    }\n",
       "\n",
       "    .dataframe tbody tr th {\n",
       "        vertical-align: top;\n",
       "    }\n",
       "\n",
       "    .dataframe thead th {\n",
       "        text-align: right;\n",
       "    }\n",
       "</style>\n",
       "<table border=\"1\" class=\"dataframe\">\n",
       "  <thead>\n",
       "    <tr style=\"text-align: right;\">\n",
       "      <th></th>\n",
       "      <th>mileage</th>\n",
       "      <th>engine_displacement</th>\n",
       "      <th>engine_power</th>\n",
       "      <th>price_eur</th>\n",
       "    </tr>\n",
       "    <tr>\n",
       "      <th>body_type</th>\n",
       "      <th></th>\n",
       "      <th></th>\n",
       "      <th></th>\n",
       "      <th></th>\n",
       "    </tr>\n",
       "  </thead>\n",
       "  <tbody>\n",
       "    <tr>\n",
       "      <th>COMPACT</th>\n",
       "      <td>109376.067007</td>\n",
       "      <td>1847.751117</td>\n",
       "      <td>85.539247</td>\n",
       "      <td>4230.519375</td>\n",
       "    </tr>\n",
       "    <tr>\n",
       "      <th>com_pact</th>\n",
       "      <td>111013.956603</td>\n",
       "      <td>1857.267204</td>\n",
       "      <td>86.760074</td>\n",
       "      <td>231675.302201</td>\n",
       "    </tr>\n",
       "    <tr>\n",
       "      <th>compact</th>\n",
       "      <td>110220.154569</td>\n",
       "      <td>1861.723819</td>\n",
       "      <td>85.214605</td>\n",
       "      <td>33826.526579</td>\n",
       "    </tr>\n",
       "    <tr>\n",
       "      <th>convertible</th>\n",
       "      <td>84393.254410</td>\n",
       "      <td>2177.168059</td>\n",
       "      <td>117.106778</td>\n",
       "      <td>18983.311718</td>\n",
       "    </tr>\n",
       "    <tr>\n",
       "      <th>coupe</th>\n",
       "      <td>103321.189559</td>\n",
       "      <td>1598.988102</td>\n",
       "      <td>79.356378</td>\n",
       "      <td>3204.450546</td>\n",
       "    </tr>\n",
       "    <tr>\n",
       "      <th>nan</th>\n",
       "      <td>88363.162559</td>\n",
       "      <td>1831.348131</td>\n",
       "      <td>96.917966</td>\n",
       "      <td>16047.563271</td>\n",
       "    </tr>\n",
       "    <tr>\n",
       "      <th>offroad</th>\n",
       "      <td>96692.132334</td>\n",
       "      <td>2299.714536</td>\n",
       "      <td>126.065455</td>\n",
       "      <td>1295.340000</td>\n",
       "    </tr>\n",
       "    <tr>\n",
       "      <th>other</th>\n",
       "      <td>95421.182570</td>\n",
       "      <td>1832.658519</td>\n",
       "      <td>94.361962</td>\n",
       "      <td>15277.895355</td>\n",
       "    </tr>\n",
       "    <tr>\n",
       "      <th>sedan</th>\n",
       "      <td>139277.918349</td>\n",
       "      <td>2180.148939</td>\n",
       "      <td>114.737060</td>\n",
       "      <td>1301.594472</td>\n",
       "    </tr>\n",
       "    <tr>\n",
       "      <th>stationwagon</th>\n",
       "      <td>147462.532637</td>\n",
       "      <td>1822.936785</td>\n",
       "      <td>93.743874</td>\n",
       "      <td>1295.340000</td>\n",
       "    </tr>\n",
       "    <tr>\n",
       "      <th>transporter</th>\n",
       "      <td>103910.230684</td>\n",
       "      <td>1908.900662</td>\n",
       "      <td>81.976821</td>\n",
       "      <td>14281.115894</td>\n",
       "    </tr>\n",
       "    <tr>\n",
       "      <th>van</th>\n",
       "      <td>125550.635904</td>\n",
       "      <td>1784.699116</td>\n",
       "      <td>89.388273</td>\n",
       "      <td>5509.731505</td>\n",
       "    </tr>\n",
       "  </tbody>\n",
       "</table>\n",
       "</div>"
      ],
      "text/plain": [
       "                    mileage  engine_displacement  engine_power      price_eur\n",
       "body_type                                                                    \n",
       "COMPACT       109376.067007          1847.751117     85.539247    4230.519375\n",
       "com_pact      111013.956603          1857.267204     86.760074  231675.302201\n",
       "compact       110220.154569          1861.723819     85.214605   33826.526579\n",
       "convertible    84393.254410          2177.168059    117.106778   18983.311718\n",
       "coupe         103321.189559          1598.988102     79.356378    3204.450546\n",
       "nan            88363.162559          1831.348131     96.917966   16047.563271\n",
       "offroad        96692.132334          2299.714536    126.065455    1295.340000\n",
       "other          95421.182570          1832.658519     94.361962   15277.895355\n",
       "sedan         139277.918349          2180.148939    114.737060    1301.594472\n",
       "stationwagon  147462.532637          1822.936785     93.743874    1295.340000\n",
       "transporter   103910.230684          1908.900662     81.976821   14281.115894\n",
       "van           125550.635904          1784.699116     89.388273    5509.731505"
      ]
     },
     "metadata": {},
     "output_type": "display_data"
    },
    {
     "data": {
      "text/html": [
       "<div>\n",
       "<style scoped>\n",
       "    .dataframe tbody tr th:only-of-type {\n",
       "        vertical-align: middle;\n",
       "    }\n",
       "\n",
       "    .dataframe tbody tr th {\n",
       "        vertical-align: top;\n",
       "    }\n",
       "\n",
       "    .dataframe thead th {\n",
       "        text-align: right;\n",
       "    }\n",
       "</style>\n",
       "<table border=\"1\" class=\"dataframe\">\n",
       "  <thead>\n",
       "    <tr style=\"text-align: right;\">\n",
       "      <th></th>\n",
       "      <th>mileage</th>\n",
       "      <th>engine_displacement</th>\n",
       "      <th>engine_power</th>\n",
       "      <th>price_eur</th>\n",
       "    </tr>\n",
       "    <tr>\n",
       "      <th>transmission</th>\n",
       "      <th></th>\n",
       "      <th></th>\n",
       "      <th></th>\n",
       "      <th></th>\n",
       "    </tr>\n",
       "  </thead>\n",
       "  <tbody>\n",
       "    <tr>\n",
       "      <th>auto</th>\n",
       "      <td>90053.775180</td>\n",
       "      <td>2266.812719</td>\n",
       "      <td>124.855229</td>\n",
       "      <td>22067.289322</td>\n",
       "    </tr>\n",
       "    <tr>\n",
       "      <th>man</th>\n",
       "      <td>99923.884129</td>\n",
       "      <td>1692.951300</td>\n",
       "      <td>83.813870</td>\n",
       "      <td>14311.201081</td>\n",
       "    </tr>\n",
       "  </tbody>\n",
       "</table>\n",
       "</div>"
      ],
      "text/plain": [
       "                   mileage  engine_displacement  engine_power     price_eur\n",
       "transmission                                                               \n",
       "auto          90053.775180          2266.812719    124.855229  22067.289322\n",
       "man           99923.884129          1692.951300     83.813870  14311.201081"
      ]
     },
     "metadata": {},
     "output_type": "display_data"
    },
    {
     "data": {
      "text/html": [
       "<div>\n",
       "<style scoped>\n",
       "    .dataframe tbody tr th:only-of-type {\n",
       "        vertical-align: middle;\n",
       "    }\n",
       "\n",
       "    .dataframe tbody tr th {\n",
       "        vertical-align: top;\n",
       "    }\n",
       "\n",
       "    .dataframe thead th {\n",
       "        text-align: right;\n",
       "    }\n",
       "</style>\n",
       "<table border=\"1\" class=\"dataframe\">\n",
       "  <thead>\n",
       "    <tr style=\"text-align: right;\">\n",
       "      <th></th>\n",
       "      <th>mileage</th>\n",
       "      <th>engine_displacement</th>\n",
       "      <th>engine_power</th>\n",
       "      <th>price_eur</th>\n",
       "    </tr>\n",
       "    <tr>\n",
       "      <th>fuel_type</th>\n",
       "      <th></th>\n",
       "      <th></th>\n",
       "      <th></th>\n",
       "      <th></th>\n",
       "    </tr>\n",
       "  </thead>\n",
       "  <tbody>\n",
       "    <tr>\n",
       "      <th>cng</th>\n",
       "      <td>108370.425926</td>\n",
       "      <td>1606.180556</td>\n",
       "      <td>81.388889</td>\n",
       "      <td>1295.340000</td>\n",
       "    </tr>\n",
       "    <tr>\n",
       "      <th>diesel</th>\n",
       "      <td>104281.505764</td>\n",
       "      <td>1982.340040</td>\n",
       "      <td>104.413562</td>\n",
       "      <td>14868.657034</td>\n",
       "    </tr>\n",
       "    <tr>\n",
       "      <th>electric</th>\n",
       "      <td>135235.123893</td>\n",
       "      <td>1866.685698</td>\n",
       "      <td>89.027888</td>\n",
       "      <td>1295.340000</td>\n",
       "    </tr>\n",
       "    <tr>\n",
       "      <th>gasoline</th>\n",
       "      <td>91029.535802</td>\n",
       "      <td>1708.542462</td>\n",
       "      <td>85.126730</td>\n",
       "      <td>17659.753068</td>\n",
       "    </tr>\n",
       "    <tr>\n",
       "      <th>lpg</th>\n",
       "      <td>131311.311481</td>\n",
       "      <td>1840.544158</td>\n",
       "      <td>90.050951</td>\n",
       "      <td>1295.340000</td>\n",
       "    </tr>\n",
       "  </tbody>\n",
       "</table>\n",
       "</div>"
      ],
      "text/plain": [
       "                 mileage  engine_displacement  engine_power     price_eur\n",
       "fuel_type                                                                \n",
       "cng        108370.425926          1606.180556     81.388889   1295.340000\n",
       "diesel     104281.505764          1982.340040    104.413562  14868.657034\n",
       "electric   135235.123893          1866.685698     89.027888   1295.340000\n",
       "gasoline    91029.535802          1708.542462     85.126730  17659.753068\n",
       "lpg        131311.311481          1840.544158     90.050951   1295.340000"
      ]
     },
     "metadata": {},
     "output_type": "display_data"
    }
   ],
   "source": [
    "for col in combined_data.select_dtypes(include='object'):\n",
    "    if combined_data[col].nunique() <= 30:\n",
    "        display(combined_data.groupby(col)[['mileage', 'engine_displacement', 'engine_power', 'price_eur']].mean())\n"
   ]
  },
  {
   "cell_type": "markdown",
   "id": "e2e6d0eb",
   "metadata": {},
   "source": [
    "1. mileage drops in gasoline fuel type but price for gasoline is more\n",
    "2. engine power is more in diesel fuel type. \n",
    "3. for manual transmission the mileage is more but the power and price is less compared to auto\n",
    "4. price for com_pact body pain is exceedingly high"
   ]
  },
  {
   "cell_type": "code",
   "execution_count": 259,
   "id": "e94acce7",
   "metadata": {},
   "outputs": [
    {
     "data": {
      "text/html": [
       "<div>\n",
       "<style scoped>\n",
       "    .dataframe tbody tr th:only-of-type {\n",
       "        vertical-align: middle;\n",
       "    }\n",
       "\n",
       "    .dataframe tbody tr th {\n",
       "        vertical-align: top;\n",
       "    }\n",
       "\n",
       "    .dataframe thead th {\n",
       "        text-align: right;\n",
       "    }\n",
       "</style>\n",
       "<table border=\"1\" class=\"dataframe\">\n",
       "  <thead>\n",
       "    <tr style=\"text-align: right;\">\n",
       "      <th></th>\n",
       "      <th>mileage</th>\n",
       "      <th>manufacture_year</th>\n",
       "      <th>engine_displacement</th>\n",
       "      <th>engine_power</th>\n",
       "      <th>door_count</th>\n",
       "      <th>seat_count</th>\n",
       "      <th>price_eur</th>\n",
       "      <th>sold_flag</th>\n",
       "      <th>height_of_picture</th>\n",
       "      <th>width_of_picture</th>\n",
       "      <th>aspect_ratio</th>\n",
       "      <th>no_of_pictures</th>\n",
       "      <th>z score</th>\n",
       "    </tr>\n",
       "  </thead>\n",
       "  <tbody>\n",
       "    <tr>\n",
       "      <th>mileage</th>\n",
       "      <td>1.000000</td>\n",
       "      <td>0.147551</td>\n",
       "      <td>0.155888</td>\n",
       "      <td>0.008689</td>\n",
       "      <td>0.055267</td>\n",
       "      <td>0.038352</td>\n",
       "      <td>-0.004100</td>\n",
       "      <td>-0.000850</td>\n",
       "      <td>-0.000033</td>\n",
       "      <td>0.001369</td>\n",
       "      <td>0.000072</td>\n",
       "      <td>-0.000396</td>\n",
       "      <td>0.001123</td>\n",
       "    </tr>\n",
       "    <tr>\n",
       "      <th>manufacture_year</th>\n",
       "      <td>0.147551</td>\n",
       "      <td>1.000000</td>\n",
       "      <td>0.034770</td>\n",
       "      <td>0.007103</td>\n",
       "      <td>-0.070015</td>\n",
       "      <td>-0.026662</td>\n",
       "      <td>-0.003787</td>\n",
       "      <td>0.001207</td>\n",
       "      <td>-0.000200</td>\n",
       "      <td>0.001156</td>\n",
       "      <td>0.001252</td>\n",
       "      <td>-0.000315</td>\n",
       "      <td>0.001795</td>\n",
       "    </tr>\n",
       "    <tr>\n",
       "      <th>engine_displacement</th>\n",
       "      <td>0.155888</td>\n",
       "      <td>0.034770</td>\n",
       "      <td>1.000000</td>\n",
       "      <td>0.608010</td>\n",
       "      <td>-0.058881</td>\n",
       "      <td>0.019486</td>\n",
       "      <td>0.002499</td>\n",
       "      <td>-0.001993</td>\n",
       "      <td>0.000139</td>\n",
       "      <td>0.000602</td>\n",
       "      <td>0.000472</td>\n",
       "      <td>0.002719</td>\n",
       "      <td>0.000882</td>\n",
       "    </tr>\n",
       "    <tr>\n",
       "      <th>engine_power</th>\n",
       "      <td>0.008689</td>\n",
       "      <td>0.007103</td>\n",
       "      <td>0.608010</td>\n",
       "      <td>1.000000</td>\n",
       "      <td>-0.069398</td>\n",
       "      <td>0.040063</td>\n",
       "      <td>0.003079</td>\n",
       "      <td>-0.000669</td>\n",
       "      <td>0.001430</td>\n",
       "      <td>0.001122</td>\n",
       "      <td>-0.000325</td>\n",
       "      <td>0.000205</td>\n",
       "      <td>0.000568</td>\n",
       "    </tr>\n",
       "    <tr>\n",
       "      <th>door_count</th>\n",
       "      <td>0.055267</td>\n",
       "      <td>-0.070015</td>\n",
       "      <td>-0.058881</td>\n",
       "      <td>-0.069398</td>\n",
       "      <td>1.000000</td>\n",
       "      <td>0.366505</td>\n",
       "      <td>-0.002414</td>\n",
       "      <td>-0.000767</td>\n",
       "      <td>0.001135</td>\n",
       "      <td>0.001108</td>\n",
       "      <td>0.000278</td>\n",
       "      <td>-0.001429</td>\n",
       "      <td>0.000154</td>\n",
       "    </tr>\n",
       "    <tr>\n",
       "      <th>seat_count</th>\n",
       "      <td>0.038352</td>\n",
       "      <td>-0.026662</td>\n",
       "      <td>0.019486</td>\n",
       "      <td>0.040063</td>\n",
       "      <td>0.366505</td>\n",
       "      <td>1.000000</td>\n",
       "      <td>-0.000283</td>\n",
       "      <td>-0.001050</td>\n",
       "      <td>-0.000372</td>\n",
       "      <td>-0.000088</td>\n",
       "      <td>0.000105</td>\n",
       "      <td>-0.002138</td>\n",
       "      <td>0.000116</td>\n",
       "    </tr>\n",
       "    <tr>\n",
       "      <th>price_eur</th>\n",
       "      <td>-0.004100</td>\n",
       "      <td>-0.003787</td>\n",
       "      <td>0.002499</td>\n",
       "      <td>0.003079</td>\n",
       "      <td>-0.002414</td>\n",
       "      <td>-0.000283</td>\n",
       "      <td>1.000000</td>\n",
       "      <td>-0.000371</td>\n",
       "      <td>0.000747</td>\n",
       "      <td>-0.000769</td>\n",
       "      <td>-0.001176</td>\n",
       "      <td>0.000137</td>\n",
       "      <td>-0.000862</td>\n",
       "    </tr>\n",
       "    <tr>\n",
       "      <th>sold_flag</th>\n",
       "      <td>-0.000850</td>\n",
       "      <td>0.001207</td>\n",
       "      <td>-0.001993</td>\n",
       "      <td>-0.000669</td>\n",
       "      <td>-0.000767</td>\n",
       "      <td>-0.001050</td>\n",
       "      <td>-0.000371</td>\n",
       "      <td>1.000000</td>\n",
       "      <td>0.001160</td>\n",
       "      <td>0.000990</td>\n",
       "      <td>0.000218</td>\n",
       "      <td>-0.001335</td>\n",
       "      <td>0.000805</td>\n",
       "    </tr>\n",
       "    <tr>\n",
       "      <th>height_of_picture</th>\n",
       "      <td>-0.000033</td>\n",
       "      <td>-0.000200</td>\n",
       "      <td>0.000139</td>\n",
       "      <td>0.001430</td>\n",
       "      <td>0.001135</td>\n",
       "      <td>-0.000372</td>\n",
       "      <td>0.000747</td>\n",
       "      <td>0.001160</td>\n",
       "      <td>1.000000</td>\n",
       "      <td>0.224692</td>\n",
       "      <td>-0.398470</td>\n",
       "      <td>-0.001533</td>\n",
       "      <td>0.183503</td>\n",
       "    </tr>\n",
       "    <tr>\n",
       "      <th>width_of_picture</th>\n",
       "      <td>0.001369</td>\n",
       "      <td>0.001156</td>\n",
       "      <td>0.000602</td>\n",
       "      <td>0.001122</td>\n",
       "      <td>0.001108</td>\n",
       "      <td>-0.000088</td>\n",
       "      <td>-0.000769</td>\n",
       "      <td>0.000990</td>\n",
       "      <td>0.224692</td>\n",
       "      <td>1.000000</td>\n",
       "      <td>0.569269</td>\n",
       "      <td>-0.000889</td>\n",
       "      <td>0.908279</td>\n",
       "    </tr>\n",
       "    <tr>\n",
       "      <th>aspect_ratio</th>\n",
       "      <td>0.000072</td>\n",
       "      <td>0.001252</td>\n",
       "      <td>0.000472</td>\n",
       "      <td>-0.000325</td>\n",
       "      <td>0.000278</td>\n",
       "      <td>0.000105</td>\n",
       "      <td>-0.001176</td>\n",
       "      <td>0.000218</td>\n",
       "      <td>-0.398470</td>\n",
       "      <td>0.569269</td>\n",
       "      <td>1.000000</td>\n",
       "      <td>0.000154</td>\n",
       "      <td>0.526087</td>\n",
       "    </tr>\n",
       "    <tr>\n",
       "      <th>no_of_pictures</th>\n",
       "      <td>-0.000396</td>\n",
       "      <td>-0.000315</td>\n",
       "      <td>0.002719</td>\n",
       "      <td>0.000205</td>\n",
       "      <td>-0.001429</td>\n",
       "      <td>-0.002138</td>\n",
       "      <td>0.000137</td>\n",
       "      <td>-0.001335</td>\n",
       "      <td>-0.001533</td>\n",
       "      <td>-0.000889</td>\n",
       "      <td>0.000154</td>\n",
       "      <td>1.000000</td>\n",
       "      <td>-0.001487</td>\n",
       "    </tr>\n",
       "    <tr>\n",
       "      <th>z score</th>\n",
       "      <td>0.001123</td>\n",
       "      <td>0.001795</td>\n",
       "      <td>0.000882</td>\n",
       "      <td>0.000568</td>\n",
       "      <td>0.000154</td>\n",
       "      <td>0.000116</td>\n",
       "      <td>-0.000862</td>\n",
       "      <td>0.000805</td>\n",
       "      <td>0.183503</td>\n",
       "      <td>0.908279</td>\n",
       "      <td>0.526087</td>\n",
       "      <td>-0.001487</td>\n",
       "      <td>1.000000</td>\n",
       "    </tr>\n",
       "  </tbody>\n",
       "</table>\n",
       "</div>"
      ],
      "text/plain": [
       "                      mileage  manufacture_year  engine_displacement  \\\n",
       "mileage              1.000000          0.147551             0.155888   \n",
       "manufacture_year     0.147551          1.000000             0.034770   \n",
       "engine_displacement  0.155888          0.034770             1.000000   \n",
       "engine_power         0.008689          0.007103             0.608010   \n",
       "door_count           0.055267         -0.070015            -0.058881   \n",
       "seat_count           0.038352         -0.026662             0.019486   \n",
       "price_eur           -0.004100         -0.003787             0.002499   \n",
       "sold_flag           -0.000850          0.001207            -0.001993   \n",
       "height_of_picture   -0.000033         -0.000200             0.000139   \n",
       "width_of_picture     0.001369          0.001156             0.000602   \n",
       "aspect_ratio         0.000072          0.001252             0.000472   \n",
       "no_of_pictures      -0.000396         -0.000315             0.002719   \n",
       "z score              0.001123          0.001795             0.000882   \n",
       "\n",
       "                     engine_power  door_count  seat_count  price_eur  \\\n",
       "mileage                  0.008689    0.055267    0.038352  -0.004100   \n",
       "manufacture_year         0.007103   -0.070015   -0.026662  -0.003787   \n",
       "engine_displacement      0.608010   -0.058881    0.019486   0.002499   \n",
       "engine_power             1.000000   -0.069398    0.040063   0.003079   \n",
       "door_count              -0.069398    1.000000    0.366505  -0.002414   \n",
       "seat_count               0.040063    0.366505    1.000000  -0.000283   \n",
       "price_eur                0.003079   -0.002414   -0.000283   1.000000   \n",
       "sold_flag               -0.000669   -0.000767   -0.001050  -0.000371   \n",
       "height_of_picture        0.001430    0.001135   -0.000372   0.000747   \n",
       "width_of_picture         0.001122    0.001108   -0.000088  -0.000769   \n",
       "aspect_ratio            -0.000325    0.000278    0.000105  -0.001176   \n",
       "no_of_pictures           0.000205   -0.001429   -0.002138   0.000137   \n",
       "z score                  0.000568    0.000154    0.000116  -0.000862   \n",
       "\n",
       "                     sold_flag  height_of_picture  width_of_picture  \\\n",
       "mileage              -0.000850          -0.000033          0.001369   \n",
       "manufacture_year      0.001207          -0.000200          0.001156   \n",
       "engine_displacement  -0.001993           0.000139          0.000602   \n",
       "engine_power         -0.000669           0.001430          0.001122   \n",
       "door_count           -0.000767           0.001135          0.001108   \n",
       "seat_count           -0.001050          -0.000372         -0.000088   \n",
       "price_eur            -0.000371           0.000747         -0.000769   \n",
       "sold_flag             1.000000           0.001160          0.000990   \n",
       "height_of_picture     0.001160           1.000000          0.224692   \n",
       "width_of_picture      0.000990           0.224692          1.000000   \n",
       "aspect_ratio          0.000218          -0.398470          0.569269   \n",
       "no_of_pictures       -0.001335          -0.001533         -0.000889   \n",
       "z score               0.000805           0.183503          0.908279   \n",
       "\n",
       "                     aspect_ratio  no_of_pictures   z score  \n",
       "mileage                  0.000072       -0.000396  0.001123  \n",
       "manufacture_year         0.001252       -0.000315  0.001795  \n",
       "engine_displacement      0.000472        0.002719  0.000882  \n",
       "engine_power            -0.000325        0.000205  0.000568  \n",
       "door_count               0.000278       -0.001429  0.000154  \n",
       "seat_count               0.000105       -0.002138  0.000116  \n",
       "price_eur               -0.001176        0.000137 -0.000862  \n",
       "sold_flag                0.000218       -0.001335  0.000805  \n",
       "height_of_picture       -0.398470       -0.001533  0.183503  \n",
       "width_of_picture         0.569269       -0.000889  0.908279  \n",
       "aspect_ratio             1.000000        0.000154  0.526087  \n",
       "no_of_pictures           0.000154        1.000000 -0.001487  \n",
       "z score                  0.526087       -0.001487  1.000000  "
      ]
     },
     "execution_count": 259,
     "metadata": {},
     "output_type": "execute_result"
    }
   ],
   "source": [
    "corr = combined_data.corr()\n",
    "corr"
   ]
  },
  {
   "cell_type": "code",
   "execution_count": 260,
   "id": "3e4eb2a2",
   "metadata": {},
   "outputs": [
    {
     "data": {
      "image/png": "[encoded data removed]",
      "text/plain": [
       "<Figure size 720x720 with 2 Axes>"
      ]
     },
     "metadata": {
      "needs_background": "light"
     },
     "output_type": "display_data"
    }
   ],
   "source": [
    "plt.figure(figsize=(10,10))\n",
    "sns.heatmap(corr, cmap='RdBu_r', annot=True, vmax=1, vmin=-1)\n",
    "plt.show()"
   ]
  },
  {
   "cell_type": "markdown",
   "id": "ea684e31",
   "metadata": {},
   "source": [
    "## Encoding"
   ]
  },
  {
   "cell_type": "code",
   "execution_count": 261,
   "id": "c0fe065b",
   "metadata": {},
   "outputs": [],
   "source": [
    "maker = LabelEncoder()\n",
    "combined_data['maker'] = maker.fit_transform(combined_data['maker']) \n",
    "model = LabelEncoder()\n",
    "combined_data['model'] = model.fit_transform(combined_data['model']) \n",
    "body_type = LabelEncoder()\n",
    "combined_data['body_type'] = body_type.fit_transform(combined_data['body_type']) \n",
    "transmission = LabelEncoder()\n",
    "combined_data['transmission'] = transmission.fit_transform(combined_data['transmission']) \n",
    "fuel_type = LabelEncoder()\n",
    "combined_data['fuel_type'] = fuel_type.fit_transform(combined_data['fuel_type']) "
   ]
  },
  {
   "cell_type": "code",
   "execution_count": 262,
   "id": "83072fcb",
   "metadata": {},
   "outputs": [
    {
     "data": {
      "text/html": [
       "<div>\n",
       "<style scoped>\n",
       "    .dataframe tbody tr th:only-of-type {\n",
       "        vertical-align: middle;\n",
       "    }\n",
       "\n",
       "    .dataframe tbody tr th {\n",
       "        vertical-align: top;\n",
       "    }\n",
       "\n",
       "    .dataframe thead th {\n",
       "        text-align: right;\n",
       "    }\n",
       "</style>\n",
       "<table border=\"1\" class=\"dataframe\">\n",
       "  <thead>\n",
       "    <tr style=\"text-align: right;\">\n",
       "      <th></th>\n",
       "      <th>0</th>\n",
       "      <th>1</th>\n",
       "      <th>2</th>\n",
       "      <th>3</th>\n",
       "      <th>4</th>\n",
       "    </tr>\n",
       "  </thead>\n",
       "  <tbody>\n",
       "    <tr>\n",
       "      <th>maker</th>\n",
       "      <td>12</td>\n",
       "      <td>0</td>\n",
       "      <td>45</td>\n",
       "      <td>39</td>\n",
       "      <td>12</td>\n",
       "    </tr>\n",
       "    <tr>\n",
       "      <th>model</th>\n",
       "      <td>421</td>\n",
       "      <td>166</td>\n",
       "      <td>659</td>\n",
       "      <td>166</td>\n",
       "      <td>853</td>\n",
       "    </tr>\n",
       "    <tr>\n",
       "      <th>mileage</th>\n",
       "      <td>92000.0</td>\n",
       "      <td>22000.0</td>\n",
       "      <td>29680.0</td>\n",
       "      <td>22100.0</td>\n",
       "      <td>57690.0</td>\n",
       "    </tr>\n",
       "    <tr>\n",
       "      <th>manufacture_year</th>\n",
       "      <td>2006.0</td>\n",
       "      <td>2013.0</td>\n",
       "      <td>2013.0</td>\n",
       "      <td>2015.0</td>\n",
       "      <td>2010.0</td>\n",
       "    </tr>\n",
       "    <tr>\n",
       "      <th>engine_displacement</th>\n",
       "      <td>1596.0</td>\n",
       "      <td>1560.0</td>\n",
       "      <td>1197.0</td>\n",
       "      <td>1598.0</td>\n",
       "      <td>2198.0</td>\n",
       "    </tr>\n",
       "    <tr>\n",
       "      <th>engine_power</th>\n",
       "      <td>85.0</td>\n",
       "      <td>85.0</td>\n",
       "      <td>66.0</td>\n",
       "      <td>66.0</td>\n",
       "      <td>63.0</td>\n",
       "    </tr>\n",
       "    <tr>\n",
       "      <th>body_type</th>\n",
       "      <td>4</td>\n",
       "      <td>7</td>\n",
       "      <td>7</td>\n",
       "      <td>7</td>\n",
       "      <td>7</td>\n",
       "    </tr>\n",
       "    <tr>\n",
       "      <th>transmission</th>\n",
       "      <td>1</td>\n",
       "      <td>1</td>\n",
       "      <td>1</td>\n",
       "      <td>0</td>\n",
       "      <td>1</td>\n",
       "    </tr>\n",
       "    <tr>\n",
       "      <th>door_count</th>\n",
       "      <td>5</td>\n",
       "      <td>4</td>\n",
       "      <td>5</td>\n",
       "      <td>5</td>\n",
       "      <td>4</td>\n",
       "    </tr>\n",
       "    <tr>\n",
       "      <th>seat_count</th>\n",
       "      <td>5</td>\n",
       "      <td>5</td>\n",
       "      <td>5</td>\n",
       "      <td>5</td>\n",
       "      <td>3</td>\n",
       "    </tr>\n",
       "    <tr>\n",
       "      <th>fuel_type</th>\n",
       "      <td>3</td>\n",
       "      <td>1</td>\n",
       "      <td>1</td>\n",
       "      <td>3</td>\n",
       "      <td>1</td>\n",
       "    </tr>\n",
       "    <tr>\n",
       "      <th>date_created</th>\n",
       "      <td>2017-02-14 17:34:38.809116+00</td>\n",
       "      <td>2015-12-02 09:31:25.571302+00</td>\n",
       "      <td>2016-02-26 10:59:10.921811+00</td>\n",
       "      <td>2016-03-05 11:12:58.5208+00</td>\n",
       "      <td>2015-12-18 14:46:32.397086+00</td>\n",
       "    </tr>\n",
       "    <tr>\n",
       "      <th>date_last_seen</th>\n",
       "      <td>2017-02-14 17:34:38.809116+00</td>\n",
       "      <td>2015-12-14 05:16:59.23886+00</td>\n",
       "      <td>2016-07-03 19:25:35.777411+00</td>\n",
       "      <td>2011-07-03 17:38:05.783742+00</td>\n",
       "      <td>2016-02-16 15:00:04.57898+00</td>\n",
       "    </tr>\n",
       "    <tr>\n",
       "      <th>price_eur</th>\n",
       "      <td>1295.34</td>\n",
       "      <td>14991.67</td>\n",
       "      <td>12460.0</td>\n",
       "      <td>14590.0</td>\n",
       "      <td>10046.08</td>\n",
       "    </tr>\n",
       "    <tr>\n",
       "      <th>sold_flag</th>\n",
       "      <td>1</td>\n",
       "      <td>0</td>\n",
       "      <td>0</td>\n",
       "      <td>1</td>\n",
       "      <td>0</td>\n",
       "    </tr>\n",
       "    <tr>\n",
       "      <th>height_of_picture</th>\n",
       "      <td>51.0</td>\n",
       "      <td>62.0</td>\n",
       "      <td>51.0</td>\n",
       "      <td>30.0</td>\n",
       "      <td>23.0</td>\n",
       "    </tr>\n",
       "    <tr>\n",
       "      <th>width_of_picture</th>\n",
       "      <td>110.0</td>\n",
       "      <td>88.0</td>\n",
       "      <td>110.0</td>\n",
       "      <td>100.0</td>\n",
       "      <td>26.0</td>\n",
       "    </tr>\n",
       "    <tr>\n",
       "      <th>aspect_ratio</th>\n",
       "      <td>2.102</td>\n",
       "      <td>1.4193</td>\n",
       "      <td>2.102</td>\n",
       "      <td>3.3333</td>\n",
       "      <td>1.1304</td>\n",
       "    </tr>\n",
       "    <tr>\n",
       "      <th>no_of_pictures</th>\n",
       "      <td>3</td>\n",
       "      <td>6</td>\n",
       "      <td>4</td>\n",
       "      <td>5</td>\n",
       "      <td>7</td>\n",
       "    </tr>\n",
       "    <tr>\n",
       "      <th>test1</th>\n",
       "      <td>2017-02-14 17:34:38.809116+00</td>\n",
       "      <td>2015-12-02 09:31:25.571302+00</td>\n",
       "      <td>2016-02-26 10:59:10.921811+00</td>\n",
       "      <td>2016-03-05 11:12:58.5208+00</td>\n",
       "      <td>2015-12-18 14:46:32.397086+00</td>\n",
       "    </tr>\n",
       "    <tr>\n",
       "      <th>test2</th>\n",
       "      <td>2017-02-14 17:34:38.809116+00</td>\n",
       "      <td>2015-12-14 05:16:59.23886+00</td>\n",
       "      <td>2016-07-03 19:25:35.777411+00</td>\n",
       "      <td>2016-07-03 17:38:05.783742+00</td>\n",
       "      <td>2016-02-16 15:00:04.57898+00</td>\n",
       "    </tr>\n",
       "    <tr>\n",
       "      <th>z score</th>\n",
       "      <td>-0.292278</td>\n",
       "      <td>-0.48768</td>\n",
       "      <td>-0.292278</td>\n",
       "      <td>-0.381097</td>\n",
       "      <td>-1.038359</td>\n",
       "    </tr>\n",
       "  </tbody>\n",
       "</table>\n",
       "</div>"
      ],
      "text/plain": [
       "                                                 0  \\\n",
       "maker                                           12   \n",
       "model                                          421   \n",
       "mileage                                    92000.0   \n",
       "manufacture_year                            2006.0   \n",
       "engine_displacement                         1596.0   \n",
       "engine_power                                  85.0   \n",
       "body_type                                        4   \n",
       "transmission                                     1   \n",
       "door_count                                       5   \n",
       "seat_count                                       5   \n",
       "fuel_type                                        3   \n",
       "date_created         2017-02-14 17:34:38.809116+00   \n",
       "date_last_seen       2017-02-14 17:34:38.809116+00   \n",
       "price_eur                                  1295.34   \n",
       "sold_flag                                        1   \n",
       "height_of_picture                             51.0   \n",
       "width_of_picture                             110.0   \n",
       "aspect_ratio                                 2.102   \n",
       "no_of_pictures                                   3   \n",
       "test1                2017-02-14 17:34:38.809116+00   \n",
       "test2                2017-02-14 17:34:38.809116+00   \n",
       "z score                                  -0.292278   \n",
       "\n",
       "                                                 1  \\\n",
       "maker                                            0   \n",
       "model                                          166   \n",
       "mileage                                    22000.0   \n",
       "manufacture_year                            2013.0   \n",
       "engine_displacement                         1560.0   \n",
       "engine_power                                  85.0   \n",
       "body_type                                        7   \n",
       "transmission                                     1   \n",
       "door_count                                       4   \n",
       "seat_count                                       5   \n",
       "fuel_type                                        1   \n",
       "date_created         2015-12-02 09:31:25.571302+00   \n",
       "date_last_seen        2015-12-14 05:16:59.23886+00   \n",
       "price_eur                                 14991.67   \n",
       "sold_flag                                        0   \n",
       "height_of_picture                             62.0   \n",
       "width_of_picture                              88.0   \n",
       "aspect_ratio                                1.4193   \n",
       "no_of_pictures                                   6   \n",
       "test1                2015-12-02 09:31:25.571302+00   \n",
       "test2                 2015-12-14 05:16:59.23886+00   \n",
       "z score                                   -0.48768   \n",
       "\n",
       "                                                 2  \\\n",
       "maker                                           45   \n",
       "model                                          659   \n",
       "mileage                                    29680.0   \n",
       "manufacture_year                            2013.0   \n",
       "engine_displacement                         1197.0   \n",
       "engine_power                                  66.0   \n",
       "body_type                                        7   \n",
       "transmission                                     1   \n",
       "door_count                                       5   \n",
       "seat_count                                       5   \n",
       "fuel_type                                        1   \n",
       "date_created         2016-02-26 10:59:10.921811+00   \n",
       "date_last_seen       2016-07-03 19:25:35.777411+00   \n",
       "price_eur                                  12460.0   \n",
       "sold_flag                                        0   \n",
       "height_of_picture                             51.0   \n",
       "width_of_picture                             110.0   \n",
       "aspect_ratio                                 2.102   \n",
       "no_of_pictures                                   4   \n",
       "test1                2016-02-26 10:59:10.921811+00   \n",
       "test2                2016-07-03 19:25:35.777411+00   \n",
       "z score                                  -0.292278   \n",
       "\n",
       "                                                 3  \\\n",
       "maker                                           39   \n",
       "model                                          166   \n",
       "mileage                                    22100.0   \n",
       "manufacture_year                            2015.0   \n",
       "engine_displacement                         1598.0   \n",
       "engine_power                                  66.0   \n",
       "body_type                                        7   \n",
       "transmission                                     0   \n",
       "door_count                                       5   \n",
       "seat_count                                       5   \n",
       "fuel_type                                        3   \n",
       "date_created           2016-03-05 11:12:58.5208+00   \n",
       "date_last_seen       2011-07-03 17:38:05.783742+00   \n",
       "price_eur                                  14590.0   \n",
       "sold_flag                                        1   \n",
       "height_of_picture                             30.0   \n",
       "width_of_picture                             100.0   \n",
       "aspect_ratio                                3.3333   \n",
       "no_of_pictures                                   5   \n",
       "test1                  2016-03-05 11:12:58.5208+00   \n",
       "test2                2016-07-03 17:38:05.783742+00   \n",
       "z score                                  -0.381097   \n",
       "\n",
       "                                                 4  \n",
       "maker                                           12  \n",
       "model                                          853  \n",
       "mileage                                    57690.0  \n",
       "manufacture_year                            2010.0  \n",
       "engine_displacement                         2198.0  \n",
       "engine_power                                  63.0  \n",
       "body_type                                        7  \n",
       "transmission                                     1  \n",
       "door_count                                       4  \n",
       "seat_count                                       3  \n",
       "fuel_type                                        1  \n",
       "date_created         2015-12-18 14:46:32.397086+00  \n",
       "date_last_seen        2016-02-16 15:00:04.57898+00  \n",
       "price_eur                                 10046.08  \n",
       "sold_flag                                        0  \n",
       "height_of_picture                             23.0  \n",
       "width_of_picture                              26.0  \n",
       "aspect_ratio                                1.1304  \n",
       "no_of_pictures                                   7  \n",
       "test1                2015-12-18 14:46:32.397086+00  \n",
       "test2                 2016-02-16 15:00:04.57898+00  \n",
       "z score                                  -1.038359  "
      ]
     },
     "execution_count": 262,
     "metadata": {},
     "output_type": "execute_result"
    }
   ],
   "source": [
    "combined_data.head().T"
   ]
  },
  {
   "cell_type": "markdown",
   "id": "833d9acc",
   "metadata": {},
   "source": [
    "## Split data"
   ]
  },
  {
   "cell_type": "code",
   "execution_count": 500,
   "id": "92f6bf15",
   "metadata": {},
   "outputs": [],
   "source": [
    "X = combined_data.drop(['date_created', 'date_last_seen', 'test1', 'test2', 'z score', 'sold_flag'], axis = 1)\n",
    "y = combined_data['sold_flag']\n",
    "\n",
    "X_train, X_test, y_train, y_test = train_test_split(X, y)\n",
    "\n",
    "X_test_dataset = X_test.copy()"
   ]
  },
  {
   "cell_type": "markdown",
   "id": "c2221175",
   "metadata": {},
   "source": [
    "## Scaling"
   ]
  },
  {
   "cell_type": "code",
   "execution_count": 501,
   "id": "d7556068",
   "metadata": {},
   "outputs": [],
   "source": [
    "scaler = StandardScaler().fit(X_train)"
   ]
  },
  {
   "cell_type": "code",
   "execution_count": 502,
   "id": "78e0dd1c",
   "metadata": {},
   "outputs": [],
   "source": [
    "X_train = scaler.transform(X_train)\n",
    "\n",
    "X_test = scaler.transform(X_test)"
   ]
  },
  {
   "cell_type": "code",
   "execution_count": 499,
   "id": "6734ba6d",
   "metadata": {},
   "outputs": [],
   "source": [
    "# column_dict = {}\n",
    "# for i, col in enumerate(X_test.columns):\n",
    "#     column_dict[col] = \"X_test[:, \" + str(i) + \"]\"\n",
    "# column_dict = str(column_dict).replace(\": '\", ': ').replace(\"]'\", ']')\n",
    "# column_dict\n",
    "# X_test_dataset = pd.DataFrame({'maker': X_test[:, 0], 'model': X_test[:, 1], 'mileage': X_test[:, 2], 'manufacture_year': X_test[:, 3], 'engine_displacement': X_test[:, 4], 'engine_power': X_test[:, 5], 'body_type': X_test[:, 6], 'transmission': X_test[:, 7], 'door_count': X_test[:, 8], 'seat_count': X_test[:, 9], 'fuel_type': X_test[:, 10], 'price_eur': X_test[:, 11], 'height_of_picture': X_test[:, 12], 'width_of_picture': X_test[:, 13], 'aspect_ratio': X_test[:, 14], 'no_of_pictures': X_test[:, 15]})"
   ]
  },
  {
   "cell_type": "markdown",
   "id": "5cb764c7",
   "metadata": {},
   "source": [
    "## Get feature importance"
   ]
  },
  {
   "cell_type": "code",
   "execution_count": 504,
   "id": "02adcfa6",
   "metadata": {},
   "outputs": [
    {
     "data": {
      "text/plain": [
       "DecisionTreeClassifier(ccp_alpha=0.0, class_weight=None, criterion='gini',\n",
       "                       max_depth=None, max_features=None, max_leaf_nodes=None,\n",
       "                       min_impurity_decrease=0.0, min_impurity_split=None,\n",
       "                       min_samples_leaf=1, min_samples_split=2,\n",
       "                       min_weight_fraction_leaf=0.0, presort='deprecated',\n",
       "                       random_state=None, splitter='best')"
      ]
     },
     "execution_count": 504,
     "metadata": {},
     "output_type": "execute_result"
    }
   ],
   "source": [
    "model = DecisionTreeClassifier()\n",
    "model.fit(X_train, y_train)"
   ]
  },
  {
   "cell_type": "code",
   "execution_count": 505,
   "id": "28496da6",
   "metadata": {},
   "outputs": [
    {
     "name": "stdout",
     "output_type": "stream",
     "text": [
      "Feature: maker Score: 0.042556\n",
      "Feature: model Score: 0.063702\n",
      "Feature: mileage Score: 0.157453\n",
      "Feature: manufacture_year Score: 0.074107\n",
      "Feature: engine_displacement Score: 0.069233\n",
      "Feature: engine_power Score: 0.081849\n",
      "Feature: body_type Score: 0.025525\n",
      "Feature: transmission Score: 0.011862\n",
      "Feature: door_count Score: 0.022958\n",
      "Feature: seat_count Score: 0.014647\n",
      "Feature: fuel_type Score: 0.013531\n",
      "Feature: price_eur Score: 0.164063\n",
      "Feature: height_of_picture Score: 0.060423\n",
      "Feature: width_of_picture Score: 0.062726\n",
      "Feature: aspect_ratio Score: 0.068123\n",
      "Feature: no_of_pictures Score: 0.06724\n"
     ]
    },
    {
     "data": {
      "image/png": "[encoded data removed]",
      "text/plain": [
       "<Figure size 432x288 with 1 Axes>"
      ]
     },
     "metadata": {
      "needs_background": "light"
     },
     "output_type": "display_data"
    }
   ],
   "source": [
    "importance = model.feature_importances_\n",
    "\n",
    "for i,v in enumerate(importance):\n",
    "    print('Feature:', X.columns[i], 'Score:', round(v, 6))\n",
    "# plot feature importance\n",
    "plt.bar([x for x in range(len(importance))], importance)\n",
    "plt.show()"
   ]
  },
  {
   "cell_type": "markdown",
   "id": "57d9ccea",
   "metadata": {},
   "source": [
    "## To categorical"
   ]
  },
  {
   "cell_type": "code",
   "execution_count": 294,
   "id": "f31d48ee",
   "metadata": {},
   "outputs": [
    {
     "name": "stdout",
     "output_type": "stream",
     "text": [
      "Shape of y_train: (532936, 2)\n",
      "One value of y_train: [1. 0.]\n"
     ]
    }
   ],
   "source": [
    "y_train_c = to_categorical(y_train, num_classes=2)\n",
    "y_test_c = to_categorical(y_test, num_classes=2)\n",
    "\n",
    "print(\"Shape of y_train:\", y_train_c.shape)\n",
    "print(\"One value of y_train:\", y_train_c[0])"
   ]
  },
  {
   "cell_type": "markdown",
   "id": "d3c55069",
   "metadata": {},
   "source": [
    "## Upsampling"
   ]
  },
  {
   "cell_type": "code",
   "execution_count": 40,
   "id": "8e68d237",
   "metadata": {},
   "outputs": [
    {
     "name": "stdout",
     "output_type": "stream",
     "text": [
      "Requirement already satisfied: sklearn in c:\\users\\kkart\\anaconda3\\lib\\site-packages (0.0)\n",
      "Requirement already satisfied: scikit-learn in c:\\users\\kkart\\anaconda3\\lib\\site-packages (from sklearn) (0.22.1)\n",
      "Requirement already satisfied: scipy>=0.17.0 in c:\\users\\kkart\\anaconda3\\lib\\site-packages (from scikit-learn->sklearn) (1.6.2)\n",
      "Requirement already satisfied: numpy>=1.11.0 in c:\\users\\kkart\\anaconda3\\lib\\site-packages (from scikit-learn->sklearn) (1.19.5)\n",
      "Requirement already satisfied: joblib>=0.11 in c:\\users\\kkart\\anaconda3\\lib\\site-packages (from scikit-learn->sklearn) (1.0.1)\n"
     ]
    }
   ],
   "source": [
    "!pip install sklearn"
   ]
  },
  {
   "cell_type": "code",
   "execution_count": 315,
   "id": "463f35d2",
   "metadata": {},
   "outputs": [],
   "source": [
    "from imblearn.over_sampling import SMOTE"
   ]
  },
  {
   "cell_type": "code",
   "execution_count": 316,
   "id": "fd352149",
   "metadata": {},
   "outputs": [],
   "source": [
    "def upsample_SMOTE(X_train, y_train, ratio=1.0):\n",
    "    sm = SMOTE(random_state=23, sampling_strategy=ratio)\n",
    "    X_train_sm, y_train_sm = sm.fit_resample(X_train, y_train)\n",
    "    print(len(X_train_sm), len(y_train_sm))\n",
    "    return X_train_sm, y_train_sm"
   ]
  },
  {
   "cell_type": "code",
   "execution_count": 317,
   "id": "42d149eb",
   "metadata": {},
   "outputs": [
    {
     "name": "stdout",
     "output_type": "stream",
     "text": [
      "855096 855096\n"
     ]
    }
   ],
   "source": [
    "X_train_sm, y_train_sm = upsample_SMOTE(X_train, y_train)"
   ]
  },
  {
   "cell_type": "code",
   "execution_count": 318,
   "id": "aba11f9c",
   "metadata": {},
   "outputs": [
    {
     "name": "stdout",
     "output_type": "stream",
     "text": [
      "855096 855096\n"
     ]
    }
   ],
   "source": [
    "X_train_sm_c, y_train_sm_c = upsample_SMOTE(X_train, y_train_c)"
   ]
  },
  {
   "cell_type": "code",
   "execution_count": 325,
   "id": "5d42c240",
   "metadata": {},
   "outputs": [],
   "source": [
    "y_train_sm_c = to_categorical(y_train_sm_c, num_classes=2)"
   ]
  },
  {
   "cell_type": "markdown",
   "id": "049dd94c",
   "metadata": {},
   "source": [
    "## Logistic Regression"
   ]
  },
  {
   "cell_type": "code",
   "execution_count": 44,
   "id": "efa8e71e",
   "metadata": {},
   "outputs": [],
   "source": [
    "lr= LogisticRegression()\n",
    "lr.fit(X_train, y_train)\n",
    "y_pred = lr.predict(X_test)\n",
    "y_pred_prob = lr.predict_proba(X_test)\n",
    "\n",
    "sold_prob = []\n",
    "for x,y in y_pred_prob:\n",
    "    sold_prob.append(y)\n",
    "    \n",
    "output = X_test.copy()\n",
    "# output['probability'] = sold_prob\n",
    "# output['Actual output'] = y_test\n",
    "# output['Pred output'] = y_pred"
   ]
  },
  {
   "cell_type": "code",
   "execution_count": 45,
   "id": "ebb9e80f",
   "metadata": {},
   "outputs": [
    {
     "data": {
      "text/plain": [
       "array([[142487,      0],\n",
       "       [ 35159,      0]], dtype=int64)"
      ]
     },
     "execution_count": 45,
     "metadata": {},
     "output_type": "execute_result"
    }
   ],
   "source": [
    "confusion_matrix(y_test, y_pred)"
   ]
  },
  {
   "cell_type": "code",
   "execution_count": 46,
   "id": "4274e259",
   "metadata": {},
   "outputs": [
    {
     "data": {
      "text/plain": [
       "<AxesSubplot:>"
      ]
     },
     "execution_count": 46,
     "metadata": {},
     "output_type": "execute_result"
    },
    {
     "data": {
      "image/png": "[encoded data removed]",
      "text/plain": [
       "<Figure size 504x360 with 2 Axes>"
      ]
     },
     "metadata": {
      "needs_background": "light"
     },
     "output_type": "display_data"
    }
   ],
   "source": [
    "cm=confusion_matrix(y_test, y_pred,labels=[0, 1])\n",
    "\n",
    "df_cm = pd.DataFrame(cm, index = [i for i in [\"0\",\"1\"]],\n",
    "                  columns = [i for i in [\"0\",\"1\"]])\n",
    "plt.figure(figsize = (7,5))\n",
    "sns.heatmap(df_cm, annot=True ,fmt='g')"
   ]
  },
  {
   "cell_type": "code",
   "execution_count": 47,
   "id": "f7519242",
   "metadata": {},
   "outputs": [
    {
     "data": {
      "text/plain": [
       "0.8020839197054817"
      ]
     },
     "execution_count": 47,
     "metadata": {},
     "output_type": "execute_result"
    }
   ],
   "source": [
    "lr.score(X_test, y_test)"
   ]
  },
  {
   "cell_type": "code",
   "execution_count": 48,
   "id": "8b38d1de",
   "metadata": {},
   "outputs": [
    {
     "name": "stdout",
     "output_type": "stream",
     "text": [
      "trained\n"
     ]
    }
   ],
   "source": [
    "lr= LogisticRegression()\n",
    "lr.fit(X_train_sm, y_train_sm)\n",
    "print('trained')\n",
    "y_pred = lr.predict(X_test)\n",
    "y_pred_prob = lr.predict_proba(X_test)\n",
    "\n",
    "sold_prob = []\n",
    "for x,y in y_pred_prob:\n",
    "    sold_prob.append(y)\n",
    "    \n",
    "output = X_test.copy()\n",
    "# output['probability'] = sold_prob.astype(float)\n",
    "# output['Actual output'] = y_test\n",
    "# output['Pred output'] = y_pred"
   ]
  },
  {
   "cell_type": "code",
   "execution_count": 49,
   "id": "6a95b47c",
   "metadata": {},
   "outputs": [
    {
     "data": {
      "text/plain": [
       "array([[67891, 74596],\n",
       "       [16721, 18438]], dtype=int64)"
      ]
     },
     "execution_count": 49,
     "metadata": {},
     "output_type": "execute_result"
    }
   ],
   "source": [
    "confusion_matrix(y_test, y_pred)"
   ]
  },
  {
   "cell_type": "code",
   "execution_count": 50,
   "id": "b6acdee3",
   "metadata": {
    "scrolled": true
   },
   "outputs": [
    {
     "data": {
      "text/plain": [
       "<AxesSubplot:>"
      ]
     },
     "execution_count": 50,
     "metadata": {},
     "output_type": "execute_result"
    },
    {
     "data": {
      "image/png": "[encoded data removed]",
      "text/plain": [
       "<Figure size 504x360 with 2 Axes>"
      ]
     },
     "metadata": {
      "needs_background": "light"
     },
     "output_type": "display_data"
    }
   ],
   "source": [
    "cm=confusion_matrix(y_test, y_pred,labels=[0, 1])\n",
    "\n",
    "df_cm = pd.DataFrame(cm, index = [i for i in [\"0\",\"1\"]],\n",
    "                  columns = [i for i in [\"0\",\"1\"]])\n",
    "plt.figure(figsize = (7,5))\n",
    "sns.heatmap(df_cm, annot=True ,fmt='g')"
   ]
  },
  {
   "cell_type": "code",
   "execution_count": 51,
   "id": "7d12f722",
   "metadata": {},
   "outputs": [
    {
     "data": {
      "text/plain": [
       "0.485960843475226"
      ]
     },
     "execution_count": 51,
     "metadata": {},
     "output_type": "execute_result"
    }
   ],
   "source": [
    "lr.score(X_test, y_test)"
   ]
  },
  {
   "cell_type": "markdown",
   "id": "1d795775",
   "metadata": {},
   "source": [
    "## Hyper parameter tuning"
   ]
  },
  {
   "cell_type": "code",
   "execution_count": 212,
   "id": "f74e2198",
   "metadata": {},
   "outputs": [],
   "source": [
    "solvers = ['newton-cg', 'lbfgs', 'liblinear']\n",
    "penalty = ['l2']\n",
    "c_values = [100, 10, 1.0, 0.1, 0.01]\n",
    "param_grid = dict(solver=solvers,penalty=penalty,C=c_values)"
   ]
  },
  {
   "cell_type": "code",
   "execution_count": 216,
   "id": "74cead15",
   "metadata": {},
   "outputs": [
    {
     "data": {
      "text/plain": [
       "GridSearchCV(cv=10, error_score=nan,\n",
       "             estimator=LogisticRegression(C=1.0, class_weight=None, dual=False,\n",
       "                                          fit_intercept=True,\n",
       "                                          intercept_scaling=1, l1_ratio=None,\n",
       "                                          max_iter=100, multi_class='auto',\n",
       "                                          n_jobs=None, penalty='l2',\n",
       "                                          random_state=None, solver='lbfgs',\n",
       "                                          tol=0.0001, verbose=0,\n",
       "                                          warm_start=False),\n",
       "             iid='deprecated', n_jobs=None,\n",
       "             param_grid={'C': [100, 10, 1.0, 0.1, 0.01], 'penalty': ['l2'],\n",
       "                         'solver': ['newton-cg', 'lbfgs', 'liblinear']},\n",
       "             pre_dispatch='2*n_jobs', refit=True, return_train_score=False,\n",
       "             scoring=None, verbose=0)"
      ]
     },
     "execution_count": 216,
     "metadata": {},
     "output_type": "execute_result"
    }
   ],
   "source": [
    "gs = GridSearchCV(lr,param_grid,cv=10)\n",
    "gs.fit(X_train_sm, y_train_sm)"
   ]
  },
  {
   "cell_type": "code",
   "execution_count": 217,
   "id": "78e2601f",
   "metadata": {},
   "outputs": [
    {
     "data": {
      "text/plain": [
       "{'C': 100, 'penalty': 'l2', 'solver': 'lbfgs'}"
      ]
     },
     "execution_count": 217,
     "metadata": {},
     "output_type": "execute_result"
    }
   ],
   "source": [
    "gs.best_params_"
   ]
  },
  {
   "cell_type": "code",
   "execution_count": 218,
   "id": "9418476f",
   "metadata": {},
   "outputs": [
    {
     "data": {
      "text/plain": [
       "array([0.50283786, 0.50283786, 0.50283786, 0.50283786, 0.50283786,\n",
       "       0.50283786, 0.50283786, 0.50283669, 0.50283669, 0.50283786,\n",
       "       0.50283786, 0.50283552, 0.50282264, 0.50282615, 0.50282264])"
      ]
     },
     "execution_count": 218,
     "metadata": {},
     "output_type": "execute_result"
    }
   ],
   "source": [
    "gs.cv_results_['mean_test_score']"
   ]
  },
  {
   "cell_type": "code",
   "execution_count": 219,
   "id": "20396867",
   "metadata": {},
   "outputs": [],
   "source": [
    "y_pred_gs = gs.predict(X_test)"
   ]
  },
  {
   "cell_type": "code",
   "execution_count": 220,
   "id": "a70806e8",
   "metadata": {},
   "outputs": [
    {
     "data": {
      "text/plain": [
       "<AxesSubplot:>"
      ]
     },
     "execution_count": 220,
     "metadata": {},
     "output_type": "execute_result"
    },
    {
     "data": {
      "image/png": "[encoded data removed]",
      "text/plain": [
       "<Figure size 504x360 with 2 Axes>"
      ]
     },
     "metadata": {
      "needs_background": "light"
     },
     "output_type": "display_data"
    }
   ],
   "source": [
    "cm=confusion_matrix(y_test, y_pred_gs,labels=[0, 1])\n",
    "\n",
    "df_cm = pd.DataFrame(cm, index = [i for i in [\"0\",\"1\"]],\n",
    "                  columns = [i for i in [\"0\",\"1\"]])\n",
    "plt.figure(figsize = (7,5))\n",
    "sns.heatmap(df_cm, annot=True ,fmt='g')"
   ]
  },
  {
   "cell_type": "markdown",
   "id": "701b8af0",
   "metadata": {},
   "source": [
    "## KNN"
   ]
  },
  {
   "cell_type": "code",
   "execution_count": null,
   "id": "4d505db9",
   "metadata": {},
   "outputs": [],
   "source": [
    "from sklearn.neighbors import KNeighborsClassifier"
   ]
  },
  {
   "cell_type": "code",
   "execution_count": null,
   "id": "6806eb5a",
   "metadata": {},
   "outputs": [],
   "source": [
    "NNH = KNeighborsClassifier(n_neighbors= 5 , weights = 'distance' )\n",
    "NNH.fit(X_train, y_train)"
   ]
  },
  {
   "cell_type": "code",
   "execution_count": null,
   "id": "f62b01e1",
   "metadata": {},
   "outputs": [],
   "source": [
    "predicted_labels = NNH.predict(X_test)\n",
    "NNH.score(X_test, y_test)"
   ]
  },
  {
   "cell_type": "markdown",
   "id": "27d11426",
   "metadata": {},
   "source": [
    "## Random forest"
   ]
  },
  {
   "cell_type": "code",
   "execution_count": 71,
   "id": "a4742461",
   "metadata": {},
   "outputs": [
    {
     "name": "stderr",
     "output_type": "stream",
     "text": [
      "[Parallel(n_jobs=1)]: Using backend SequentialBackend with 1 concurrent workers.\n"
     ]
    },
    {
     "name": "stdout",
     "output_type": "stream",
     "text": [
      "building tree 1 of 50\n"
     ]
    },
    {
     "name": "stderr",
     "output_type": "stream",
     "text": [
      "[Parallel(n_jobs=1)]: Done   1 out of   1 | elapsed:   16.0s remaining:    0.0s\n"
     ]
    },
    {
     "name": "stdout",
     "output_type": "stream",
     "text": [
      "building tree 2 of 50\n",
      "building tree 3 of 50\n",
      "building tree 4 of 50\n",
      "building tree 5 of 50\n",
      "building tree 6 of 50\n",
      "building tree 7 of 50\n",
      "building tree 8 of 50\n",
      "building tree 9 of 50\n",
      "building tree 10 of 50\n",
      "building tree 11 of 50\n",
      "building tree 12 of 50\n",
      "building tree 13 of 50\n",
      "building tree 14 of 50\n",
      "building tree 15 of 50\n",
      "building tree 16 of 50\n",
      "building tree 17 of 50\n",
      "building tree 18 of 50\n",
      "building tree 19 of 50\n",
      "building tree 20 of 50\n",
      "building tree 21 of 50\n",
      "building tree 22 of 50\n",
      "building tree 23 of 50\n",
      "building tree 24 of 50\n",
      "building tree 25 of 50\n",
      "building tree 26 of 50\n",
      "building tree 27 of 50\n",
      "building tree 28 of 50\n",
      "building tree 29 of 50\n",
      "building tree 30 of 50\n",
      "building tree 31 of 50\n",
      "building tree 32 of 50\n",
      "building tree 33 of 50\n",
      "building tree 34 of 50\n",
      "building tree 35 of 50\n",
      "building tree 36 of 50\n",
      "building tree 37 of 50\n",
      "building tree 38 of 50\n",
      "building tree 39 of 50\n",
      "building tree 40 of 50\n",
      "building tree 41 of 50\n",
      "building tree 42 of 50\n",
      "building tree 43 of 50\n",
      "building tree 44 of 50\n",
      "building tree 45 of 50\n",
      "building tree 46 of 50\n",
      "building tree 47 of 50\n",
      "building tree 48 of 50\n",
      "building tree 49 of 50\n",
      "building tree 50 of 50\n"
     ]
    },
    {
     "name": "stderr",
     "output_type": "stream",
     "text": [
      "[Parallel(n_jobs=1)]: Done  50 out of  50 | elapsed: 14.2min finished\n"
     ]
    }
   ],
   "source": [
    "from sklearn.ensemble import RandomForestClassifier\n",
    "rfcl = RandomForestClassifier(n_estimators = 50, random_state=1,max_features=12, verbose = 2)\n",
    "rfcl = rfcl.fit(X_train_sm, y_train_sm)"
   ]
  },
  {
   "cell_type": "code",
   "execution_count": 72,
   "id": "0be92986",
   "metadata": {},
   "outputs": [
    {
     "name": "stderr",
     "output_type": "stream",
     "text": [
      "[Parallel(n_jobs=1)]: Using backend SequentialBackend with 1 concurrent workers.\n",
      "[Parallel(n_jobs=1)]: Done   1 out of   1 | elapsed:    0.1s remaining:    0.0s\n",
      "[Parallel(n_jobs=1)]: Done  50 out of  50 | elapsed:    5.9s finished\n",
      "[Parallel(n_jobs=1)]: Using backend SequentialBackend with 1 concurrent workers.\n",
      "[Parallel(n_jobs=1)]: Done   1 out of   1 | elapsed:    0.0s remaining:    0.0s\n"
     ]
    },
    {
     "name": "stdout",
     "output_type": "stream",
     "text": [
      "0.7824718822827421\n"
     ]
    },
    {
     "name": "stderr",
     "output_type": "stream",
     "text": [
      "[Parallel(n_jobs=1)]: Done  50 out of  50 | elapsed:    5.5s finished\n"
     ]
    }
   ],
   "source": [
    "y_predict = rfcl.predict(X_test)\n",
    "print(rfcl.score(X_test, y_test))"
   ]
  },
  {
   "cell_type": "code",
   "execution_count": 73,
   "id": "c6b851e1",
   "metadata": {},
   "outputs": [
    {
     "data": {
      "text/plain": [
       "array([[137843,   4644],\n",
       "       [ 33999,   1160]], dtype=int64)"
      ]
     },
     "execution_count": 73,
     "metadata": {},
     "output_type": "execute_result"
    }
   ],
   "source": [
    "confusion_matrix(y_test, y_predict)"
   ]
  },
  {
   "cell_type": "code",
   "execution_count": 74,
   "id": "5f109c37",
   "metadata": {},
   "outputs": [
    {
     "data": {
      "text/plain": [
       "<AxesSubplot:>"
      ]
     },
     "execution_count": 74,
     "metadata": {},
     "output_type": "execute_result"
    },
    {
     "data": {
      "image/png": "[encoded data removed]",
      "text/plain": [
       "<Figure size 504x360 with 2 Axes>"
      ]
     },
     "metadata": {
      "needs_background": "light"
     },
     "output_type": "display_data"
    }
   ],
   "source": [
    "cm=confusion_matrix(y_test, y_predict,labels=[0, 1])\n",
    "\n",
    "df_cm = pd.DataFrame(cm, index = [i for i in [\"0\",\"1\"]],\n",
    "                  columns = [i for i in [\"0\",\"1\"]])\n",
    "plt.figure(figsize = (7,5))\n",
    "sns.heatmap(df_cm, annot=True ,fmt='g')"
   ]
  },
  {
   "cell_type": "markdown",
   "id": "6ae329b5",
   "metadata": {},
   "source": [
    "## Questions"
   ]
  },
  {
   "cell_type": "markdown",
   "id": "04b7890a",
   "metadata": {},
   "source": [
    "#### 1.\tWhich body type has the highest demand in different seasons (Summer, Winter, rainy, autumn)?"
   ]
  },
  {
   "cell_type": "markdown",
   "id": "d38247f3",
   "metadata": {},
   "source": [
    "We assume the below\n",
    "1. Winter (Dec to Feb)\n",
    "2. Summer (Mar to May)\n",
    "3. Rainy (Jun to Sep)\n",
    "4. Autumn (Oct to Nov)"
   ]
  },
  {
   "cell_type": "markdown",
   "id": "93807330",
   "metadata": {},
   "source": [
    "###### We are not able to change it to datetime since there are wrong dates (eg: 2011-02-29 12:15:14 - leap year in 2011 is not correct)"
   ]
  },
  {
   "cell_type": "code",
   "execution_count": 76,
   "id": "9d0cb1da",
   "metadata": {},
   "outputs": [],
   "source": [
    "def get_month(s):\n",
    "#     return datetime.strptime(s.split('.')[0], '%Y-%m-%d %H:%M:%S').month\n",
    "    return int(s.split('-')[1])\n",
    "\n",
    "combined_data['date_last_seen_month'] = combined_data['date_last_seen'].apply(get_month)\n",
    "\n",
    "bins = [0, 2, 5, 9, 11, 12]\n",
    "labels = ['winter','summer', 'rainy', 'autumn', 'winter']\n",
    "combined_data['season'] = pd.cut(combined_data['date_last_seen_month'], bins, labels=labels, ordered = False)\n",
    "# combined_data['body_type'] = combined_data['body_type'].str.strip() # removing white spaces"
   ]
  },
  {
   "cell_type": "markdown",
   "id": "1d3ed7b9",
   "metadata": {},
   "source": [
    "##### we need to consider only when it is sold to understand the demand and ignore body type = other and null values"
   ]
  },
  {
   "cell_type": "code",
   "execution_count": 77,
   "id": "d0c1d7c3",
   "metadata": {},
   "outputs": [
    {
     "data": {
      "image/png": "[encoded data removed]",
      "text/plain": [
       "<Figure size 1224x1224 with 4 Axes>"
      ]
     },
     "metadata": {
      "needs_background": "light"
     },
     "output_type": "display_data"
    }
   ],
   "source": [
    "body_type_df = combined_data[combined_data['sold_flag'] == 1].groupby(['season', 'body_type'])['sold_flag'].count().to_frame().reset_index()\n",
    "body_type_df = body_type_df.sort_values(by = 'sold_flag', ascending = False)\n",
    "body_type_df_modified = body_type_df[(body_type_df['body_type'] != 'other') & (body_type_df['body_type'] != 'nan')]\n",
    "\n",
    "plt.figure(figsize=(17, 17))\n",
    "seasons = ['winter', 'summer', 'rainy', 'autumn']\n",
    "for i in range(1, 5):\n",
    "    plt.subplot(2, 2, i)\n",
    "    sns.barplot(x = 'body_type', y = 'sold_flag', data = body_type_df_modified[body_type_df_modified['season']== seasons[i-1]])\n",
    "    plt.xlabel('body_type')\n",
    "    plt.ylabel('Count')\n",
    "    plt.title(seasons[i-1])\n",
    "    plt.xticks(rotation=30, ha='right')"
   ]
  },
  {
   "cell_type": "markdown",
   "id": "71cbc4d1",
   "metadata": {},
   "source": [
    "##### From the above charts we are able to identify which body type has the highest demand for each seasons after ignoring when the body type ie null/other\n",
    "1. For Winter and Rainy, compact body type is of highest demand\n",
    "2. For Summer and Autumn, stationwagen and coupe body types are more in demand"
   ]
  },
  {
   "cell_type": "markdown",
   "id": "34acf82d",
   "metadata": {},
   "source": [
    "### 2.\tIn the current inventory, how many cars are highly overpriced? Create your own criteria and explain your approach."
   ]
  },
  {
   "cell_type": "code",
   "execution_count": 78,
   "id": "d6ed7687",
   "metadata": {},
   "outputs": [
    {
     "data": {
      "text/plain": [
       "<AxesSubplot:xlabel='price_eur', ylabel='Density'>"
      ]
     },
     "execution_count": 78,
     "metadata": {},
     "output_type": "execute_result"
    },
    {
     "data": {
      "image/png": "[encoded data removed]",
      "text/plain": [
       "<Figure size 360x360 with 1 Axes>"
      ]
     },
     "metadata": {
      "needs_background": "light"
     },
     "output_type": "display_data"
    }
   ],
   "source": [
    "plt.figure(figsize=(5, 5))\n",
    "sns.distplot(current_inventory_data['price_eur'])"
   ]
  },
  {
   "cell_type": "markdown",
   "id": "bd36d0c5",
   "metadata": {},
   "source": [
    "##### Price_eur has outlier and to treat it we are going to use Z score. "
   ]
  },
  {
   "cell_type": "code",
   "execution_count": 79,
   "id": "9ddf5e84",
   "metadata": {},
   "outputs": [],
   "source": [
    "historical_data['price_eur_zscore'] = scipy.stats.zscore(historical_data['price_eur'])\n",
    "sold_df = historical_data[(historical_data['price_eur_zscore'] < 3) & (historical_data['sold_flag'] == 1)].groupby('maker')['price_eur'].mean().to_frame()\n",
    "non_sold_df = historical_data[(historical_data['price_eur_zscore'] < 3) & (historical_data['sold_flag'] != 1)].groupby('maker')['price_eur'].mean().to_frame()\n",
    "historical_data_overprice_df = sold_df.merge(non_sold_df, left_index = True, right_index = True)\n",
    "historical_data_overprice_df.columns = ['Historical Sold', 'Historical Not Sold']\n",
    "historical_data_overprice_df['Historical Diff'] = historical_data_overprice_df['Historical Not Sold'] - historical_data_overprice_df['Historical Sold']\n",
    "historical_data_overprice_df = historical_data_overprice_df.sort_values(by = 'Historical Diff', ascending = False)"
   ]
  },
  {
   "cell_type": "code",
   "execution_count": 80,
   "id": "7c418e24",
   "metadata": {},
   "outputs": [],
   "source": [
    "current_inventory_data['price_eur_zscore'] = scipy.stats.zscore(current_inventory_data['price_eur'])\n",
    "sold_df = current_inventory_data[(current_inventory_data['price_eur_zscore'] < 3) & (current_inventory_data['sold_flag'] == 1)].groupby('maker')['price_eur'].mean().to_frame()\n",
    "non_sold_df = current_inventory_data[(current_inventory_data['price_eur_zscore'] < 3) & (current_inventory_data['sold_flag'] != 1)].groupby('maker')['price_eur'].mean().to_frame()\n",
    "current_inventory_data_overprice_df = sold_df.merge(non_sold_df, left_index = True, right_index = True)\n",
    "current_inventory_data_overprice_df.columns = ['current_inventory Sold', 'current_inventory Not Sold']\n",
    "current_inventory_data_overprice_df['current_inventory Diff'] = current_inventory_data_overprice_df['current_inventory Not Sold'] - current_inventory_data_overprice_df['current_inventory Sold']\n",
    "current_inventory_data_overprice_df = current_inventory_data_overprice_df.sort_values(by = 'current_inventory Diff', ascending = False)"
   ]
  },
  {
   "cell_type": "code",
   "execution_count": 81,
   "id": "b053c351",
   "metadata": {},
   "outputs": [],
   "source": [
    "overprice_df_final = historical_data_overprice_df.merge(current_inventory_data_overprice_df, left_index = True, right_index = True, how = 'outer').sort_values(by = 'current_inventory Diff', ascending = False)"
   ]
  },
  {
   "cell_type": "code",
   "execution_count": 82,
   "id": "d50efcf0",
   "metadata": {},
   "outputs": [
    {
     "data": {
      "text/html": [
       "<div>\n",
       "<style scoped>\n",
       "    .dataframe tbody tr th:only-of-type {\n",
       "        vertical-align: middle;\n",
       "    }\n",
       "\n",
       "    .dataframe tbody tr th {\n",
       "        vertical-align: top;\n",
       "    }\n",
       "\n",
       "    .dataframe thead th {\n",
       "        text-align: right;\n",
       "    }\n",
       "</style>\n",
       "<table border=\"1\" class=\"dataframe\">\n",
       "  <thead>\n",
       "    <tr style=\"text-align: right;\">\n",
       "      <th></th>\n",
       "      <th>Historical Sold</th>\n",
       "      <th>Historical Not Sold</th>\n",
       "      <th>Historical Diff</th>\n",
       "      <th>current_inventory Sold</th>\n",
       "      <th>current_inventory Not Sold</th>\n",
       "      <th>current_inventory Diff</th>\n",
       "    </tr>\n",
       "    <tr>\n",
       "      <th>maker</th>\n",
       "      <th></th>\n",
       "      <th></th>\n",
       "      <th></th>\n",
       "      <th></th>\n",
       "      <th></th>\n",
       "      <th></th>\n",
       "    </tr>\n",
       "  </thead>\n",
       "  <tbody>\n",
       "    <tr>\n",
       "      <th>rolls-royce</th>\n",
       "      <td>NaN</td>\n",
       "      <td>NaN</td>\n",
       "      <td>NaN</td>\n",
       "      <td>1295.340000</td>\n",
       "      <td>296039.970000</td>\n",
       "      <td>294744.630000</td>\n",
       "    </tr>\n",
       "    <tr>\n",
       "      <th>infinity</th>\n",
       "      <td>29885.452105</td>\n",
       "      <td>27253.780244</td>\n",
       "      <td>-2631.671861</td>\n",
       "      <td>1295.340000</td>\n",
       "      <td>38095.000000</td>\n",
       "      <td>36799.660000</td>\n",
       "    </tr>\n",
       "    <tr>\n",
       "      <th>rover</th>\n",
       "      <td>27763.851402</td>\n",
       "      <td>29381.433300</td>\n",
       "      <td>1617.581898</td>\n",
       "      <td>20236.703784</td>\n",
       "      <td>32543.213667</td>\n",
       "      <td>12306.509883</td>\n",
       "    </tr>\n",
       "  </tbody>\n",
       "</table>\n",
       "</div>"
      ],
      "text/plain": [
       "             Historical Sold  Historical Not Sold  Historical Diff  \\\n",
       "maker                                                                \n",
       "rolls-royce              NaN                  NaN              NaN   \n",
       "infinity        29885.452105         27253.780244     -2631.671861   \n",
       "rover           27763.851402         29381.433300      1617.581898   \n",
       "\n",
       "             current_inventory Sold  current_inventory Not Sold  \\\n",
       "maker                                                             \n",
       "rolls-royce             1295.340000               296039.970000   \n",
       "infinity                1295.340000                38095.000000   \n",
       "rover                  20236.703784                32543.213667   \n",
       "\n",
       "             current_inventory Diff  \n",
       "maker                                \n",
       "rolls-royce           294744.630000  \n",
       "infinity               36799.660000  \n",
       "rover                  12306.509883  "
      ]
     },
     "execution_count": 82,
     "metadata": {},
     "output_type": "execute_result"
    }
   ],
   "source": [
    "overprice_df_final[((overprice_df_final['Historical Sold'].isna()) | (overprice_df_final['current_inventory Not Sold'] > overprice_df_final['Historical Sold'])) & (overprice_df_final['current_inventory Diff'] > 5000)]"
   ]
  },
  {
   "cell_type": "code",
   "execution_count": 83,
   "id": "48ce0df6",
   "metadata": {},
   "outputs": [],
   "source": [
    "maker_list = ['rolls-royce', 'infinity', 'rover']\n",
    "mean = [296039, 38095, 32543]"
   ]
  },
  {
   "cell_type": "code",
   "execution_count": 84,
   "id": "89d79887",
   "metadata": {},
   "outputs": [
    {
     "name": "stdout",
     "output_type": "stream",
     "text": [
      "Total number of cars overpriced in rolls-royce is 1\n",
      "Total number of cars overpriced in infinity is 1\n",
      "Total number of cars overpriced in rover is 64\n"
     ]
    }
   ],
   "source": [
    "overprice_cars_df = pd.DataFrame()\n",
    "for i, j in zip(maker_list, mean):\n",
    "    print('Total number of cars overpriced in', i, 'is', current_inventory_data[(current_inventory_data['maker'] == i) & (current_inventory_data['price_eur'] >= j)].shape[0])"
   ]
  },
  {
   "cell_type": "markdown",
   "id": "48cb02ea",
   "metadata": {},
   "source": [
    "#### Totally there are 66 cars across 3 makers which are overpriced. Approach used is below\n",
    "1. Get historical data also to find out if current data is overpriced\n",
    "2. Get historical sold, not sold, current sold, not sold mean values to compare\n",
    "3. Since we want only HIGHLY overpriced, the difference between current sold and not sold items mean value should be greater than 5000 (A number identified to work properly) and also current not sold item should be greater than historical sold item"
   ]
  },
  {
   "cell_type": "markdown",
   "id": "0f51afed",
   "metadata": {},
   "source": [
    "### 3. Estimate how many new listings we can expect per month on the platform over the next 6 months."
   ]
  },
  {
   "cell_type": "code",
   "execution_count": 130,
   "id": "fb9cf312",
   "metadata": {},
   "outputs": [
    {
     "data": {
      "text/plain": [
       "0    2017-02-14 17:34:38.809116+00\n",
       "1    2015-12-02 09:31:25.571302+00\n",
       "2    2016-02-26 10:59:10.921811+00\n",
       "3      2016-03-05 11:12:58.5208+00\n",
       "4    2015-12-18 14:46:32.397086+00\n",
       "5     2016-02-20 12:04:19.32744+00\n",
       "6    2016-02-16 13:59:13.654738+00\n",
       "7    2015-12-19 03:07:28.649984+00\n",
       "8    2016-02-26 22:10:40.532905+00\n",
       "9    2016-01-13 18:38:56.066292+00\n",
       "Name: date_created, dtype: object"
      ]
     },
     "execution_count": 130,
     "metadata": {},
     "output_type": "execute_result"
    }
   ],
   "source": [
    "combined_data['date_created'][0:10]"
   ]
  },
  {
   "cell_type": "code",
   "execution_count": 131,
   "id": "050b1199",
   "metadata": {},
   "outputs": [],
   "source": [
    "def get_month_year(s):\n",
    "    return int(str(s.split('-')[0]) + str(s.split('-')[1]))"
   ]
  },
  {
   "cell_type": "code",
   "execution_count": 132,
   "id": "f9274940",
   "metadata": {},
   "outputs": [],
   "source": [
    "combined_data['date_created_month_year'] = combined_data['date_created'].apply(get_month_year)\n",
    "ts = combined_data['date_created_month_year'].value_counts().to_frame().sort_index()"
   ]
  },
  {
   "cell_type": "code",
   "execution_count": 192,
   "id": "db407f49",
   "metadata": {},
   "outputs": [
    {
     "name": "stdout",
     "output_type": "stream",
     "text": [
      "1 1 1\n",
      "[array([2915.76200922]), array([3132.96680292]), array([17176.76722651])]\n",
      "[23225.49603865]\n",
      "1 1 2\n",
      "[array([25285.61936701]), array([10946.27750351]), array([29719.41806269])]\n",
      "[65951.31493321]\n",
      "1 2 1\n",
      "[array([3424.42449583]), array([13149.33713558]), array([5366.1343843])]\n",
      "[21939.89601571]\n",
      "1 2 2\n",
      "[array([1.45953566]), array([12676.6479247]), array([9171.19457134])]\n",
      "[21849.30203171]\n",
      "2 1 1\n",
      "[array([5157.78060931]), array([16913.76152885]), array([8441.29327439])]\n",
      "[30512.83541255]\n",
      "2 1 2\n"
     ]
    },
    {
     "name": "stderr",
     "output_type": "stream",
     "text": [
      "C:\\Users\\kkart\\anaconda3\\lib\\site-packages\\statsmodels\\base\\model.py:566: ConvergenceWarning: Maximum Likelihood optimization failed to converge. Check mle_retvals\n",
      "  warnings.warn(\"Maximum Likelihood optimization failed to \"\n",
      "C:\\Users\\kkart\\anaconda3\\lib\\site-packages\\statsmodels\\base\\model.py:566: ConvergenceWarning: Maximum Likelihood optimization failed to converge. Check mle_retvals\n",
      "  warnings.warn(\"Maximum Likelihood optimization failed to \"\n"
     ]
    },
    {
     "name": "stdout",
     "output_type": "stream",
     "text": [
      "[array([4804.75229287]), array([15613.01281464]), array([1763.23489092])]\n",
      "[22180.99999844]\n",
      "2 2 1\n",
      "[array([10311.91823114]), array([12103.60690825]), array([21666.59087936])]\n",
      "[44082.11601876]\n",
      "2 2 2\n",
      "[array([3416.46926774]), array([13149.80699444]), array([5375.19083033])]\n",
      "[21941.4670925]\n"
     ]
    }
   ],
   "source": [
    "data = list(ts['date_created_month_year'])\n",
    "train_data = list(ts['date_created_month_year'])[:-3]\n",
    "test_data = list(ts['date_created_month_year'])[-3:]\n",
    "# fit model\n",
    "final_diff = []\n",
    "\n",
    "for p in range(1, 3):\n",
    "    for q in range(1, 3):\n",
    "        for d in range(1, 3):\n",
    "            print(p, q, d)\n",
    "            model = ARIMA(train_data, order=(p, q, d))\n",
    "            model_fit = model.fit()\n",
    "            diff = []\n",
    "\n",
    "            for i in range(3):\n",
    "                yhat = model_fit.predict(len(train_data) + i, len(train_data) + i, typ='levels')\n",
    "                diff.append(abs(yhat - test_data[i]))\n",
    "            print(diff)\n",
    "            final_diff.append(sum(diff))\n",
    "            print(sum(diff))\n",
    "            "
   ]
  },
  {
   "cell_type": "code",
   "execution_count": 201,
   "id": "5c7dce48",
   "metadata": {},
   "outputs": [
    {
     "name": "stdout",
     "output_type": "stream",
     "text": [
      "[array([21326.25900148]), array([22466.64832654]), array([23588.34993224])]\n"
     ]
    }
   ],
   "source": [
    "input_date = ['201704', '201705', '201706']\n",
    "output = []\n",
    "for i in range(3):\n",
    "    output.append(model_fit.predict(len(data) + i, len(data) + i, typ='levels'))\n",
    "print(output)"
   ]
  },
  {
   "cell_type": "code",
   "execution_count": 202,
   "id": "b1a7f779",
   "metadata": {},
   "outputs": [],
   "source": [
    "for i in range(3):\n",
    "    ts.loc[input_date[i], 'date_created_month_year'] = output[i]"
   ]
  },
  {
   "cell_type": "code",
   "execution_count": 203,
   "id": "732ba0b4",
   "metadata": {},
   "outputs": [
    {
     "data": {
      "text/html": [
       "<div>\n",
       "<style scoped>\n",
       "    .dataframe tbody tr th:only-of-type {\n",
       "        vertical-align: middle;\n",
       "    }\n",
       "\n",
       "    .dataframe tbody tr th {\n",
       "        vertical-align: top;\n",
       "    }\n",
       "\n",
       "    .dataframe thead th {\n",
       "        text-align: right;\n",
       "    }\n",
       "</style>\n",
       "<table border=\"1\" class=\"dataframe\">\n",
       "  <thead>\n",
       "    <tr style=\"text-align: right;\">\n",
       "      <th></th>\n",
       "      <th>date_created_month_year</th>\n",
       "    </tr>\n",
       "  </thead>\n",
       "  <tbody>\n",
       "    <tr>\n",
       "      <th>201511</th>\n",
       "      <td>54649.000000</td>\n",
       "    </tr>\n",
       "    <tr>\n",
       "      <th>201512</th>\n",
       "      <td>145004.000000</td>\n",
       "    </tr>\n",
       "    <tr>\n",
       "      <th>201601</th>\n",
       "      <td>77626.000000</td>\n",
       "    </tr>\n",
       "    <tr>\n",
       "      <th>201602</th>\n",
       "      <td>175765.000000</td>\n",
       "    </tr>\n",
       "    <tr>\n",
       "      <th>201603</th>\n",
       "      <td>102226.000000</td>\n",
       "    </tr>\n",
       "    <tr>\n",
       "      <th>201604</th>\n",
       "      <td>867.000000</td>\n",
       "    </tr>\n",
       "    <tr>\n",
       "      <th>201605</th>\n",
       "      <td>9848.000000</td>\n",
       "    </tr>\n",
       "    <tr>\n",
       "      <th>201606</th>\n",
       "      <td>3190.000000</td>\n",
       "    </tr>\n",
       "    <tr>\n",
       "      <th>201607</th>\n",
       "      <td>3171.000000</td>\n",
       "    </tr>\n",
       "    <tr>\n",
       "      <th>201608</th>\n",
       "      <td>6132.000000</td>\n",
       "    </tr>\n",
       "    <tr>\n",
       "      <th>201609</th>\n",
       "      <td>11397.000000</td>\n",
       "    </tr>\n",
       "    <tr>\n",
       "      <th>201610</th>\n",
       "      <td>18893.000000</td>\n",
       "    </tr>\n",
       "    <tr>\n",
       "      <th>201611</th>\n",
       "      <td>16783.000000</td>\n",
       "    </tr>\n",
       "    <tr>\n",
       "      <th>201612</th>\n",
       "      <td>16594.000000</td>\n",
       "    </tr>\n",
       "    <tr>\n",
       "      <th>201701</th>\n",
       "      <td>21399.000000</td>\n",
       "    </tr>\n",
       "    <tr>\n",
       "      <th>201702</th>\n",
       "      <td>32207.000000</td>\n",
       "    </tr>\n",
       "    <tr>\n",
       "      <th>201703</th>\n",
       "      <td>14831.000000</td>\n",
       "    </tr>\n",
       "    <tr>\n",
       "      <th>201704</th>\n",
       "      <td>21326.259001</td>\n",
       "    </tr>\n",
       "    <tr>\n",
       "      <th>201705</th>\n",
       "      <td>22466.648327</td>\n",
       "    </tr>\n",
       "    <tr>\n",
       "      <th>201706</th>\n",
       "      <td>23588.349932</td>\n",
       "    </tr>\n",
       "  </tbody>\n",
       "</table>\n",
       "</div>"
      ],
      "text/plain": [
       "        date_created_month_year\n",
       "201511             54649.000000\n",
       "201512            145004.000000\n",
       "201601             77626.000000\n",
       "201602            175765.000000\n",
       "201603            102226.000000\n",
       "201604               867.000000\n",
       "201605              9848.000000\n",
       "201606              3190.000000\n",
       "201607              3171.000000\n",
       "201608              6132.000000\n",
       "201609             11397.000000\n",
       "201610             18893.000000\n",
       "201611             16783.000000\n",
       "201612             16594.000000\n",
       "201701             21399.000000\n",
       "201702             32207.000000\n",
       "201703             14831.000000\n",
       "201704             21326.259001\n",
       "201705             22466.648327\n",
       "201706             23588.349932"
      ]
     },
     "execution_count": 203,
     "metadata": {},
     "output_type": "execute_result"
    }
   ],
   "source": [
    "ts"
   ]
  },
  {
   "cell_type": "code",
   "execution_count": 205,
   "id": "db4c0f24",
   "metadata": {},
   "outputs": [
    {
     "data": {
      "text/plain": [
       "<AxesSubplot:>"
      ]
     },
     "execution_count": 205,
     "metadata": {},
     "output_type": "execute_result"
    },
    {
     "data": {
      "image/png": "[encoded data removed]",
      "text/plain": [
       "<Figure size 432x288 with 1 Axes>"
      ]
     },
     "metadata": {
      "needs_background": "light"
     },
     "output_type": "display_data"
    }
   ],
   "source": [
    "ts.plot()"
   ]
  },
  {
   "cell_type": "markdown",
   "id": "b9642775",
   "metadata": {},
   "source": [
    "##### Around 67381 new listings can be expected in the next 3 months"
   ]
  },
  {
   "cell_type": "markdown",
   "id": "39845e54",
   "metadata": {},
   "source": [
    "### 4.\tHow does uploading more photos impact the chance of a car getting sold? "
   ]
  },
  {
   "cell_type": "code",
   "execution_count": 89,
   "id": "57318214",
   "metadata": {},
   "outputs": [
    {
     "data": {
      "image/png": "[encoded data removed]",
      "text/plain": [
       "<Figure size 432x288 with 1 Axes>"
      ]
     },
     "metadata": {
      "needs_background": "light"
     },
     "output_type": "display_data"
    }
   ],
   "source": [
    "picture_df = combined_data.groupby(['no_of_pictures', 'sold_flag'])['maker'].count().to_frame().reset_index()\n",
    "sns.barplot(x = 'no_of_pictures', y = 'maker', hue = 'sold_flag', data = picture_df)\n",
    "plt.show()"
   ]
  },
  {
   "cell_type": "markdown",
   "id": "5ec3e379",
   "metadata": {},
   "source": [
    "##### No noticable difference in uploading 1 or even 7 photos"
   ]
  },
  {
   "cell_type": "code",
   "execution_count": 90,
   "id": "20245115",
   "metadata": {},
   "outputs": [
    {
     "data": {
      "text/plain": [
       "maker\n",
       "0     3.998820\n",
       "1     4.071521\n",
       "2     5.250000\n",
       "3     3.999673\n",
       "4     4.189474\n",
       "5     3.993666\n",
       "6     4.044438\n",
       "7     4.000000\n",
       "8     3.999229\n",
       "9     3.934579\n",
       "10    3.935867\n",
       "11    4.025704\n",
       "12    3.993653\n",
       "13    4.013308\n",
       "14    3.896552\n",
       "15    3.986900\n",
       "16    4.095238\n",
       "17    4.009174\n",
       "18    3.980528\n",
       "19    4.000000\n",
       "20    3.986325\n",
       "21    3.976190\n",
       "22    4.022591\n",
       "23    3.978571\n",
       "24    4.048062\n",
       "25    4.389610\n",
       "26    4.033113\n",
       "27    3.992810\n",
       "28    4.013999\n",
       "29    4.056350\n",
       "30    3.966079\n",
       "31    4.001923\n",
       "32    4.014464\n",
       "33    3.997553\n",
       "34    4.014463\n",
       "35    3.977179\n",
       "36    3.375000\n",
       "37    4.028267\n",
       "38    3.999248\n",
       "39    4.000775\n",
       "40    4.020151\n",
       "41    4.031269\n",
       "42    4.024682\n",
       "43    3.965517\n",
       "44    3.991115\n",
       "45    3.999520\n",
       "46    4.001281\n",
       "Name: no_of_pictures, dtype: float64"
      ]
     },
     "execution_count": 90,
     "metadata": {},
     "output_type": "execute_result"
    }
   ],
   "source": [
    "combined_data[combined_data['sold_flag'] != 1].groupby('maker')['no_of_pictures'].mean()"
   ]
  },
  {
   "cell_type": "code",
   "execution_count": 91,
   "id": "44f8c345",
   "metadata": {},
   "outputs": [
    {
     "data": {
      "text/plain": [
       "maker\n",
       "0     4.004901\n",
       "1     4.211957\n",
       "2     3.000000\n",
       "3     4.000605\n",
       "4     3.840000\n",
       "5     4.022736\n",
       "6     4.034814\n",
       "7     3.979827\n",
       "8     3.987080\n",
       "9     4.025974\n",
       "10    4.279330\n",
       "11    4.000755\n",
       "12    3.950493\n",
       "13    3.998153\n",
       "14    4.281250\n",
       "15    4.034504\n",
       "16    4.300000\n",
       "17    3.173913\n",
       "18    3.973404\n",
       "19    4.070465\n",
       "20    3.940709\n",
       "21    4.357143\n",
       "22    3.981378\n",
       "23    4.279412\n",
       "24    4.031646\n",
       "25    3.600000\n",
       "26    4.144578\n",
       "27    4.014415\n",
       "28    3.986814\n",
       "29    3.948148\n",
       "30    4.082601\n",
       "31    3.985889\n",
       "32    3.989497\n",
       "33    3.932949\n",
       "34    4.019348\n",
       "35    3.997213\n",
       "36    7.000000\n",
       "37    3.848086\n",
       "38    3.960276\n",
       "39    3.986254\n",
       "40    3.956147\n",
       "41    3.951338\n",
       "42    4.075671\n",
       "43    4.300000\n",
       "44    3.982425\n",
       "45    4.032447\n",
       "46    3.931948\n",
       "Name: no_of_pictures, dtype: float64"
      ]
     },
     "execution_count": 91,
     "metadata": {},
     "output_type": "execute_result"
    }
   ],
   "source": [
    "combined_data[combined_data['sold_flag'] == 1].groupby('maker')['no_of_pictures'].mean()"
   ]
  },
  {
   "cell_type": "markdown",
   "id": "71d70e32",
   "metadata": {},
   "source": [
    "#### Except rolls-royce, there is no noticable difference between uploading photos and not"
   ]
  },
  {
   "cell_type": "markdown",
   "id": "5be9ee6f",
   "metadata": {},
   "source": [
    "##  5.\tAs a quick win, can you create rule-sets using advertisement heuristics which could be applied to filter out Ads which are bad in quality?"
   ]
  },
  {
   "cell_type": "markdown",
   "id": "add0f504",
   "metadata": {},
   "source": [
    "1. manufacture_year < 1900\n",
    "2. door_count > 7\n",
    "3. seat_count > 12\n",
    "4. price <= mean * 1.5\n",
    "5. mileage <= mean * 1.5\n",
    "6. no_of_pictures = 0\n",
    "7. maker is NaN\n",
    "8. fuel_type is NaN"
   ]
  },
  {
   "cell_type": "code",
   "execution_count": 126,
   "id": "a6dba106",
   "metadata": {},
   "outputs": [],
   "source": [
    "filter_ads = combined_data_copy[(combined_data_copy['manufacture_year'] >= 1900) & (combined_data_copy['door_count'].astype(int) <= 7) & (combined_data_copy['seat_count'].astype(int) <= 12) & (combined_data_copy['no_of_pictures'] != 0) & (combined_data_copy['maker'].notnull()) & (combined_data_copy['fuel_type'].notnull()) & (combined_data_copy['mileage'] <= combined_data_copy['mileage'].mean() * 1.5) & (combined_data_copy['price_eur'] <= combined_data_copy['price_eur'].mean() * 1.5)]"
   ]
  },
  {
   "cell_type": "code",
   "execution_count": 127,
   "id": "d1aba3c0",
   "metadata": {},
   "outputs": [
    {
     "data": {
      "text/plain": [
       "(483137, 22)"
      ]
     },
     "execution_count": 127,
     "metadata": {},
     "output_type": "execute_result"
    }
   ],
   "source": [
    "filter_ads.shape"
   ]
  },
  {
   "cell_type": "markdown",
   "id": "ef2af06a",
   "metadata": {},
   "source": [
    "## 6. What are the top 3 features that you have created using the columns given in the data? What is your criteria of choosing Top 3 features?"
   ]
  },
  {
   "cell_type": "code",
   "execution_count": null,
   "id": "5c2696d4",
   "metadata": {},
   "outputs": [],
   "source": [
    "model = DecisionTreeClassifier()\n",
    "model.fit(X, y)"
   ]
  },
  {
   "cell_type": "code",
   "execution_count": null,
   "id": "2937eeb2",
   "metadata": {},
   "outputs": [],
   "source": [
    "importance = model.feature_importances_\n",
    "\n",
    "for i,v in enumerate(importance):\n",
    "    print('Feature:', X.columns[i], 'Score:', round(v, 6))\n",
    "# plot feature importance\n",
    "plt.bar([x for x in range(len(importance))], importance)\n",
    "plt.show()"
   ]
  },
  {
   "cell_type": "markdown",
   "id": "b2105c29",
   "metadata": {},
   "source": [
    "#### Based on Decision tree model, we have identified these 3 as top features. Also by EDA we were able to identify the same\n",
    "1. mileage\n",
    "2. price_eur\n",
    "3. manufacture_year   \n"
   ]
  },
  {
   "cell_type": "markdown",
   "id": "e45bcf67",
   "metadata": {},
   "source": [
    "## 7.\tCreate a Deep Learning Model (using architecture, platform & framework of your choice), to create a ranked list of advertisements in the current inventory which could help the company maximize their revenue."
   ]
  },
  {
   "cell_type": "markdown",
   "id": "fef2c0fc",
   "metadata": {},
   "source": [
    "## NN"
   ]
  },
  {
   "cell_type": "code",
   "execution_count": 373,
   "id": "e88e7e20",
   "metadata": {},
   "outputs": [],
   "source": [
    "model = Sequential()\n",
    "model.add(Dense(50, input_dim=16 , activation = 'sigmoid'))\n",
    "model.add(Dense(50, activation = 'sigmoid'))\n",
    "model.add(Dense(50, activation = 'sigmoid'))\n",
    "model.add(Dense(50, activation = 'sigmoid'))\n",
    "model.add(Dense(9, activation = 'sigmoid'))\n",
    "model.add(Dense(2, activation=\"softmax\"))\n",
    "sgd = optimizers.SGD(lr = 0.01)\n",
    "model.compile(optimizer = 'adam', loss = 'categorical_crossentropy', metrics = ['accuracy'])"
   ]
  },
  {
   "cell_type": "code",
   "execution_count": 374,
   "id": "1725d359",
   "metadata": {},
   "outputs": [
    {
     "name": "stdout",
     "output_type": "stream",
     "text": [
      "Epoch 1/5\n",
      "WARNING:tensorflow:6 out of the last 60 calls to <function Model.make_train_function.<locals>.train_function at 0x0000020DB800D1F0> triggered tf.function retracing. Tracing is expensive and the excessive number of tracings could be due to (1) creating @tf.function repeatedly in a loop, (2) passing tensors with different shapes, (3) passing Python objects instead of tensors. For (1), please define your @tf.function outside of the loop. For (2), @tf.function has experimental_relax_shapes=True option that relaxes argument shapes that can avoid unnecessary retracing. For (3), please refer to https://www.tensorflow.org/guide/function#controlling_retracing and https://www.tensorflow.org/api_docs/python/tf/function for  more details.\n",
      "4276/4276 [==============================] - 12s 2ms/step - loss: 0.6936 - accuracy: 0.5018\n",
      "Epoch 2/5\n",
      "4276/4276 [==============================] - 9s 2ms/step - loss: 0.6933 - accuracy: 0.5026\n",
      "Epoch 3/5\n",
      "4276/4276 [==============================] - 10s 2ms/step - loss: 0.6931 - accuracy: 0.5029\n",
      "Epoch 4/5\n",
      "4276/4276 [==============================] - 10s 2ms/step - loss: 0.6930 - accuracy: 0.5041\n",
      "Epoch 5/5\n",
      "4276/4276 [==============================] - 10s 2ms/step - loss: 0.6930 - accuracy: 0.5045\n"
     ]
    },
    {
     "data": {
      "text/plain": [
       "<keras.callbacks.History at 0x20db80082b0>"
      ]
     },
     "execution_count": 374,
     "metadata": {},
     "output_type": "execute_result"
    }
   ],
   "source": [
    "model.fit(X_train_sm, y_train_sm_c, batch_size = 200, epochs = 3, verbose = 1)"
   ]
  },
  {
   "cell_type": "markdown",
   "id": "58a91412",
   "metadata": {},
   "source": [
    "#### Add weight initializer"
   ]
  },
  {
   "cell_type": "code",
   "execution_count": 376,
   "id": "92c3c99c",
   "metadata": {},
   "outputs": [],
   "source": [
    "model = Sequential()\n",
    "model.add(Dense(50, input_dim = 16, activation = 'sigmoid', kernel_initializer = 'he_normal'))\n",
    "model.add(Dense(50, activation = 'sigmoid', kernel_initializer = 'he_normal'))\n",
    "model.add(Dense(50, activation = 'sigmoid', kernel_initializer = 'he_normal'))\n",
    "model.add(Dense(50, activation = 'sigmoid', kernel_initializer = 'he_normal'))\n",
    "model.add(Dense(50, activation = 'sigmoid', kernel_initializer = 'he_normal'))\n",
    "model.add(Dense(9, activation = 'sigmoid', kernel_initializer = 'he_normal'))\n",
    "model.add(Dense(2, activation=\"softmax\"))\n",
    "sgd = optimizers.SGD(lr = 0.01)\n",
    "model.compile(optimizer = 'adam', loss = 'categorical_crossentropy', metrics = ['accuracy'])"
   ]
  },
  {
   "cell_type": "code",
   "execution_count": 377,
   "id": "08fca232",
   "metadata": {},
   "outputs": [
    {
     "name": "stdout",
     "output_type": "stream",
     "text": [
      "Epoch 1/3\n",
      "4276/4276 [==============================] - 11s 3ms/step - loss: 0.6935 - accuracy: 0.5002\n",
      "Epoch 2/3\n",
      "4276/4276 [==============================] - 12s 3ms/step - loss: 0.6932 - accuracy: 0.5026\n",
      "Epoch 3/3\n",
      "4276/4276 [==============================] - 13s 3ms/step - loss: 0.6930 - accuracy: 0.5045\n"
     ]
    },
    {
     "data": {
      "text/plain": [
       "<keras.callbacks.History at 0x20e6325aa90>"
      ]
     },
     "execution_count": 377,
     "metadata": {},
     "output_type": "execute_result"
    }
   ],
   "source": [
    "model.fit(X_train_sm, y_train_sm_c, batch_size = 200, epochs = 3, verbose = 1)"
   ]
  },
  {
   "cell_type": "markdown",
   "id": "baf381e7",
   "metadata": {},
   "source": [
    "### Change activation function"
   ]
  },
  {
   "cell_type": "code",
   "execution_count": 379,
   "id": "9faa2d1b",
   "metadata": {},
   "outputs": [],
   "source": [
    "model = Sequential()\n",
    "model.add(Dense(50, input_dim = 16, activation = 'relu'))\n",
    "model.add(Dense(50, activation = 'relu'))\n",
    "model.add(Dense(50, activation = 'relu'))\n",
    "model.add(Dense(50, activation = 'relu'))\n",
    "model.add(Dense(50, activation = 'relu'))\n",
    "model.add(Dense(9, activation = 'relu'))\n",
    "model.add(Dense(2, activation=\"softmax\"))\n",
    "sgd = optimizers.SGD(lr = 0.01)\n",
    "model.compile(optimizer = sgd, loss = 'categorical_crossentropy', metrics = ['accuracy'])\n"
   ]
  },
  {
   "cell_type": "code",
   "execution_count": 380,
   "id": "a079961d",
   "metadata": {},
   "outputs": [
    {
     "name": "stdout",
     "output_type": "stream",
     "text": [
      "Epoch 1/3\n",
      "4276/4276 [==============================] - 12s 3ms/step - loss: 0.6932 - accuracy: 0.5019\n",
      "Epoch 2/3\n",
      "4276/4276 [==============================] - 12s 3ms/step - loss: 0.6930 - accuracy: 0.5066\n",
      "Epoch 3/3\n",
      "4276/4276 [==============================] - 11s 3ms/step - loss: 0.6929 - accuracy: 0.5080\n"
     ]
    },
    {
     "data": {
      "text/plain": [
       "<keras.callbacks.History at 0x20db7e7c640>"
      ]
     },
     "execution_count": 380,
     "metadata": {},
     "output_type": "execute_result"
    }
   ],
   "source": [
    "model.fit(X_train_sm, y_train_sm_c, batch_size = 200, epochs = 3, verbose = 1)"
   ]
  },
  {
   "cell_type": "markdown",
   "id": "bd902774",
   "metadata": {},
   "source": [
    "### Add batch normalization"
   ]
  },
  {
   "cell_type": "code",
   "execution_count": 383,
   "id": "f1115fc7",
   "metadata": {},
   "outputs": [],
   "source": [
    "model = Sequential()\n",
    "model.add(Dense(50, input_dim = 16, activation = 'relu', kernel_initializer='he_normal'))\n",
    "model.add(BatchNormalization())\n",
    "model.add(Dense(50, activation = 'relu', kernel_initializer='he_normal'))\n",
    "model.add(BatchNormalization())\n",
    "model.add(Dense(50, activation = 'relu', kernel_initializer='he_normal'))\n",
    "model.add(BatchNormalization())\n",
    "model.add(Dense(50, activation = 'relu', kernel_initializer='he_normal'))\n",
    "model.add(BatchNormalization())\n",
    "model.add(Dense(50, activation = 'relu', kernel_initializer='he_normal'))\n",
    "model.add(BatchNormalization())\n",
    "model.add(Dense(9, activation = 'relu', kernel_initializer='he_normal'))\n",
    "model.add(Dense(2, activation=\"softmax\"))\n",
    "sgd = optimizers.SGD(lr = 0.01)\n",
    "model.compile(optimizer = sgd, loss = 'categorical_crossentropy', metrics = ['accuracy'])"
   ]
  },
  {
   "cell_type": "code",
   "execution_count": 384,
   "id": "79674f64",
   "metadata": {},
   "outputs": [
    {
     "name": "stdout",
     "output_type": "stream",
     "text": [
      "Epoch 1/3\n",
      "4276/4276 [==============================] - 34s 8ms/step - loss: 0.7025 - accuracy: 0.5067\n",
      "Epoch 2/3\n",
      "4276/4276 [==============================] - 33s 8ms/step - loss: 0.6927 - accuracy: 0.5115\n",
      "Epoch 3/3\n",
      "4276/4276 [==============================] - 33s 8ms/step - loss: 0.6923 - accuracy: 0.5142\n"
     ]
    },
    {
     "data": {
      "text/plain": [
       "<keras.callbacks.History at 0x20d9f37a250>"
      ]
     },
     "execution_count": 384,
     "metadata": {},
     "output_type": "execute_result"
    }
   ],
   "source": [
    "model.fit(X_train_sm, y_train_sm_c, batch_size = 200, epochs = 3, verbose = 1)"
   ]
  },
  {
   "cell_type": "markdown",
   "id": "02380df3",
   "metadata": {},
   "source": [
    "### Add Dropout"
   ]
  },
  {
   "cell_type": "code",
   "execution_count": 540,
   "id": "eeb138ca",
   "metadata": {},
   "outputs": [],
   "source": [
    "model = Sequential()\n",
    "model.add(Dense(50, input_dim = 16, activation = 'relu', kernel_initializer='he_normal'))\n",
    "model.add(BatchNormalization())\n",
    "model.add(Dropout(0.2))\n",
    "model.add(Dense(50, activation = 'relu', kernel_initializer='he_normal'))\n",
    "model.add(BatchNormalization())\n",
    "model.add(Dropout(0.2))\n",
    "model.add(Dense(50, activation = 'relu', kernel_initializer='he_normal'))\n",
    "model.add(BatchNormalization())\n",
    "model.add(Dropout(0.2))\n",
    "model.add(Dense(50, activation = 'relu', kernel_initializer='he_normal'))\n",
    "model.add(BatchNormalization())\n",
    "model.add(Dropout(0.2))\n",
    "model.add(Dense(50, activation = 'relu', kernel_initializer='he_normal'))\n",
    "model.add(BatchNormalization())\n",
    "model.add(Dropout(0.2))\n",
    "model.add(Dense(9, activation = 'relu', kernel_initializer='he_normal'))\n",
    "model.add(Dense(2, activation=\"softmax\"))\n",
    "sgd = optimizers.SGD(lr = 0.01)\n",
    "model.compile(optimizer = 'adam', loss = 'categorical_crossentropy', metrics = ['accuracy'])"
   ]
  },
  {
   "cell_type": "code",
   "execution_count": 541,
   "id": "68767fdf",
   "metadata": {},
   "outputs": [
    {
     "name": "stdout",
     "output_type": "stream",
     "text": [
      "Epoch 1/50\n",
      "4276/4276 [==============================] - 30s 7ms/step - loss: 0.6993 - accuracy: 0.5013 - val_loss: 0.6987 - val_accuracy: 0.2590\n",
      "Epoch 2/50\n",
      "4276/4276 [==============================] - 27s 6ms/step - loss: 0.6932 - accuracy: 0.5047 - val_loss: 0.7039 - val_accuracy: 0.2111\n",
      "Epoch 3/50\n",
      "4276/4276 [==============================] - 27s 6ms/step - loss: 0.6927 - accuracy: 0.5101 - val_loss: 0.6963 - val_accuracy: 0.3353\n",
      "Epoch 4/50\n",
      "4276/4276 [==============================] - 30s 7ms/step - loss: 0.6922 - accuracy: 0.5165 - val_loss: 0.7072 - val_accuracy: 0.3160\n",
      "Epoch 5/50\n",
      "4276/4276 [==============================] - 32s 8ms/step - loss: 0.6916 - accuracy: 0.5219 - val_loss: 0.6954 - val_accuracy: 0.3966\n",
      "Epoch 6/50\n",
      "4276/4276 [==============================] - 33s 8ms/step - loss: 0.6909 - accuracy: 0.5270 - val_loss: 0.6989 - val_accuracy: 0.3995\n",
      "Epoch 7/50\n",
      "4276/4276 [==============================] - 34s 8ms/step - loss: 0.6902 - accuracy: 0.5304 - val_loss: 0.7048 - val_accuracy: 0.3832\n",
      "Epoch 8/50\n",
      "4276/4276 [==============================] - 34s 8ms/step - loss: 0.6892 - accuracy: 0.5359 - val_loss: 0.7083 - val_accuracy: 0.3944\n",
      "Epoch 9/50\n",
      "4276/4276 [==============================] - 34s 8ms/step - loss: 0.6885 - accuracy: 0.5390 - val_loss: 0.7099 - val_accuracy: 0.3897\n",
      "Epoch 10/50\n",
      "4276/4276 [==============================] - 32s 7ms/step - loss: 0.6880 - accuracy: 0.5406 - val_loss: 0.7244 - val_accuracy: 0.3157\n",
      "Epoch 11/50\n",
      "4276/4276 [==============================] - 33s 8ms/step - loss: 0.6876 - accuracy: 0.5427 - val_loss: 0.7006 - val_accuracy: 0.4189\n",
      "Epoch 12/50\n",
      "4276/4276 [==============================] - 35s 8ms/step - loss: 0.6874 - accuracy: 0.5436 - val_loss: 0.7093 - val_accuracy: 0.4070\n",
      "Epoch 13/50\n",
      "4276/4276 [==============================] - 36s 8ms/step - loss: 0.6863 - accuracy: 0.5475 - val_loss: 0.6992 - val_accuracy: 0.4438\n",
      "Epoch 14/50\n",
      "4276/4276 [==============================] - 34s 8ms/step - loss: 0.6857 - accuracy: 0.5498 - val_loss: 0.7062 - val_accuracy: 0.4367\n",
      "Epoch 15/50\n",
      "4276/4276 [==============================] - 37s 9ms/step - loss: 0.6854 - accuracy: 0.5500 - val_loss: 0.7071 - val_accuracy: 0.4293\n",
      "Epoch 16/50\n",
      "4276/4276 [==============================] - 38s 9ms/step - loss: 0.6851 - accuracy: 0.5512 - val_loss: 0.6945 - val_accuracy: 0.4546\n",
      "Epoch 17/50\n",
      "4276/4276 [==============================] - 35s 8ms/step - loss: 0.6847 - accuracy: 0.5521 - val_loss: 0.7036 - val_accuracy: 0.4417\n",
      "Epoch 18/50\n",
      "4276/4276 [==============================] - 35s 8ms/step - loss: 0.6830 - accuracy: 0.5542 - val_loss: 0.6998 - val_accuracy: 0.4546\n",
      "Epoch 19/50\n",
      "4276/4276 [==============================] - 33s 8ms/step - loss: 0.6769 - accuracy: 0.5556 - val_loss: 0.6977 - val_accuracy: 0.4585\n",
      "Epoch 20/50\n",
      "4276/4276 [==============================] - 37s 9ms/step - loss: 0.6745 - accuracy: 0.5577 - val_loss: 0.6849 - val_accuracy: 0.5057\n",
      "Epoch 21/50\n",
      "4276/4276 [==============================] - 39s 9ms/step - loss: 0.6735 - accuracy: 0.5586 - val_loss: 0.6944 - val_accuracy: 0.4671\n",
      "Epoch 22/50\n",
      "4276/4276 [==============================] - 39s 9ms/step - loss: 0.6727 - accuracy: 0.5598 - val_loss: 0.6920 - val_accuracy: 0.4873\n",
      "Epoch 23/50\n",
      "4276/4276 [==============================] - 38s 9ms/step - loss: 0.6721 - accuracy: 0.5604 - val_loss: 0.6926 - val_accuracy: 0.4796\n",
      "Epoch 24/50\n",
      "4276/4276 [==============================] - 42s 10ms/step - loss: 0.6714 - accuracy: 0.5614 - val_loss: 0.6884 - val_accuracy: 0.4968\n",
      "Epoch 25/50\n",
      "4276/4276 [==============================] - 51s 12ms/step - loss: 0.6710 - accuracy: 0.5626 - val_loss: 0.6920 - val_accuracy: 0.5018\n",
      "Epoch 26/50\n",
      "4276/4276 [==============================] - 56s 13ms/step - loss: 0.6694 - accuracy: 0.5631 - val_loss: 0.6914 - val_accuracy: 0.4860\n",
      "Epoch 27/50\n",
      "4276/4276 [==============================] - 54s 13ms/step - loss: 0.6639 - accuracy: 0.5660 - val_loss: 0.6757 - val_accuracy: 0.5474\n",
      "Epoch 28/50\n",
      "4276/4276 [==============================] - 55s 13ms/step - loss: 0.6604 - accuracy: 0.5676 - val_loss: 0.6825 - val_accuracy: 0.5319\n",
      "Epoch 29/50\n",
      "4276/4276 [==============================] - 54s 13ms/step - loss: 0.6581 - accuracy: 0.5702 - val_loss: 0.6864 - val_accuracy: 0.5049\n",
      "Epoch 30/50\n",
      "4276/4276 [==============================] - 56s 13ms/step - loss: 0.6569 - accuracy: 0.5713 - val_loss: 0.6731 - val_accuracy: 0.5405\n",
      "Epoch 31/50\n",
      "4276/4276 [==============================] - 55s 13ms/step - loss: 0.6559 - accuracy: 0.5728 - val_loss: 0.6851 - val_accuracy: 0.5352\n",
      "Epoch 32/50\n",
      "4276/4276 [==============================] - 56s 13ms/step - loss: 0.6555 - accuracy: 0.5727 - val_loss: 0.6907 - val_accuracy: 0.5151\n",
      "Epoch 33/50\n",
      "4276/4276 [==============================] - 55s 13ms/step - loss: 0.6550 - accuracy: 0.5734 - val_loss: 0.7411 - val_accuracy: 0.4632\n",
      "Epoch 34/50\n",
      "4276/4276 [==============================] - 55s 13ms/step - loss: 0.6549 - accuracy: 0.5737 - val_loss: 0.7159 - val_accuracy: 0.5178\n",
      "Epoch 35/50\n",
      "4276/4276 [==============================] - 55s 13ms/step - loss: 0.6546 - accuracy: 0.5745 - val_loss: 0.8400 - val_accuracy: 0.4490\n",
      "Epoch 36/50\n",
      "4276/4276 [==============================] - 51s 12ms/step - loss: 0.6534 - accuracy: 0.5759 - val_loss: 0.6974 - val_accuracy: 0.4966\n",
      "Epoch 37/50\n",
      "4276/4276 [==============================] - 50s 12ms/step - loss: 0.6536 - accuracy: 0.5759 - val_loss: 0.7408 - val_accuracy: 0.5046\n",
      "Epoch 38/50\n",
      "4276/4276 [==============================] - 51s 12ms/step - loss: 0.6531 - accuracy: 0.5760 - val_loss: 0.8971 - val_accuracy: 0.4419\n",
      "Epoch 39/50\n",
      "4276/4276 [==============================] - 48s 11ms/step - loss: 0.6524 - accuracy: 0.5775 - val_loss: 0.6909 - val_accuracy: 0.4801\n",
      "Epoch 40/50\n",
      "4276/4276 [==============================] - 48s 11ms/step - loss: 0.6526 - accuracy: 0.5781 - val_loss: 0.7478 - val_accuracy: 0.4555\n",
      "Epoch 41/50\n",
      "4276/4276 [==============================] - 49s 11ms/step - loss: 0.6521 - accuracy: 0.5784 - val_loss: 0.7267 - val_accuracy: 0.5006\n",
      "Epoch 42/50\n",
      "4276/4276 [==============================] - 49s 12ms/step - loss: 0.6518 - accuracy: 0.5787 - val_loss: 0.7106 - val_accuracy: 0.5117\n",
      "Epoch 43/50\n",
      "4276/4276 [==============================] - 49s 11ms/step - loss: 0.6515 - accuracy: 0.5793 - val_loss: 0.8644 - val_accuracy: 0.4552\n",
      "Epoch 44/50\n",
      "4276/4276 [==============================] - 49s 12ms/step - loss: 0.6513 - accuracy: 0.5794 - val_loss: 0.7831 - val_accuracy: 0.4872\n",
      "Epoch 45/50\n",
      "4276/4276 [==============================] - 50s 12ms/step - loss: 0.6508 - accuracy: 0.5807 - val_loss: 1.0261 - val_accuracy: 0.4470\n",
      "Epoch 46/50\n",
      "4276/4276 [==============================] - 49s 12ms/step - loss: 0.6496 - accuracy: 0.5814 - val_loss: 1.2721 - val_accuracy: 0.3529\n",
      "Epoch 47/50\n",
      "4276/4276 [==============================] - 55s 13ms/step - loss: 0.6461 - accuracy: 0.5802 - val_loss: 0.9072 - val_accuracy: 0.4835\n",
      "Epoch 48/50\n",
      "4276/4276 [==============================] - 55s 13ms/step - loss: 0.6440 - accuracy: 0.5830 - val_loss: 1.0091 - val_accuracy: 0.5028\n",
      "Epoch 49/50\n",
      "4276/4276 [==============================] - 55s 13ms/step - loss: 0.6428 - accuracy: 0.5849 - val_loss: 1.1615 - val_accuracy: 0.4786\n",
      "Epoch 50/50\n",
      "4276/4276 [==============================] - 55s 13ms/step - loss: 0.6422 - accuracy: 0.5852 - val_loss: 0.7510 - val_accuracy: 0.4840\n"
     ]
    }
   ],
   "source": [
    "history = model.fit(X_train_sm, y_train_sm_c, batch_size = 200, epochs = 50, verbose = 1, validation_data=(X_test, y_test_c))"
   ]
  },
  {
   "cell_type": "code",
   "execution_count": 542,
   "id": "e2870e9f",
   "metadata": {},
   "outputs": [],
   "source": [
    "predictions = np.argmax(model.predict(X_test),axis=1)"
   ]
  },
  {
   "cell_type": "code",
   "execution_count": null,
   "id": "16ba1c95",
   "metadata": {},
   "outputs": [],
   "source": []
  },
  {
   "cell_type": "code",
   "execution_count": 543,
   "id": "9ffde65a",
   "metadata": {},
   "outputs": [
    {
     "data": {
      "text/plain": [
       "<AxesSubplot:>"
      ]
     },
     "execution_count": 543,
     "metadata": {},
     "output_type": "execute_result"
    },
    {
     "data": {
      "image/png": "[encoded data removed]",
      "text/plain": [
       "<Figure size 504x360 with 2 Axes>"
      ]
     },
     "metadata": {
      "needs_background": "light"
     },
     "output_type": "display_data"
    }
   ],
   "source": [
    "cm=confusion_matrix(y_test, predictions,labels=[0, 1])\n",
    "\n",
    "df_cm = pd.DataFrame(cm, index = [i for i in [\"0\",\"1\"]],\n",
    "                  columns = [i for i in [\"0\",\"1\"]])\n",
    "plt.figure(figsize = (7,5))\n",
    "sns.heatmap(df_cm, annot=True ,fmt='g')"
   ]
  },
  {
   "cell_type": "markdown",
   "id": "64e8e823",
   "metadata": {},
   "source": [
    "## 8.\tHow did you measure the accuracy of your model? How did you identify that your model didn’t under/ over fit? Please share some visualizations and your interpretation/findings from the same."
   ]
  },
  {
   "cell_type": "code",
   "execution_count": 544,
   "id": "95aedcbc",
   "metadata": {},
   "outputs": [],
   "source": [
    "precision, recall, fscore, support = score(y_test, predictions)"
   ]
  },
  {
   "cell_type": "code",
   "execution_count": 545,
   "id": "1d677029",
   "metadata": {},
   "outputs": [
    {
     "name": "stdout",
     "output_type": "stream",
     "text": [
      "precision: [0.80477865 0.20026744]\n",
      "recall: [0.47535335 0.53257283]\n",
      "fscore: [0.59767934 0.29107843]\n",
      "support: [142494  35152]\n"
     ]
    }
   ],
   "source": [
    "print('precision: {}'.format(precision))\n",
    "print('recall: {}'.format(recall))\n",
    "print('fscore: {}'.format(fscore))\n",
    "print('support: {}'.format(support))"
   ]
  },
  {
   "cell_type": "code",
   "execution_count": 546,
   "id": "4a6a80d5",
   "metadata": {},
   "outputs": [],
   "source": [
    "sold_probability = model.predict(X_test)\n",
    "\n",
    "sold_out = []\n",
    "for i in sold_probability:\n",
    "    sold_out.append(i[1])"
   ]
  },
  {
   "cell_type": "code",
   "execution_count": 555,
   "id": "7505a91f",
   "metadata": {},
   "outputs": [],
   "source": [
    "X_test_dataset['Rank'] = sold_out\n",
    "X_test_dataset['Sold_flag'] = y_test\n",
    "X_test_dataset['Predicted_flag'] = np.argmax(sold_probability, axis=-1)"
   ]
  },
  {
   "cell_type": "code",
   "execution_count": 508,
   "id": "e067f766",
   "metadata": {},
   "outputs": [],
   "source": [
    "# maker = LabelEncoder()\n",
    "# combined_data['maker'] = maker.inverse_transform(combined_data['maker']) \n",
    "# model = LabelEncoder()\n",
    "# combined_data['model'] = model.inverse_transform(combined_data['model']) \n",
    "# body_type = LabelEncoder()\n",
    "# combined_data['body_type'] = body_type.inverse_transform(combined_data['body_type']) \n",
    "# transmission = LabelEncoder()\n",
    "# combined_data['transmission'] = transmission.inverse_transform(combined_data['transmission']) \n",
    "# fuel_type = LabelEncoder()\n",
    "# combined_data['fuel_type'] = fuel_type.inverse_transform(combined_data['fuel_type']) "
   ]
  },
  {
   "cell_type": "code",
   "execution_count": 549,
   "id": "01b1db96",
   "metadata": {},
   "outputs": [
    {
     "data": {
      "image/png": "[encoded data removed]",
      "text/plain": [
       "<Figure size 432x288 with 1 Axes>"
      ]
     },
     "metadata": {
      "needs_background": "light"
     },
     "output_type": "display_data"
    }
   ],
   "source": [
    "loss_train = history.history['loss']\n",
    "loss_val = history.history['val_loss']\n",
    "epochs = range(1,51)\n",
    "plt.plot(epochs, loss_train, 'g', label='Training loss')\n",
    "plt.plot(epochs, loss_val, 'b', label='validation loss')\n",
    "plt.title('Training and Validation loss')\n",
    "plt.xlabel('Epochs')\n",
    "plt.ylabel('Loss')\n",
    "plt.legend()\n",
    "plt.show()"
   ]
  },
  {
   "cell_type": "code",
   "execution_count": 551,
   "id": "e50019a3",
   "metadata": {},
   "outputs": [
    {
     "data": {
      "image/png": "[encoded data removed]",
      "text/plain": [
       "<Figure size 432x288 with 1 Axes>"
      ]
     },
     "metadata": {
      "needs_background": "light"
     },
     "output_type": "display_data"
    }
   ],
   "source": [
    "loss_train = history.history['accuracy']\n",
    "loss_val = history.history['val_accuracy']\n",
    "epochs = range(1,51)\n",
    "plt.plot(epochs, loss_train, 'g', label='Training accuracy')\n",
    "plt.plot(epochs, loss_val, 'b', label='validation accuracy')\n",
    "plt.title('Training and Validation accuracy')\n",
    "plt.xlabel('Epochs')\n",
    "plt.ylabel('Accuracy')\n",
    "plt.legend()\n",
    "plt.show()"
   ]
  },
  {
   "cell_type": "markdown",
   "id": "98a9f469",
   "metadata": {},
   "source": [
    "### 30 epochs seem to be appropriate"
   ]
  },
  {
   "cell_type": "markdown",
   "id": "327d23fa",
   "metadata": {},
   "source": [
    "## 9.\tSuppose, till now, the company was ranking the advertisements in a descending order on the basis of date_last_seen, so can you demonstrate the lift in performance of your model as compared to the current ranking criteria?"
   ]
  },
  {
   "cell_type": "code",
   "execution_count": 565,
   "id": "516add55",
   "metadata": {},
   "outputs": [],
   "source": [
    "X_test_dataset = X_test_dataset.sort_values(by = 'Rank', ascending = False)"
   ]
  },
  {
   "cell_type": "code",
   "execution_count": 566,
   "id": "a276f105",
   "metadata": {},
   "outputs": [
    {
     "data": {
      "text/html": [
       "<div>\n",
       "<style scoped>\n",
       "    .dataframe tbody tr th:only-of-type {\n",
       "        vertical-align: middle;\n",
       "    }\n",
       "\n",
       "    .dataframe tbody tr th {\n",
       "        vertical-align: top;\n",
       "    }\n",
       "\n",
       "    .dataframe thead th {\n",
       "        text-align: right;\n",
       "    }\n",
       "</style>\n",
       "<table border=\"1\" class=\"dataframe\">\n",
       "  <thead>\n",
       "    <tr style=\"text-align: right;\">\n",
       "      <th></th>\n",
       "      <th>maker</th>\n",
       "      <th>model</th>\n",
       "      <th>mileage</th>\n",
       "      <th>manufacture_year</th>\n",
       "      <th>engine_displacement</th>\n",
       "      <th>engine_power</th>\n",
       "      <th>body_type</th>\n",
       "      <th>transmission</th>\n",
       "      <th>door_count</th>\n",
       "      <th>seat_count</th>\n",
       "      <th>fuel_type</th>\n",
       "      <th>price_eur</th>\n",
       "      <th>height_of_picture</th>\n",
       "      <th>width_of_picture</th>\n",
       "      <th>aspect_ratio</th>\n",
       "      <th>no_of_pictures</th>\n",
       "      <th>Sold_flag</th>\n",
       "      <th>Rank</th>\n",
       "      <th>Predicted_flag</th>\n",
       "    </tr>\n",
       "  </thead>\n",
       "  <tbody>\n",
       "    <tr>\n",
       "      <th>515294</th>\n",
       "      <td>32</td>\n",
       "      <td>600</td>\n",
       "      <td>5.0</td>\n",
       "      <td>0.0</td>\n",
       "      <td>1364.0</td>\n",
       "      <td>103.0</td>\n",
       "      <td>6</td>\n",
       "      <td>1</td>\n",
       "      <td>0</td>\n",
       "      <td>0</td>\n",
       "      <td>3</td>\n",
       "      <td>1295.34</td>\n",
       "      <td>60.0</td>\n",
       "      <td>468.0</td>\n",
       "      <td>7.8000</td>\n",
       "      <td>7</td>\n",
       "      <td>0</td>\n",
       "      <td>0.999908</td>\n",
       "      <td>1</td>\n",
       "    </tr>\n",
       "    <tr>\n",
       "      <th>547050</th>\n",
       "      <td>32</td>\n",
       "      <td>582</td>\n",
       "      <td>95450.0</td>\n",
       "      <td>2005.0</td>\n",
       "      <td>1598.0</td>\n",
       "      <td>74.0</td>\n",
       "      <td>4</td>\n",
       "      <td>1</td>\n",
       "      <td>0</td>\n",
       "      <td>0</td>\n",
       "      <td>3</td>\n",
       "      <td>1295.34</td>\n",
       "      <td>60.0</td>\n",
       "      <td>468.0</td>\n",
       "      <td>7.8000</td>\n",
       "      <td>7</td>\n",
       "      <td>0</td>\n",
       "      <td>0.999880</td>\n",
       "      <td>1</td>\n",
       "    </tr>\n",
       "    <tr>\n",
       "      <th>222577</th>\n",
       "      <td>0</td>\n",
       "      <td>166</td>\n",
       "      <td>0.0</td>\n",
       "      <td>1992.0</td>\n",
       "      <td>300.0</td>\n",
       "      <td>25.0</td>\n",
       "      <td>7</td>\n",
       "      <td>1</td>\n",
       "      <td>0</td>\n",
       "      <td>0</td>\n",
       "      <td>3</td>\n",
       "      <td>1295.34</td>\n",
       "      <td>42.0</td>\n",
       "      <td>125.0</td>\n",
       "      <td>2.9761</td>\n",
       "      <td>7</td>\n",
       "      <td>0</td>\n",
       "      <td>0.999818</td>\n",
       "      <td>1</td>\n",
       "    </tr>\n",
       "    <tr>\n",
       "      <th>4342</th>\n",
       "      <td>31</td>\n",
       "      <td>523</td>\n",
       "      <td>1.0</td>\n",
       "      <td>2016.0</td>\n",
       "      <td>1200.0</td>\n",
       "      <td>85.0</td>\n",
       "      <td>7</td>\n",
       "      <td>1</td>\n",
       "      <td>0</td>\n",
       "      <td>0</td>\n",
       "      <td>3</td>\n",
       "      <td>1295.34</td>\n",
       "      <td>60.0</td>\n",
       "      <td>468.0</td>\n",
       "      <td>7.8000</td>\n",
       "      <td>7</td>\n",
       "      <td>1</td>\n",
       "      <td>0.999692</td>\n",
       "      <td>1</td>\n",
       "    </tr>\n",
       "    <tr>\n",
       "      <th>295706</th>\n",
       "      <td>39</td>\n",
       "      <td>628</td>\n",
       "      <td>92018.0</td>\n",
       "      <td>2014.0</td>\n",
       "      <td>1395.0</td>\n",
       "      <td>81.0</td>\n",
       "      <td>4</td>\n",
       "      <td>1</td>\n",
       "      <td>0</td>\n",
       "      <td>0</td>\n",
       "      <td>3</td>\n",
       "      <td>1295.34</td>\n",
       "      <td>51.0</td>\n",
       "      <td>110.0</td>\n",
       "      <td>2.1020</td>\n",
       "      <td>7</td>\n",
       "      <td>0</td>\n",
       "      <td>0.999685</td>\n",
       "      <td>1</td>\n",
       "    </tr>\n",
       "    <tr>\n",
       "      <th>...</th>\n",
       "      <td>...</td>\n",
       "      <td>...</td>\n",
       "      <td>...</td>\n",
       "      <td>...</td>\n",
       "      <td>...</td>\n",
       "      <td>...</td>\n",
       "      <td>...</td>\n",
       "      <td>...</td>\n",
       "      <td>...</td>\n",
       "      <td>...</td>\n",
       "      <td>...</td>\n",
       "      <td>...</td>\n",
       "      <td>...</td>\n",
       "      <td>...</td>\n",
       "      <td>...</td>\n",
       "      <td>...</td>\n",
       "      <td>...</td>\n",
       "      <td>...</td>\n",
       "      <td>...</td>\n",
       "    </tr>\n",
       "    <tr>\n",
       "      <th>237516</th>\n",
       "      <td>0</td>\n",
       "      <td>166</td>\n",
       "      <td>4500.0</td>\n",
       "      <td>1982.0</td>\n",
       "      <td>1598.0</td>\n",
       "      <td>98.0</td>\n",
       "      <td>5</td>\n",
       "      <td>1</td>\n",
       "      <td>4</td>\n",
       "      <td>5</td>\n",
       "      <td>3</td>\n",
       "      <td>11112344.67</td>\n",
       "      <td>51.0</td>\n",
       "      <td>110.0</td>\n",
       "      <td>2.1020</td>\n",
       "      <td>2</td>\n",
       "      <td>0</td>\n",
       "      <td>0.114254</td>\n",
       "      <td>0</td>\n",
       "    </tr>\n",
       "    <tr>\n",
       "      <th>322621</th>\n",
       "      <td>0</td>\n",
       "      <td>166</td>\n",
       "      <td>80700.0</td>\n",
       "      <td>0.0</td>\n",
       "      <td>1598.0</td>\n",
       "      <td>81.0</td>\n",
       "      <td>2</td>\n",
       "      <td>1</td>\n",
       "      <td>4</td>\n",
       "      <td>5</td>\n",
       "      <td>3</td>\n",
       "      <td>28722781.20</td>\n",
       "      <td>35.0</td>\n",
       "      <td>54.0</td>\n",
       "      <td>1.5428</td>\n",
       "      <td>3</td>\n",
       "      <td>0</td>\n",
       "      <td>0.103123</td>\n",
       "      <td>0</td>\n",
       "    </tr>\n",
       "    <tr>\n",
       "      <th>403812</th>\n",
       "      <td>11</td>\n",
       "      <td>101</td>\n",
       "      <td>64400.0</td>\n",
       "      <td>0.0</td>\n",
       "      <td>1248.0</td>\n",
       "      <td>59.0</td>\n",
       "      <td>2</td>\n",
       "      <td>1</td>\n",
       "      <td>5</td>\n",
       "      <td>5</td>\n",
       "      <td>3</td>\n",
       "      <td>26944857.51</td>\n",
       "      <td>45.0</td>\n",
       "      <td>100.0</td>\n",
       "      <td>2.2222</td>\n",
       "      <td>1</td>\n",
       "      <td>0</td>\n",
       "      <td>0.068305</td>\n",
       "      <td>0</td>\n",
       "    </tr>\n",
       "    <tr>\n",
       "      <th>93226</th>\n",
       "      <td>11</td>\n",
       "      <td>473</td>\n",
       "      <td>64400.0</td>\n",
       "      <td>0.0</td>\n",
       "      <td>1248.0</td>\n",
       "      <td>59.0</td>\n",
       "      <td>2</td>\n",
       "      <td>1</td>\n",
       "      <td>5</td>\n",
       "      <td>5</td>\n",
       "      <td>3</td>\n",
       "      <td>26771110.73</td>\n",
       "      <td>125.0</td>\n",
       "      <td>200.0</td>\n",
       "      <td>1.6000</td>\n",
       "      <td>6</td>\n",
       "      <td>0</td>\n",
       "      <td>0.067204</td>\n",
       "      <td>0</td>\n",
       "    </tr>\n",
       "    <tr>\n",
       "      <th>303302</th>\n",
       "      <td>11</td>\n",
       "      <td>339</td>\n",
       "      <td>64400.0</td>\n",
       "      <td>0.0</td>\n",
       "      <td>1248.0</td>\n",
       "      <td>59.0</td>\n",
       "      <td>2</td>\n",
       "      <td>1</td>\n",
       "      <td>5</td>\n",
       "      <td>5</td>\n",
       "      <td>3</td>\n",
       "      <td>26771110.73</td>\n",
       "      <td>51.0</td>\n",
       "      <td>110.0</td>\n",
       "      <td>2.1020</td>\n",
       "      <td>4</td>\n",
       "      <td>0</td>\n",
       "      <td>0.061542</td>\n",
       "      <td>0</td>\n",
       "    </tr>\n",
       "  </tbody>\n",
       "</table>\n",
       "<p>177646 rows × 19 columns</p>\n",
       "</div>"
      ],
      "text/plain": [
       "        maker  model  mileage  manufacture_year  engine_displacement  \\\n",
       "515294     32    600      5.0               0.0               1364.0   \n",
       "547050     32    582  95450.0            2005.0               1598.0   \n",
       "222577      0    166      0.0            1992.0                300.0   \n",
       "4342       31    523      1.0            2016.0               1200.0   \n",
       "295706     39    628  92018.0            2014.0               1395.0   \n",
       "...       ...    ...      ...               ...                  ...   \n",
       "237516      0    166   4500.0            1982.0               1598.0   \n",
       "322621      0    166  80700.0               0.0               1598.0   \n",
       "403812     11    101  64400.0               0.0               1248.0   \n",
       "93226      11    473  64400.0               0.0               1248.0   \n",
       "303302     11    339  64400.0               0.0               1248.0   \n",
       "\n",
       "        engine_power  body_type  transmission  door_count  seat_count  \\\n",
       "515294         103.0          6             1           0           0   \n",
       "547050          74.0          4             1           0           0   \n",
       "222577          25.0          7             1           0           0   \n",
       "4342            85.0          7             1           0           0   \n",
       "295706          81.0          4             1           0           0   \n",
       "...              ...        ...           ...         ...         ...   \n",
       "237516          98.0          5             1           4           5   \n",
       "322621          81.0          2             1           4           5   \n",
       "403812          59.0          2             1           5           5   \n",
       "93226           59.0          2             1           5           5   \n",
       "303302          59.0          2             1           5           5   \n",
       "\n",
       "        fuel_type    price_eur  height_of_picture  width_of_picture  \\\n",
       "515294          3      1295.34               60.0             468.0   \n",
       "547050          3      1295.34               60.0             468.0   \n",
       "222577          3      1295.34               42.0             125.0   \n",
       "4342            3      1295.34               60.0             468.0   \n",
       "295706          3      1295.34               51.0             110.0   \n",
       "...           ...          ...                ...               ...   \n",
       "237516          3  11112344.67               51.0             110.0   \n",
       "322621          3  28722781.20               35.0              54.0   \n",
       "403812          3  26944857.51               45.0             100.0   \n",
       "93226           3  26771110.73              125.0             200.0   \n",
       "303302          3  26771110.73               51.0             110.0   \n",
       "\n",
       "        aspect_ratio  no_of_pictures  Sold_flag      Rank  Predicted_flag  \n",
       "515294        7.8000               7          0  0.999908               1  \n",
       "547050        7.8000               7          0  0.999880               1  \n",
       "222577        2.9761               7          0  0.999818               1  \n",
       "4342          7.8000               7          1  0.999692               1  \n",
       "295706        2.1020               7          0  0.999685               1  \n",
       "...              ...             ...        ...       ...             ...  \n",
       "237516        2.1020               2          0  0.114254               0  \n",
       "322621        1.5428               3          0  0.103123               0  \n",
       "403812        2.2222               1          0  0.068305               0  \n",
       "93226         1.6000               6          0  0.067204               0  \n",
       "303302        2.1020               4          0  0.061542               0  \n",
       "\n",
       "[177646 rows x 19 columns]"
      ]
     },
     "execution_count": 566,
     "metadata": {},
     "output_type": "execute_result"
    }
   ],
   "source": [
    "X_test_dataset"
   ]
  },
  {
   "cell_type": "markdown",
   "id": "cb29c948",
   "metadata": {},
   "source": [
    "## 10.\tCan you explain in a step-by-step manner, how you performed various iterations and what impact did it have on the model accuracy?"
   ]
  },
  {
   "cell_type": "markdown",
   "id": "d262ca73",
   "metadata": {},
   "source": [
    "1. Read the data and update the missing values\n",
    "2. Treat the outliers\n",
    "3. Encoding the data\n",
    "4. Split the data into train and test (Also val if required)\n",
    "5. Scale the data\n",
    "6. Since the dataset is imbalance, we need to upscale the data\n",
    "7. Build Logistic regression model and with tuning we calcualte the accuracy\n",
    "8. Also we build NN model step by step\n",
    "    a. Add weight initializer and see if the accuracy increases\n",
    "    b. Change activation function\n",
    "    c. add Batch normalization\n",
    "    d. Add drop out\n",
    "9. Train for 50 epochs and plot for training loss and validation loss and see the graph\n",
    "10. find optimum numbers of Epochs and retrain it."
   ]
  },
  {
   "cell_type": "code",
   "execution_count": null,
   "id": "d397e54c",
   "metadata": {},
   "outputs": [],
   "source": []
  }
 ],
 "metadata": {
  "kernelspec": {
   "display_name": "Python 3",
   "language": "python",
   "name": "python3"
  },
  "language_info": {
   "codemirror_mode": {
    "name": "ipython",
    "version": 3
   },
   "file_extension": ".py",
   "mimetype": "text/x-python",
   "name": "python",
   "nbconvert_exporter": "python",
   "pygments_lexer": "ipython3",
   "version": "3.8.8"
  }
 },
 "nbformat": 4,
 "nbformat_minor": 5
}
